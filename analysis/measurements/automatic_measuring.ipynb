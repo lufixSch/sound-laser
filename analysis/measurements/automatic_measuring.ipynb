{
 "cells": [
  {
   "cell_type": "code",
   "execution_count": 5,
   "metadata": {},
   "outputs": [],
   "source": [
    "import pyvisa as visa\n",
    "import sounddevice as sd\n",
    "import numpy as np\n",
    "from time import sleep\n",
    "import wave as wav"
   ]
  },
  {
   "cell_type": "code",
   "execution_count": 2,
   "metadata": {},
   "outputs": [],
   "source": [
    "t_freq = 1    # Time per frequency\n",
    "t_pause = 0.1  # Pause between two frequencies\n",
    "n_freq = 20   # Number of different frequencies\n",
    "f_min = 500    # Minimum frequency\n",
    "f_max = 20e3  # Maximum frequency\n",
    "\n",
    "f_c = 40e3    # Carrier frequency\n",
    "\n",
    "fs = 300e3    # Samplingrate\n",
    "vf = np.linspace(f_min, f_max, n_freq)\n"
   ]
  },
  {
   "cell_type": "markdown",
   "metadata": {},
   "source": [
    "# Configure Waveform Generator"
   ]
  },
  {
   "cell_type": "code",
   "execution_count": 136,
   "metadata": {},
   "outputs": [],
   "source": [
    "def enableAWG(inst, channel: int = 1):\n",
    "  inst.write(f\"OUTP{channel} ON\")\n",
    "\n",
    "def disableAWG(inst, channel: int = 1):\n",
    "  inst.write(f\"OUTP{channel} OFF\")\n",
    "\n",
    "def configureSignal(inst, f: int, amplitude: float, offset:float, function_type: str = \"SIN\", channel: int = 1):\n",
    "  base = f\"SOUR{channel}\"\n",
    "\n",
    "  inst.write(f\"{base}:FUNC {function_type}; FREQ {int(f)}; VOLT {amplitude}\")\n",
    "  inst.write(f\"{base}:VOLT:OFFS {offset}\")\n",
    "\n",
    "def enableModulation(inst, type: str, m: float, f: int, function_type: str = \"SIN\", channel: int = 1):\n",
    "  base = f\"SOUR{channel}:{type}\"\n",
    "  inst.write(f\"{base}:STAT ON; INT:FREQ {f}\")\n",
    "\n",
    "  if type == \"AM\":\n",
    "    inst.write(f\"{base}:DEPT {int(m * 100)}\")\n",
    "    print(int(m*100))\n",
    "  elif type == \"FM\":\n",
    "    inst.write(f\"{base}:DEV {int(m)}\")\n",
    "\n",
    "def disableModulation(inst, type: str, channel: int = 1):\n",
    "  inst.write(f\"SOUR{channel}:{type}:STAT OFF\")"
   ]
  },
  {
   "cell_type": "code",
   "execution_count": 9,
   "metadata": {},
   "outputs": [
    {
     "data": {
      "text/plain": [
       "('USB0::10893::36097::CN61150030::0::INSTR',)"
      ]
     },
     "execution_count": 9,
     "metadata": {},
     "output_type": "execute_result"
    }
   ],
   "source": [
    "rm = visa.ResourceManager(\"@py\")\n",
    "resources = rm.list_resources()\n",
    "resources"
   ]
  },
  {
   "cell_type": "code",
   "execution_count": 88,
   "metadata": {},
   "outputs": [],
   "source": [
    "wav_gen_id = resources[0]\n",
    "wav_gen = rm.open_resource(wav_gen_id)"
   ]
  },
  {
   "cell_type": "markdown",
   "metadata": {},
   "source": [
    "## Set Carrier Signal"
   ]
  },
  {
   "cell_type": "code",
   "execution_count": 137,
   "metadata": {},
   "outputs": [],
   "source": [
    "configureSignal(wav_gen, f_c, 3, 2.5)"
   ]
  },
  {
   "cell_type": "markdown",
   "metadata": {},
   "source": [
    "# Measure"
   ]
  },
  {
   "cell_type": "code",
   "execution_count": null,
   "metadata": {},
   "outputs": [],
   "source": [
    "modulation_type=\"AM\"\n",
    "angle=0"
   ]
  },
  {
   "cell_type": "code",
   "execution_count": null,
   "metadata": {},
   "outputs": [],
   "source": [
    "disableAWG(wav_gen)\n",
    "\n",
    "rec = []\n",
    "for f in vf:\n",
    "  sd.rec(out=rec)\n",
    "  sleep(0.1)\n",
    "  enableModulation(wav_gen, modulation_type, 0.8, f)\n",
    "  enableAWG()\n",
    "  sleep(1)\n",
    "  disableAWG()\n",
    "  with wav.open(f\"meas_{modulation_type}_{f*1e-3}kHz_{angle}deg.wav\", mode=\"wb\") as f:\n",
    "    f.writeframes(rec) \n",
    "  \n",
    "  "
   ]
  }
 ],
 "metadata": {
  "kernelspec": {
   "display_name": "Python 3.10.4 ('sound_laser')",
   "language": "python",
   "name": "python3"
  },
  "language_info": {
   "codemirror_mode": {
    "name": "ipython",
    "version": 3
   },
   "file_extension": ".py",
   "mimetype": "text/x-python",
   "name": "python",
   "nbconvert_exporter": "python",
   "pygments_lexer": "ipython3",
   "version": "3.10.4"
  },
  "orig_nbformat": 4,
  "vscode": {
   "interpreter": {
    "hash": "6b8c87b33405ceb14f5446804cb3c1087934c1ccabf9624e620100f1326be94f"
   }
  }
 },
 "nbformat": 4,
 "nbformat_minor": 2
}
