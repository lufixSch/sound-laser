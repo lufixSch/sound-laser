{
 "cells": [
  {
   "cell_type": "code",
   "execution_count": 1,
   "metadata": {},
   "outputs": [],
   "source": [
    "import pyvisa as visa\n",
    "import sounddevice as sd\n",
    "import soundfile as sf\n",
    "import numpy as np\n",
    "from time import sleep\n",
    "import wave as wav\n",
    "from contextlib import closing\n",
    "import struct\n",
    "\n",
    "import os"
   ]
  },
  {
   "cell_type": "code",
   "execution_count": 9,
   "metadata": {},
   "outputs": [],
   "source": [
    "t_freq = 7    # Time per frequency\n",
    "t_pause = 3  # Pause between two frequencies\n",
    "#n_freq = 20   # Number of different frequencies\n",
    "f_min = 500    # Minimum frequency\n",
    "f_max = 20e3  # Maximum frequency\n",
    "\n",
    "f_c = 40e3    # Carrier frequency\n",
    "\n",
    "fs = 300e3    # Samplingrate\n",
    "vf = [50, 100, 200, 400, 600, 800, 1000, 1200, 1500, 2000, 3000, 4000, 5000, 8000, 10000, 15000, 20000] #np.linspace(f_min, f_max, n_freq, dtype=np.int64)"
   ]
  },
  {
   "cell_type": "markdown",
   "metadata": {},
   "source": [
    "# Configure Waveform Generator"
   ]
  },
  {
   "cell_type": "code",
   "execution_count": 10,
   "metadata": {},
   "outputs": [],
   "source": [
    "def enableAWG(inst, channel: int = 1):\n",
    "  inst.write(f\"OUTP{channel} ON\")\n",
    "\n",
    "def disableAWG(inst, channel: int = 1):\n",
    "  inst.write(f\"OUTP{channel} OFF\")\n",
    "\n",
    "def configureSignal(inst, f: int, amplitude: float, offset:float, function_type: str = \"SIN\", channel: int = 1):\n",
    "  base = f\"SOUR{channel}\"\n",
    "\n",
    "  inst.write(f\"OUTP{channel}:LOAD INF\")\n",
    "  inst.write(f\"{base}:FUNC {function_type}; FREQ {int(f)}; VOLT {amplitude}\")\n",
    "  inst.write(f\"{base}:VOLT:OFFS {offset}\")\n",
    "\n",
    "def enableModulation(inst, type: str, m: float, f: int, function_type: str = \"SIN\", channel: int = 1):\n",
    "  base = f\"SOUR{channel}:{type}\"\n",
    "  inst.write(f\"{base}:STAT ON; INT:FREQ {f}\")\n",
    "\n",
    "  if type == \"AM\":\n",
    "    inst.write(f\"{base}:DEPT {int(m * 100)}\")\n",
    "  elif type == \"FM\":\n",
    "    inst.write(f\"{base}:DEV {int(m)}\")\n",
    "\n",
    "def disableModulation(inst, type: str, channel: int = 1):\n",
    "  inst.write(f\"SOUR{channel}:{type}:STAT OFF\")"
   ]
  },
  {
   "cell_type": "code",
   "execution_count": 4,
   "metadata": {},
   "outputs": [
    {
     "data": {
      "text/plain": [
       "('USB0::10893::36097::CN61150030::0::INSTR',)"
      ]
     },
     "execution_count": 4,
     "metadata": {},
     "output_type": "execute_result"
    }
   ],
   "source": [
    "rm = visa.ResourceManager(\"@py\")\n",
    "resources = rm.list_resources()\n",
    "resources"
   ]
  },
  {
   "cell_type": "code",
   "execution_count": 5,
   "metadata": {},
   "outputs": [],
   "source": [
    "wav_gen_id = resources[0]\n",
    "wav_gen = rm.open_resource(wav_gen_id)"
   ]
  },
  {
   "cell_type": "markdown",
   "metadata": {},
   "source": [
    "## Set Carrier Signal"
   ]
  },
  {
   "cell_type": "code",
   "execution_count": 6,
   "metadata": {},
   "outputs": [],
   "source": [
    "configureSignal(wav_gen, f_c, 4, 2.5)"
   ]
  },
  {
   "cell_type": "markdown",
   "metadata": {},
   "source": [
    "# Measure"
   ]
  },
  {
   "cell_type": "code",
   "execution_count": 28,
   "metadata": {},
   "outputs": [
    {
     "data": {
      "text/plain": [
       "6.45"
      ]
     },
     "execution_count": 28,
     "metadata": {},
     "output_type": "execute_result"
    }
   ],
   "source": [
    "modulation_types=[\"AM\", \"FM\"]\n",
    "modulation_depth=[0.8, 5e3]\n",
    "\n",
    "angle=80\n",
    "\n",
    "t_record = (t_freq + t_pause + 0.5)\n",
    "t_silence = 10\n",
    "t_before_start = 20\n",
    "\n",
    "channels = [3, 4]\n",
    "fs_record = 44100\n",
    "\n",
    "(2 * t_record * len(vf) + t_silence + t_before_start)/60"
   ]
  },
  {
   "cell_type": "code",
   "execution_count": 29,
   "metadata": {},
   "outputs": [],
   "source": [
    "from datetime import datetime\n",
    "\n",
    "disableAWG(wav_gen)\n",
    "rec = np.zeros(shape=(int(fs_record * t_record), len(channels)), dtype=np.float32)\n",
    "\n",
    "sleep(t_before_start) # Leave the room\n",
    "\n",
    "sd.rec(out=rec, mapping=channels)\n",
    "sleep(t_silence)\n",
    "sd.stop()\n",
    "sf.write(f\"recordsV2/noise_{datetime.now().isoformat()}.wav\",\n",
    "           rec[:, 0], fs_record, \"PCM_24\")\n",
    "\n",
    "for modulation_idx, modulation_type in enumerate(modulation_types):\n",
    "  for f in vf:\n",
    "    basepath = f\"recordsV2/{modulation_type}/{round(int(f)*1e-3, 2)}kHz\"\n",
    "    sd.rec(out=rec, mapping=channels)\n",
    "    os.makedirs(basepath, exist_ok=True)\n",
    "    sleep(t_pause)\n",
    "    enableModulation(wav_gen, modulation_type, modulation_depth[modulation_idx], f)\n",
    "    enableAWG(wav_gen)\n",
    "    sleep(t_freq)\n",
    "    disableAWG(wav_gen)\n",
    "    sd.stop()\n",
    "\n",
    "    sf.write(f\"{basepath}/meas_{angle}deg.wav\",\n",
    "            rec[:, 0], fs_record, \"PCM_24\")\n",
    "    sf.write(f\"{basepath}/meas_{angle + 180}deg.wav\",\n",
    "            rec[:, 1], fs_record, \"PCM_24\")\n"
   ]
  },
  {
   "cell_type": "markdown",
   "metadata": {},
   "source": [
    "## Close Device"
   ]
  },
  {
   "cell_type": "code",
   "execution_count": 17,
   "metadata": {},
   "outputs": [],
   "source": [
    "rm.close()"
   ]
  },
  {
   "cell_type": "code",
   "execution_count": 8,
   "metadata": {},
   "outputs": [],
   "source": [
    "t_record = 2\n",
    "channels = [3, 4]\n",
    "\n",
    "rec = np.zeros(shape=(fs_record * t_record, len(channels)), dtype=np.float32)\n",
    "enableModulation(wav_gen, \"FM\", 5e3, 1e3)\n",
    "sd.rec(out=rec, mapping=channels)\n",
    "enableAWG(wav_gen)\n",
    "sd.wait()\n",
    "disableAWG(wav_gen)\n"
   ]
  },
  {
   "cell_type": "code",
   "execution_count": 94,
   "metadata": {},
   "outputs": [],
   "source": [
    "sd.play(rec[:,1])\n",
    "sd.wait()"
   ]
  }
 ],
 "metadata": {
  "kernelspec": {
   "display_name": "Python 3.10.4 ('sound_laser')",
   "language": "python",
   "name": "python3"
  },
  "language_info": {
   "codemirror_mode": {
    "name": "ipython",
    "version": 3
   },
   "file_extension": ".py",
   "mimetype": "text/x-python",
   "name": "python",
   "nbconvert_exporter": "python",
   "pygments_lexer": "ipython3",
   "version": "3.10.4"
  },
  "orig_nbformat": 4,
  "vscode": {
   "interpreter": {
    "hash": "6b8c87b33405ceb14f5446804cb3c1087934c1ccabf9624e620100f1326be94f"
   }
  }
 },
 "nbformat": 4,
 "nbformat_minor": 2
}
