{
 "cells": [
  {
   "cell_type": "code",
   "execution_count": 1,
   "metadata": {},
   "outputs": [],
   "source": [
    "import numpy as np\n",
    "import pandas as pd\n",
    "from numpy.fft import fft\n",
    "import wave as wav\n",
    "import os\n",
    "\n",
    "import plotly.express as px\n",
    "import plotly.graph_objects as go"
   ]
  },
  {
   "cell_type": "markdown",
   "metadata": {},
   "source": [
    "### Helper"
   ]
  },
  {
   "cell_type": "code",
   "execution_count": 31,
   "metadata": {},
   "outputs": [],
   "source": [
    "from typing import List, Tuple\n",
    "\n",
    "def read_wav(path: str) -> Tuple[np.ndarray, int]:\n",
    "  with wav.open(path, \"rb\") as f:\n",
    "    buffer = f.readframes(f.getnframes())\n",
    "    data = np.frombuffer(buffer, dtype=f\"int{f.getsampwidth() * 8}\")\n",
    "    return (\n",
    "      np.reshape(data, (-1, f.getnchannels())),\n",
    "      f.getframerate()\n",
    "    )\n",
    "\n",
    "def read_csv(path: str) -> np.ndarray:\n",
    "  df = pd.read_csv(path)\n",
    "  return df.to_numpy()\n",
    "\n",
    "def get_all_wav(path: str) -> List[Tuple[str, str]]:\n",
    "  files = os.listdir(path)\n",
    "\n",
    "  file_paths = []\n",
    "  for i, f in enumerate(files):\n",
    "    name, ext = os.path.splitext(f)\n",
    "\n",
    "    if ext != \".wav\": continue\n",
    "\n",
    "    file_paths.append((name, os.path.join(path, f)))\n",
    "  \n",
    "  return file_paths\n",
    "\n",
    "def get_snr(S: np.ndarray, f: np.ndarray, bandwidth: Tuple[int, int], dimension: int = 1):\n",
    "  i_min = np.where(f == bandwidth[0])\n",
    "  i_max = np.where(f == bandwidth[1])\n",
    "\n",
    "  noise = np.sum(S[0:i_min], dimension) + np.sum(S[i_max::], dimension)\n",
    "  sig = np.sum(S[i_min:i_max], dimension)\n",
    "\n",
    "  return sig / noise\n",
    "\n",
    "def get_signal_power(S: np.ndarray, f: np.ndarray, bandwidth: Tuple[int, int], dimension: int = 1):\n",
    "  i_min = np.where(f == bandwidth[0])\n",
    "  i_max = np.where(f == bandwidth[1])\n",
    "  \n",
    "  return np.sum(S[i_min:i_max], dimension)\n",
    "\n",
    "def circular_plot(E: np.ndarray, phi: np.ndarray):\n",
    "  E_dB = 20 * np.log10(E/np.max(E))\n",
    "\n",
    "  fig = go.FigureWidget()\n",
    "  fig.update_layout(\n",
    "      autosize=False,\n",
    "      width=800,\n",
    "      height=500,\n",
    "      margin=dict(\n",
    "          l=40,\n",
    "          r=30,\n",
    "          b=40,\n",
    "          t=30,\n",
    "          pad=4\n",
    "      ),\n",
    "      polar=dict(radialaxis_range=[-30, 0])\n",
    "  )\n",
    "\n",
    "  fig.add_scatterpolar(theta=phi, r=E_dB)\n"
   ]
  },
  {
   "cell_type": "markdown",
   "metadata": {},
   "source": [
    "# Load Measurements"
   ]
  },
  {
   "cell_type": "markdown",
   "metadata": {},
   "source": [
    "## Circular"
   ]
  },
  {
   "cell_type": "markdown",
   "metadata": {},
   "source": [
    "### 1m Distance"
   ]
  },
  {
   "cell_type": "markdown",
   "metadata": {},
   "source": [
    "### 2m Distance"
   ]
  },
  {
   "cell_type": "markdown",
   "metadata": {},
   "source": [
    "## Distance"
   ]
  }
 ],
 "metadata": {
  "kernelspec": {
   "display_name": "Python 3.9.4 ('data')",
   "language": "python",
   "name": "python3"
  },
  "language_info": {
   "codemirror_mode": {
    "name": "ipython",
    "version": 3
   },
   "file_extension": ".py",
   "mimetype": "text/x-python",
   "name": "python",
   "nbconvert_exporter": "python",
   "pygments_lexer": "ipython3",
   "version": "3.9.4"
  },
  "orig_nbformat": 4,
  "vscode": {
   "interpreter": {
    "hash": "c650d7ea476703797fef1616c599c5fe06f1b1bacf69f4e17f09dcc79ec3c159"
   }
  }
 },
 "nbformat": 4,
 "nbformat_minor": 2
}
