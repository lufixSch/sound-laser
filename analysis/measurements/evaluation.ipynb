{
 "cells": [
  {
   "cell_type": "code",
   "execution_count": 11,
   "metadata": {},
   "outputs": [],
   "source": [
    "import numpy as np\n",
    "from numpy.fft import fft\n",
    "import wave as wav\n",
    "import os"
   ]
  },
  {
   "cell_type": "markdown",
   "metadata": {},
   "source": [
    "### Helper"
   ]
  },
  {
   "cell_type": "code",
   "execution_count": 31,
   "metadata": {},
   "outputs": [],
   "source": [
    "from typing import List, Tuple\n",
    "\n",
    "def read_wav(path: str) -> Tuple[np.ndarray, int]:\n",
    "  with wav.open(path, \"rb\") as f:\n",
    "    buffer = f.readframes(f.getnframes())\n",
    "    data = np.frombuffer(buffer, dtype=f\"int{f.getsampwidth() * 8}\")\n",
    "    return (\n",
    "      np.reshape(data, (-1, f.getnchannels())),\n",
    "      f.getframerate()\n",
    "    )\n",
    "\n",
    "def get_all_wav(path: str) -> List[Tuple[str, str]]:\n",
    "  files = os.listdir(path)\n",
    "\n",
    "  file_paths = []\n",
    "  for i, f in enumerate(files):\n",
    "    name, ext = os.path.splitext(f)\n",
    "\n",
    "    if ext != \".wav\": continue\n",
    "\n",
    "    file_paths.append((name, os.path.join(path, f)))\n",
    "  \n",
    "  return file_paths\n",
    "\n",
    "def get_snr(S: np.ndarray, f: np.ndarray, bandwidth: Tuple[int, int]):\n",
    "  i_min = np.where(f == bandwidth[0])\n",
    "  i_max = np.where(f == bandwidth[1])\n",
    "\n",
    "  noise = np.sum(S[0:i_min]) + np.sum(S[i_max::])\n",
    "  sig = np.sum(S[i_min:i_max])\n",
    "\n",
    "  return sig / noise"
   ]
  },
  {
   "cell_type": "markdown",
   "metadata": {},
   "source": [
    "# Load Measurements"
   ]
  },
  {
   "cell_type": "markdown",
   "metadata": {},
   "source": [
    "## Circular"
   ]
  },
  {
   "cell_type": "markdown",
   "metadata": {},
   "source": [
    "### 1m Distance"
   ]
  },
  {
   "cell_type": "markdown",
   "metadata": {},
   "source": [
    "### 2m Distance"
   ]
  },
  {
   "cell_type": "markdown",
   "metadata": {},
   "source": [
    "## Distance"
   ]
  }
 ],
 "metadata": {
  "kernelspec": {
   "display_name": "Python 3.10.4 ('sound_laser')",
   "language": "python",
   "name": "python3"
  },
  "language_info": {
   "codemirror_mode": {
    "name": "ipython",
    "version": 3
   },
   "file_extension": ".py",
   "mimetype": "text/x-python",
   "name": "python",
   "nbconvert_exporter": "python",
   "pygments_lexer": "ipython3",
   "version": "3.10.4"
  },
  "orig_nbformat": 4,
  "vscode": {
   "interpreter": {
    "hash": "6b8c87b33405ceb14f5446804cb3c1087934c1ccabf9624e620100f1326be94f"
   }
  }
 },
 "nbformat": 4,
 "nbformat_minor": 2
}
