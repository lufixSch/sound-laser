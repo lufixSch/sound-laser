{
 "cells": [
  {
   "cell_type": "code",
   "execution_count": 1,
   "metadata": {},
   "outputs": [],
   "source": [
    "import numpy as np\n",
    "import pandas as pd\n",
    "from numpy.fft import fft\n",
    "import soundfile as sf\n",
    "import os\n",
    "\n",
    "import plotly.express as px\n",
    "import plotly.graph_objects as go\n",
    "import plotly.io as pio\n"
   ]
  },
  {
   "cell_type": "markdown",
   "metadata": {},
   "source": [
    "### Helper"
   ]
  },
  {
   "cell_type": "code",
   "execution_count": 25,
   "metadata": {},
   "outputs": [],
   "source": [
    "from typing import List, Tuple\n",
    "\n",
    "def load_measurements(f: int, modulation: str, version: str = \"records\"):\n",
    "  base_path = f\"{version}/{modulation}/{round(int(f)*1e-3, 2)}kHz\"\n",
    "  \n",
    "  paths = get_all_wav(base_path)\n",
    "  paths = [path for path in map(\n",
    "    lambda path: (int(path[0].lstrip(\"meas_\").rstrip(\"deg\")), path[1]), paths)]\n",
    "  paths.sort(key=lambda path: path[0])\n",
    "\n",
    "  angles = [angle for angle in map(lambda path: path[0], paths)]\n",
    "  \n",
    "  records = []\n",
    "  for path in paths:\n",
    "    records.append(sf.read(path[1])[0])\n",
    "\n",
    "  return (np.array(records), np.array(angles))\n",
    "\n",
    "def split_signals(signals: np.ndarray, noise_range: Tuple[int, int], signal_range: Tuple[int, int]):\n",
    "  noise = []\n",
    "  signal = []\n",
    "\n",
    "  for rec in signals:\n",
    "    noise.append(rec[noise_range[0]:noise_range[1]])\n",
    "    signal.append(rec[signal_range[0]: signal_range[1]])\n",
    "\n",
    "  return (np.array(signal), np.array(noise))\n",
    "\n",
    "def get_all_wav(path: str) -> List[Tuple[str, str]]:\n",
    "  files = os.listdir(path)\n",
    "\n",
    "  file_paths = []\n",
    "  for i, f in enumerate(files):\n",
    "    name, ext = os.path.splitext(f)\n",
    "\n",
    "    if ext != \".wav\": continue\n",
    "\n",
    "    file_paths.append((name, os.path.join(path, f)))\n",
    "  \n",
    "  return file_paths\n",
    "\n",
    "def calc_fft(signals: np.ndarray, fs: int, N: int):\n",
    "  vS = fft(signals, n=N*2, axis=1)\n",
    "  vf = np.linspace(0, int(fs/2), N)\n",
    "\n",
    "  vS = vS[:,0:N]\n",
    "\n",
    "  return (vS, vf)\n",
    "\n",
    "def moving_average(signals: np.ndarray, w: int):\n",
    "  weights = np.ones(w)/w\n",
    "  return np.array([sig for sig in map(lambda sig: np.convolve(sig, weights, \"same\"), signals)])\n",
    "\n",
    "def get_idx_from_bandwidth(f: np.ndarray, bandwidth: Tuple[int, int]):\n",
    "  try:\n",
    "    i_min = np.where(f <= bandwidth[0])[0][-1]\n",
    "  except IndexError:\n",
    "    i_min = 0\n",
    "\n",
    "  try:\n",
    "    i_max = np.where(f >= bandwidth[1])[0][0]\n",
    "  except IndexError:\n",
    "    i_max = len(f) -1\n",
    "\n",
    "  return (i_min, i_max)\n",
    "\n",
    "def get_peak(S: np.ndarray, f: np.ndarray, bandwidth: Tuple[int, int]):\n",
    "  i_min, i_max = get_idx_from_bandwidth(f, bandwidth)\n",
    "\n",
    "  return np.max(S[:, i_min:i_max], 1)\n",
    "\n",
    "def get_snr(S: np.ndarray, f: np.ndarray, bandwidth: Tuple[int, int]):\n",
    "  i_min, i_max = get_idx_from_bandwidth(f, bandwidth)\n",
    "\n",
    "  noise = np.sum(S[:, 0:i_min], 1) + np.sum(S[:, i_max::], 1)\n",
    "  sig = np.sum(S[:, i_min:i_max], 1)\n",
    "\n",
    "  return sig / noise\n",
    "\n",
    "\n",
    "def get_signal_power(S: np.ndarray, f: np.ndarray, bandwidth: Tuple[int, int]):\n",
    "  i_min, i_max = get_idx_from_bandwidth(f, bandwidth)\n",
    "  \n",
    "  return np.sum(S[:,i_min:i_max], 1)\n",
    "\n",
    "def circular_plot(E: np.ndarray, phi: np.ndarray):\n",
    "  E_dB = 20 * np.log10(E/np.max(E))\n",
    "\n",
    "  fig = go.FigureWidget()\n",
    "  fig.update_layout(\n",
    "      autosize=False,\n",
    "      width=800,\n",
    "      height=500,\n",
    "      margin=dict(\n",
    "          l=40,\n",
    "          r=30,\n",
    "          b=40,\n",
    "          t=30,\n",
    "          pad=4\n",
    "      ),\n",
    "      polar=dict(radialaxis_range=[-30, 0])\n",
    "  )\n",
    "\n",
    "  fig.add_scatterpolar(theta=phi, r=E_dB)\n",
    "\n",
    "def dB(E: np.ndarray):\n",
    "  return 10 * np.log10(E)"
   ]
  },
  {
   "cell_type": "markdown",
   "metadata": {},
   "source": [
    "# Load Measurements"
   ]
  },
  {
   "cell_type": "code",
   "execution_count": 26,
   "metadata": {},
   "outputs": [],
   "source": [
    "#frequencies = [100, 400, 1.5e3, 10e3]\n",
    "frequencies = [50, 100, 200, 400, 600, 800, 1000, 1200, 1500, 2000, 3000, 4000, 5000, 8000, 10000, 15000, 20000]\n",
    "\n",
    "fs = 44100\n",
    "total_duration = 10.5\n",
    "\n",
    "N = 50000\n",
    "\n",
    "signal_split = (4, 10)\n",
    "noise_split = (0, 2)\n",
    "\n",
    "vt_sig = np.linspace(0, signal_split[1] - signal_split[0], (signal_split[1] - signal_split[0]) * fs)\n",
    "vt_noise = np.linspace(0, noise_split[1] - noise_split[0], (noise_split[1] - noise_split[0]) * fs)"
   ]
  },
  {
   "cell_type": "markdown",
   "metadata": {},
   "source": [
    "### AM"
   ]
  },
  {
   "cell_type": "code",
   "execution_count": 27,
   "metadata": {},
   "outputs": [],
   "source": [
    "am_signals = []\n",
    "am_noise = []\n",
    "am_signals_fft = []\n",
    "am_filtered_signals_fft = []\n",
    "am_noise_fft = []\n",
    "\n",
    "am_phi = None\n",
    "am_vf = None\n",
    "\n",
    "for f in frequencies:\n",
    "  records, am_phi = load_measurements(f, \"AM\")\n",
    "  \n",
    "  signals, noise = split_signals(records, np.multiply(noise_split, fs), np.multiply(signal_split, fs))\n",
    "  am_signals.append(signals)\n",
    "  am_noise.append(noise)\n",
    "\n",
    "  signals_fft, am_vf = calc_fft(signals, fs, N)\n",
    "  am_signals_fft.append(signals_fft)\n",
    "\n",
    "  noise_fft, am_vf = calc_fft(noise, fs, N)\n",
    "  am_noise_fft.append(noise_fft)\n",
    "\n",
    "  am_filtered_signals_fft.append(signals_fft - noise_fft)\n",
    "\n",
    "am_signals = np.array(am_signals)\n",
    "am_noise = np.array(am_noise)\n",
    "am_signals_fft = np.array(am_signals_fft)\n",
    "am_filtered_signals_fft = np.array(am_filtered_signals_fft)\n",
    "am_noise_fft = np.array(am_noise_fft)\n"
   ]
  },
  {
   "cell_type": "markdown",
   "metadata": {},
   "source": [
    "### FM"
   ]
  },
  {
   "cell_type": "code",
   "execution_count": 11,
   "metadata": {},
   "outputs": [],
   "source": [
    "fm_signals = []\n",
    "fm_noise = []\n",
    "fm_signals_fft = []\n",
    "fm_filtered_signals_fft = []\n",
    "fm_noise_fft = []\n",
    "\n",
    "fm_phi = None\n",
    "fm_vf = None\n",
    "\n",
    "for f in frequencies:\n",
    "  records, fm_phi = load_measurements(f, \"FM\", \"recordsV2\")\n",
    "\n",
    "  signals, noise = split_signals(records, np.multiply(\n",
    "      noise_split, fs), np.multiply(signal_split, fs))\n",
    "  fm_signals.append(signals)\n",
    "  fm_noise.append(noise)\n",
    "\n",
    "  signals_fft, fm_vf = calc_fft(signals, fs, N)\n",
    "  fm_signals_fft.append(signals_fft)\n",
    "\n",
    "  noise_fft, fm_vf = calc_fft(noise, fs, N)\n",
    "  fm_noise_fft.append(noise_fft)\n",
    "\n",
    "  fm_filtered_signals_fft.append(signals_fft - noise_fft)\n",
    "\n",
    "fm_signals = np.array(fm_signals)\n",
    "fm_noise = np.array(fm_noise)\n",
    "fm_signals_fft = np.array(fm_signals_fft)\n",
    "fm_filtered_signals_fft = np.array(fm_filtered_signals_fft)\n",
    "fm_noise_fft = np.array(fm_noise_fft)\n"
   ]
  },
  {
   "cell_type": "markdown",
   "metadata": {},
   "source": [
    "# Check Measurements"
   ]
  },
  {
   "cell_type": "code",
   "execution_count": 23,
   "metadata": {},
   "outputs": [],
   "source": [
    "plot_signals = am_signals[1]\n",
    "plot_signals_fft = am_filtered_signals_fft[1]\n",
    "plot_vf = am_vf\n",
    "plot_phi = am_phi"
   ]
  },
  {
   "cell_type": "markdown",
   "metadata": {},
   "source": [
    "### Single Signal - TIME"
   ]
  },
  {
   "cell_type": "code",
   "execution_count": 257,
   "metadata": {},
   "outputs": [],
   "source": [
    "fig = px.line(x=vt_sig, y=plot_signals[0])\n",
    "fig.show(renderer=\"browser\")"
   ]
  },
  {
   "cell_type": "markdown",
   "metadata": {},
   "source": [
    "### Single Signal - FREQUENCY"
   ]
  },
  {
   "cell_type": "code",
   "execution_count": 24,
   "metadata": {},
   "outputs": [
    {
     "name": "stderr",
     "output_type": "stream",
     "text": [
      "/var/folders/xm/h3kt12p12sl8ng1gmtgcfdl40000gn/T/ipykernel_42005/2093233905.py:107: RuntimeWarning:\n",
      "\n",
      "invalid value encountered in log10\n",
      "\n"
     ]
    }
   ],
   "source": [
    "fft_fig = go.Figure()\n",
    "fft_fig.add_trace(go.Scatter(x=plot_vf, y=dB(np.abs(plot_signals_fft[0])), mode=\"lines\", name=\"Signal with Noise\"))\n",
    "\n",
    "fft_fig.update_layout(\n",
    "    xaxis_title=r\"$f \\text{ in } Hz$\",\n",
    "    yaxis_title=r\"$\\text{Magnitude in } dB$\",\n",
    "    #    yaxis=dict(range=[0, 2**12]),\n",
    "    xaxis=dict(range=(0, np.log10(fs/2)), type=\"log\"),\n",
    ")\n",
    "\n",
    "pio.write_image(fft_fig, \"beamforming_fm_4.0kHz.pdf\", width=700, height=400)\n",
    "fft_fig.show(renderer=\"browser\")"
   ]
  },
  {
   "cell_type": "markdown",
   "metadata": {},
   "source": [
    "### All Signals with the same Frequency"
   ]
  },
  {
   "cell_type": "code",
   "execution_count": 330,
   "metadata": {},
   "outputs": [],
   "source": [
    "fft_fig = go.Figure()\n",
    "\n",
    "for idx, sig in enumerate(plot_signals_fft):\n",
    "  fft_fig.add_trace(go.Scatter(x=plot_vf, y=dB(np.abs(\n",
    "      sig)), mode=\"lines\", name=r\"$\\varphi =\" + str(plot_phi[idx]) + \"^\\circ$\"))\n",
    "\n",
    "fft_fig.update_layout(\n",
    "    xaxis_title=r\"$f \\text{ in } Hz$\",\n",
    "    yaxis_title=r\"$\\text{Magnitude in } dB$\",\n",
    "    #    yaxis=dict(range=[0, 2**12]),\n",
    "    xaxis=dict(type=\"log\"),\n",
    ")\n",
    "\n",
    "fft_fig.show(renderer=\"browser\")\n"
   ]
  },
  {
   "cell_type": "markdown",
   "metadata": {},
   "source": [
    "### All Frequencies at the same angle"
   ]
  },
  {
   "cell_type": "code",
   "execution_count": 362,
   "metadata": {},
   "outputs": [],
   "source": [
    "plot_signals_fft = fm_filtered_signals_fft[:,0,:]\n",
    "plot_vf = fm_vf\n",
    "plot_phi = fm_phi"
   ]
  },
  {
   "cell_type": "code",
   "execution_count": 363,
   "metadata": {},
   "outputs": [],
   "source": [
    "fft_fig = go.Figure()\n",
    "\n",
    "for idx, sig in enumerate(plot_signals_fft):\n",
    "  fft_fig.add_trace(go.Scatter(x=plot_vf, y=dB(np.abs(\n",
    "      sig)), mode=\"lines\", name=r\"$f =\" + str(round(frequencies[idx]*1e-3, 2)) + \"kHz$\"))\n",
    "\n",
    "fft_fig.update_layout(\n",
    "    xaxis_title=r\"$f \\text{ in } Hz$\",\n",
    "    yaxis_title=r\"$\\text{Magnitude in } dB$\",\n",
    "    #    yaxis=dict(range=[0, 2**12]),\n",
    "    xaxis=dict(type=\"log\"),\n",
    ")\n",
    "\n",
    "fft_fig.show(renderer=\"browser\")\n"
   ]
  },
  {
   "cell_type": "markdown",
   "metadata": {},
   "source": [
    "# Polar Plot"
   ]
  },
  {
   "cell_type": "markdown",
   "metadata": {},
   "source": [
    "## AM"
   ]
  },
  {
   "cell_type": "markdown",
   "metadata": {},
   "source": [
    "### Peaks"
   ]
  },
  {
   "cell_type": "code",
   "execution_count": 28,
   "metadata": {},
   "outputs": [],
   "source": [
    "am_peaks = []\n",
    "\n",
    "for idx, signal in enumerate(am_filtered_signals_fft):\n",
    "  f_sig = frequencies[idx]\n",
    "  bandwidth = [f_sig - 100, f_sig + 100]\n",
    "\n",
    "  am_peaks.append(get_peak(np.abs(signal), am_vf, bandwidth))\n",
    "\n",
    "am_peaks_norm = np.array(am_peaks) / np.max(am_peaks)\n"
   ]
  },
  {
   "cell_type": "code",
   "execution_count": 333,
   "metadata": {},
   "outputs": [],
   "source": [
    "am_peaks = np.max(np.abs(am_filtered_signals_fft), axis=2)\n",
    "am_peaks_norm = am_peaks / np.max(am_peaks)"
   ]
  },
  {
   "cell_type": "code",
   "execution_count": 29,
   "metadata": {},
   "outputs": [],
   "source": [
    "am_polar_fig = go.Figure()\n",
    "am_polar_fig.update_layout(\n",
    "    polar=dict(radialaxis_range=[-35, 0])\n",
    ")\n",
    "\n",
    "for idx, peaks in enumerate(am_peaks_norm):\n",
    "  am_polar_fig.add_scatterpolar(r=dB(peaks), theta=am_phi, name=r\"$f =\" + str(round(frequencies[idx]*1e-3, 2)) + r\"kHz$\")\n",
    "\n",
    "pio.write_image(am_polar_fig, \"beamforming_am_polar.pdf\", width=600, height=500)\n",
    "am_polar_fig.show(renderer=\"browser\")"
   ]
  },
  {
   "cell_type": "markdown",
   "metadata": {},
   "source": [
    "### Power"
   ]
  },
  {
   "cell_type": "code",
   "execution_count": 259,
   "metadata": {},
   "outputs": [],
   "source": [
    "am_power = []\n",
    "for idx, signal in enumerate(am_filtered_signals_fft):\n",
    "  f_sig = frequencies[idx]\n",
    "  bandwidth = [f_sig - 1, f_sig + 1]\n",
    "\n",
    "  am_power.append(get_signal_power(np.abs(signal), am_vf, bandwidth))\n",
    "\n",
    "am_power_norm = np.array(am_power) / np.max(am_power)"
   ]
  },
  {
   "cell_type": "code",
   "execution_count": 260,
   "metadata": {},
   "outputs": [],
   "source": [
    "am_polar_power_fig = go.Figure()\n",
    "am_polar_power_fig.update_layout(\n",
    "    #    polar=dict(radialaxis_range=[-30, 0])\n",
    ")\n",
    "\n",
    "for idx, power in enumerate(am_power_norm):\n",
    "  am_polar_power_fig.add_scatterpolar(\n",
    "      r=dB(power), theta=am_phi, name=r\"$f =\" + str(round(frequencies[idx]*1e-3, 2)) + r\"kHz$\")\n",
    "\n",
    "am_polar_power_fig.show(renderer=\"browser\")\n"
   ]
  },
  {
   "cell_type": "markdown",
   "metadata": {},
   "source": [
    "### SNR"
   ]
  },
  {
   "cell_type": "code",
   "execution_count": 261,
   "metadata": {},
   "outputs": [],
   "source": [
    "am_snr = []\n",
    "for idx, signal in enumerate(am_filtered_signals_fft):\n",
    "  f_sig = frequencies[idx]\n",
    "  bandwidth = [f_sig - 1, f_sig + 1]\n",
    "\n",
    "  am_snr.append(get_snr(np.abs(signal), am_vf, bandwidth))\n",
    "\n",
    "am_snr_norm = np.array(am_snr) / np.max(am_snr)\n"
   ]
  },
  {
   "cell_type": "code",
   "execution_count": 262,
   "metadata": {},
   "outputs": [],
   "source": [
    "am_polar_snr_fig = go.Figure()\n",
    "am_polar_snr_fig.update_layout(\n",
    "    #    polar=dict(radialaxis_range=[-30, 0])\n",
    ")\n",
    "\n",
    "for idx, snr in enumerate(am_snr_norm):\n",
    "  am_polar_snr_fig.add_scatterpolar(\n",
    "      r=dB(snr), theta=am_phi, name=r\"$f =\" + str(round(frequencies[idx]*1e-3, 2)) + r\"kHz$\")\n",
    "\n",
    "am_polar_snr_fig.show(renderer=\"browser\")\n"
   ]
  },
  {
   "cell_type": "markdown",
   "metadata": {},
   "source": [
    "## FM"
   ]
  },
  {
   "cell_type": "markdown",
   "metadata": {},
   "source": [
    "### Peaks"
   ]
  },
  {
   "cell_type": "code",
   "execution_count": 18,
   "metadata": {},
   "outputs": [],
   "source": [
    "fm_peaks = []\n",
    "\n",
    "for idx, signal in enumerate(fm_filtered_signals_fft):\n",
    "  f_sig = frequencies[idx]\n",
    "  bandwidth = [f_sig -100, f_sig + 100]\n",
    "\n",
    "  fm_peaks.append(get_peak(np.abs(signal), fm_vf, bandwidth))\n",
    "\n",
    "fm_peaks_norm = np.array(fm_peaks) / np.max(fm_peaks)\n"
   ]
  },
  {
   "cell_type": "code",
   "execution_count": 340,
   "metadata": {},
   "outputs": [],
   "source": [
    "fm_peaks = np.max(np.abs(fm_filtered_signals_fft), axis=2)\n",
    "fm_peaks_norm = fm_peaks / np.max(fm_peaks)\n"
   ]
  },
  {
   "cell_type": "code",
   "execution_count": 19,
   "metadata": {},
   "outputs": [],
   "source": [
    "fm_polar_fig = go.Figure()\n",
    "fm_polar_fig.update_layout(\n",
    "    polar=dict(radialaxis_range=[-35, 0])\n",
    ")\n",
    "\n",
    "for idx, peaks in enumerate(fm_peaks_norm):\n",
    "  fm_polar_fig.add_scatterpolar(\n",
    "      r=dB(peaks), theta=fm_phi, name=r\"$f =\" + str(round(frequencies[idx]*1e-3, 2)) + r\"kHz$\")\n",
    "\n",
    "pio.write_image(fm_polar_fig, \"beamforming_fm_polar.pdf\", width=600, height=500)\n",
    "fm_polar_fig.show(renderer=\"browser\")\n"
   ]
  },
  {
   "cell_type": "markdown",
   "metadata": {},
   "source": [
    "### Power"
   ]
  },
  {
   "cell_type": "code",
   "execution_count": 291,
   "metadata": {},
   "outputs": [],
   "source": [
    "fm_power = []\n",
    "for idx, signal in enumerate(fm_filtered_signals_fft):\n",
    "  f_sig = frequencies[idx]\n",
    "  bandwidth = [f_sig - 1, f_sig + 1]\n",
    "\n",
    "  fm_power.append(get_signal_power(np.abs(signal), fm_vf, bandwidth))\n",
    "\n",
    "fm_power_norm = np.array(fm_power) / np.max(fm_power)\n"
   ]
  },
  {
   "cell_type": "code",
   "execution_count": 292,
   "metadata": {},
   "outputs": [],
   "source": [
    "fm_polar_power_fig = go.Figure()\n",
    "\n",
    "for idx, power in enumerate(fm_power_norm):\n",
    "  fm_polar_power_fig.add_scatterpolar(\n",
    "      r=dB(power), theta=fm_phi, name=r\"$f =\" + str(round(frequencies[idx]*1e-3, 2)) + r\"kHz$\")\n",
    "\n",
    "fm_polar_power_fig.show(renderer=\"browser\")\n"
   ]
  },
  {
   "cell_type": "markdown",
   "metadata": {},
   "source": [
    "### SNR"
   ]
  },
  {
   "cell_type": "code",
   "execution_count": 294,
   "metadata": {},
   "outputs": [],
   "source": [
    "fm_snr = []\n",
    "for idx, signal in enumerate(fm_filtered_signals_fft):\n",
    "  f_sig = frequencies[idx]\n",
    "  bandwidth = [f_sig - 1, f_sig + 1]\n",
    "\n",
    "  fm_snr.append(get_snr(np.abs(signal), fm_vf, bandwidth))\n",
    "\n",
    "fm_snr_norm = np.array(fm_snr) / np.max(fm_snr)"
   ]
  },
  {
   "cell_type": "code",
   "execution_count": 295,
   "metadata": {},
   "outputs": [],
   "source": [
    "fm_polar_snr_fig = go.Figure()\n",
    "fm_polar_snr_fig.update_layout(\n",
    "    #    polar=dict(radialaxis_range=[-30, 0])\n",
    ")\n",
    "\n",
    "for idx, snr in enumerate(fm_snr_norm):\n",
    "  fm_polar_snr_fig.add_scatterpolar(\n",
    "      r=dB(snr), theta=fm_phi, name=r\"$f =\" + str(round(frequencies[idx]*1e-3, 2)) + r\"kHz$\")\n",
    "\n",
    "fm_polar_snr_fig.show(renderer=\"browser\")\n"
   ]
  }
 ],
 "metadata": {
  "kernelspec": {
   "display_name": "Python 3.10.4 ('sound_laser')",
   "language": "python",
   "name": "python3"
  },
  "language_info": {
   "codemirror_mode": {
    "name": "ipython",
    "version": 3
   },
   "file_extension": ".py",
   "mimetype": "text/x-python",
   "name": "python",
   "nbconvert_exporter": "python",
   "pygments_lexer": "ipython3",
   "version": "3.10.4"
  },
  "orig_nbformat": 4,
  "vscode": {
   "interpreter": {
    "hash": "6b8c87b33405ceb14f5446804cb3c1087934c1ccabf9624e620100f1326be94f"
   }
  }
 },
 "nbformat": 4,
 "nbformat_minor": 2
}
