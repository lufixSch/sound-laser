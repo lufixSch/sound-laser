{
 "cells": [
  {
   "cell_type": "code",
   "execution_count": 1,
   "metadata": {},
   "outputs": [],
   "source": [
    "import numpy as np\n",
    "\n",
    "from IPython.display import display, Math"
   ]
  },
  {
   "cell_type": "markdown",
   "metadata": {},
   "source": [
    "# I2C"
   ]
  },
  {
   "cell_type": "markdown",
   "metadata": {},
   "source": [
    "## DAC Parameters"
   ]
  },
  {
   "cell_type": "code",
   "execution_count": 2,
   "metadata": {},
   "outputs": [
    {
     "data": {
      "text/latex": [
       "$\\displaystyle V_{bus} = 5V$"
      ],
      "text/plain": [
       "<IPython.core.display.Math object>"
      ]
     },
     "metadata": {},
     "output_type": "display_data"
    },
    {
     "data": {
      "text/latex": [
       "$\\displaystyle V_{OL} =1.5V~~I_{OL}=0.01A$"
      ],
      "text/plain": [
       "<IPython.core.display.Math object>"
      ]
     },
     "metadata": {},
     "output_type": "display_data"
    },
    {
     "data": {
      "text/latex": [
       "$\\displaystyle C_b=10.0pF~t_r=20.001ns$"
      ],
      "text/plain": [
       "<IPython.core.display.Math object>"
      ]
     },
     "metadata": {},
     "output_type": "display_data"
    }
   ],
   "source": [
    "VCC = 5\n",
    "\n",
    "V_bus = VCC\n",
    "\n",
    "V_OL = 0.3 * VCC\n",
    "I_OL = 0.01\n",
    "\n",
    "C_b = 10e-12\n",
    "t_r = 20e-9 + 0.1 * C_b\n",
    "\n",
    "display(Math(\"V_{bus} = \" + f\"{V_bus}V\"), Math(\"V_{OL} =\" + f\"{V_OL}V~\" + \"~I_{OL}=\" + f\"{I_OL}A\"), Math(\"C_b=\" + f\"{C_b*1e12}pF~\" + \"t_r=\" + f\"{t_r*1e9}ns\"))"
   ]
  },
  {
   "cell_type": "markdown",
   "metadata": {},
   "source": [
    "## Min Resistance"
   ]
  },
  {
   "cell_type": "code",
   "execution_count": 3,
   "metadata": {},
   "outputs": [
    {
     "data": {
      "text/latex": [
       "$\\displaystyle R_{p~(min)}=350.0\\Omega$"
      ],
      "text/plain": [
       "<IPython.core.display.Math object>"
      ]
     },
     "metadata": {},
     "output_type": "display_data"
    }
   ],
   "source": [
    "RP_min = (V_bus - V_OL)/I_OL\n",
    "\n",
    "display(Math(\"R_{p~(min)}=\" + f\"{RP_min}\\Omega\"))"
   ]
  },
  {
   "cell_type": "markdown",
   "metadata": {},
   "source": [
    "## Max Resistance"
   ]
  },
  {
   "cell_type": "code",
   "execution_count": 4,
   "metadata": {},
   "outputs": [
    {
     "data": {
      "text/latex": [
       "$\\displaystyle R_{p~(max)}=2360.5570636138323\\Omega$"
      ],
      "text/plain": [
       "<IPython.core.display.Math object>"
      ]
     },
     "metadata": {},
     "output_type": "display_data"
    }
   ],
   "source": [
    "RP_max = t_r / (0.8473 * C_b)\n",
    "\n",
    "display(Math(\"R_{p~(max)}=\" + f\"{RP_max}\\Omega\"))"
   ]
  },
  {
   "cell_type": "markdown",
   "metadata": {},
   "source": [
    "### Multiple DACs"
   ]
  },
  {
   "cell_type": "code",
   "execution_count": 5,
   "metadata": {},
   "outputs": [
    {
     "data": {
      "text/latex": [
       "$\\displaystyle R_{p~(max)}~\\mathrm{with~n~DACs}=1180.2785318069161\\Omega$"
      ],
      "text/plain": [
       "<IPython.core.display.Math object>"
      ]
     },
     "metadata": {},
     "output_type": "display_data"
    },
    {
     "data": {
      "text/latex": [
       "$\\displaystyle \\mathrm{n~parallel~} R_{p~(max)}=1180.2785318069161\\Omega$"
      ],
      "text/plain": [
       "<IPython.core.display.Math object>"
      ]
     },
     "metadata": {},
     "output_type": "display_data"
    }
   ],
   "source": [
    "n = 2\n",
    "\n",
    "RP_max_mult = t_r / (0.8473 * n * C_b)\n",
    "RP_max_compare = 1/(n/RP_max)\n",
    "\n",
    "display(Math(\"R_{p~(max)}~\\mathrm{with~n~DACs}=\" + f\"{RP_max_mult}\\Omega\"),\n",
    "        Math(\"\\mathrm{n~parallel~} R_{p~(max)}=\" + f\"{RP_max_compare}\\Omega\"))\n"
   ]
  },
  {
   "cell_type": "markdown",
   "metadata": {},
   "source": [
    "# Boost Converter"
   ]
  },
  {
   "cell_type": "markdown",
   "metadata": {},
   "source": [
    "## Parameters"
   ]
  },
  {
   "cell_type": "code",
   "execution_count": 6,
   "metadata": {},
   "outputs": [],
   "source": [
    "Uin = 5 #V\n",
    "Ua = 24 #V\n",
    "Uref = 1.255 #V\n",
    "\n",
    "R2 = 10e3 #Ohm\n",
    "\n",
    "f = 1e3 #Switching Frequency"
   ]
  },
  {
   "cell_type": "markdown",
   "metadata": {},
   "source": [
    "## Feedback (R1/C7)\n",
    "\n",
    "$U_a = \\cfrac{R_1 + R_2}{R_2} \\cdot U_{ref}$\n",
    "\n",
    "$f_{sw} = \\cfrac{1}{2 \\pi R_1 C_7}$"
   ]
  },
  {
   "cell_type": "code",
   "execution_count": 7,
   "metadata": {},
   "outputs": [
    {
     "data": {
      "text/latex": [
       "$\\displaystyle R_{1}~=181.23505976095618k\\Omega$"
      ],
      "text/plain": [
       "<IPython.core.display.Math object>"
      ]
     },
     "metadata": {},
     "output_type": "display_data"
    },
    {
     "data": {
      "text/latex": [
       "$\\displaystyle C_{7}=878.1686242265495pF$"
      ],
      "text/plain": [
       "<IPython.core.display.Math object>"
      ]
     },
     "metadata": {},
     "output_type": "display_data"
    }
   ],
   "source": [
    "R1 = (Ua/Uref - 1) * R2\n",
    "C7 = 1/(2 * np.pi * f * R1)\n",
    "\n",
    "display(Math(\"R_{1}~=\" + f\"{R1*1e-3}k\\Omega\"),\n",
    "        Math(\"C_{7}=\" + f\"{C7*1e12}pF\"))\n"
   ]
  },
  {
   "cell_type": "markdown",
   "metadata": {},
   "source": [
    "# Amplifier"
   ]
  },
  {
   "cell_type": "markdown",
   "metadata": {},
   "source": [
    "## Parameters"
   ]
  },
  {
   "cell_type": "code",
   "execution_count": 8,
   "metadata": {},
   "outputs": [],
   "source": [
    "V = 2\n",
    "Uin = 5\n",
    "R3 = 10e3\n"
   ]
  },
  {
   "cell_type": "markdown",
   "metadata": {},
   "source": [
    "## Amplification"
   ]
  },
  {
   "cell_type": "code",
   "execution_count": 9,
   "metadata": {},
   "outputs": [
    {
     "data": {
      "text/latex": [
       "$\\displaystyle R_{4}~=10.0k\\Omega$"
      ],
      "text/plain": [
       "<IPython.core.display.Math object>"
      ]
     },
     "metadata": {},
     "output_type": "display_data"
    },
    {
     "data": {
      "text/latex": [
       "$\\displaystyle R_{3}~=10.0k\\Omega$"
      ],
      "text/plain": [
       "<IPython.core.display.Math object>"
      ]
     },
     "metadata": {},
     "output_type": "display_data"
    }
   ],
   "source": [
    "R4 = R3/(V - 1)\n",
    "\n",
    "display(Math(\"R_{4}~=\" + f\"{R4*1e-3}k\\Omega\"), \n",
    "        Math(\"R_{3}~=\" + f\"{R3*1e-3}k\\Omega\"))"
   ]
  },
  {
   "cell_type": "markdown",
   "metadata": {},
   "source": [
    "## AC Coupling"
   ]
  },
  {
   "cell_type": "code",
   "execution_count": 17,
   "metadata": {},
   "outputs": [],
   "source": [
    "fg = 4000"
   ]
  },
  {
   "cell_type": "markdown",
   "metadata": {},
   "source": [
    "### Input\n",
    "\n",
    "$\\cfrac{U_a}{U_{in}} = \\cfrac{sC_8\\cdot \\frac{1}{2}R_{8/9}}{1 + sC_8\\cdot \\frac{1}{2}R_{8/9}}$\n",
    "\n",
    "$f_g = \\cfrac{1}{2 \\pi C_8 \\cdot \\frac{1}{2}R_{8/9}}$"
   ]
  },
  {
   "cell_type": "code",
   "execution_count": 18,
   "metadata": {},
   "outputs": [
    {
     "data": {
      "text/latex": [
       "$\\displaystyle R_{8/9}~=100.0k\\Omega$"
      ],
      "text/plain": [
       "<IPython.core.display.Math object>"
      ]
     },
     "metadata": {},
     "output_type": "display_data"
    },
    {
     "data": {
      "text/latex": [
       "$\\displaystyle C_{8}~=1.5915494309189535nF$"
      ],
      "text/plain": [
       "<IPython.core.display.Math object>"
      ]
     },
     "metadata": {},
     "output_type": "display_data"
    }
   ],
   "source": [
    "#R8 = R9 = 10e3\n",
    "#C8 = 1/(np.pi * fg * R8)\n",
    "\n",
    "\n",
    "R8 = R9 = 100e3\n",
    "C8 = 1/(np.pi * fg * 1/2 * R8)\n",
    "\n",
    "display(Math(\"R_{8/9}~=\" + f\"{R8*1e-3}k\\Omega\"),\n",
    "        Math(\"C_{8}~=\" + f\"{C8*1e9}nF\"))\n"
   ]
  },
  {
   "cell_type": "markdown",
   "metadata": {},
   "source": [
    "### Feedback\n",
    "\n",
    "$A = \\cfrac{1 + sC_3(R_3 + R_4)}{1 + sC_3R_4}$\n",
    "\n",
    "$fg = \\cfrac{1}{2 \\pi C_3R_4}$"
   ]
  },
  {
   "cell_type": "code",
   "execution_count": 22,
   "metadata": {},
   "outputs": [
    {
     "data": {
      "text/latex": [
       "$\\displaystyle C_{10}~=3.9788735772973833nF$"
      ],
      "text/plain": [
       "<IPython.core.display.Math object>"
      ]
     },
     "metadata": {},
     "output_type": "display_data"
    }
   ],
   "source": [
    "C10 = 1/(2 * np.pi * R4 * fg)\n",
    "\n",
    "display(Math(\"C_{10}~=\" + f\"{C10*1e9}nF\"))"
   ]
  },
  {
   "cell_type": "code",
   "execution_count": 23,
   "metadata": {},
   "outputs": [
    {
     "data": {
      "text/latex": [
       "$\\displaystyle f_{g}~=1591.5494309189535Hz$"
      ],
      "text/plain": [
       "<IPython.core.display.Math object>"
      ]
     },
     "metadata": {},
     "output_type": "display_data"
    }
   ],
   "source": [
    "C10 = 10e-9\n",
    "fg_real = 1/(2 * np.pi * R4 * C10)\n",
    "\n",
    "display(Math(\"f_{g}~=\" + f\"{fg_real}Hz\"))"
   ]
  },
  {
   "cell_type": "markdown",
   "metadata": {},
   "source": [
    "### Output"
   ]
  },
  {
   "cell_type": "code",
   "execution_count": null,
   "metadata": {},
   "outputs": [],
   "source": []
  }
 ],
 "metadata": {
  "interpreter": {
   "hash": "c650d7ea476703797fef1616c599c5fe06f1b1bacf69f4e17f09dcc79ec3c159"
  },
  "kernelspec": {
   "display_name": "Python 3.9.4 ('data')",
   "language": "python",
   "name": "python3"
  },
  "language_info": {
   "codemirror_mode": {
    "name": "ipython",
    "version": 3
   },
   "file_extension": ".py",
   "mimetype": "text/x-python",
   "name": "python",
   "nbconvert_exporter": "python",
   "pygments_lexer": "ipython3",
   "version": "3.9.4"
  },
  "orig_nbformat": 4
 },
 "nbformat": 4,
 "nbformat_minor": 2
}
