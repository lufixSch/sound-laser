{
 "cells": [
  {
   "cell_type": "code",
   "execution_count": 1,
   "metadata": {},
   "outputs": [],
   "source": [
    "import numpy as np\n",
    "\n",
    "from IPython.display import display, Math\n",
    "\n",
    "import plotly.express as px\n",
    "import plotly.graph_objects as go\n",
    "import plotly.subplots as subplots\n",
    "\n",
    "import plotly.io as pio"
   ]
  },
  {
   "cell_type": "markdown",
   "metadata": {},
   "source": [
    "# I2C"
   ]
  },
  {
   "cell_type": "markdown",
   "metadata": {},
   "source": [
    "## DAC Parameters"
   ]
  },
  {
   "cell_type": "code",
   "execution_count": 2,
   "metadata": {},
   "outputs": [
    {
     "data": {
      "text/latex": [
       "$\\displaystyle V_{bus} = 5V$"
      ],
      "text/plain": [
       "<IPython.core.display.Math object>"
      ]
     },
     "metadata": {},
     "output_type": "display_data"
    },
    {
     "data": {
      "text/latex": [
       "$\\displaystyle V_{OL} =1.5V~~I_{OL}=0.01A$"
      ],
      "text/plain": [
       "<IPython.core.display.Math object>"
      ]
     },
     "metadata": {},
     "output_type": "display_data"
    },
    {
     "data": {
      "text/latex": [
       "$\\displaystyle C_b=10.0pF~t_r=20.001ns$"
      ],
      "text/plain": [
       "<IPython.core.display.Math object>"
      ]
     },
     "metadata": {},
     "output_type": "display_data"
    }
   ],
   "source": [
    "VCC = 5\n",
    "\n",
    "V_bus = VCC\n",
    "\n",
    "V_OL = 0.3 * VCC\n",
    "I_OL = 0.01\n",
    "\n",
    "C_b = 10e-12\n",
    "t_r = 20e-9 + 0.1 * C_b\n",
    "\n",
    "display(Math(\"V_{bus} = \" + f\"{V_bus}V\"), Math(\"V_{OL} =\" + f\"{V_OL}V~\" + \"~I_{OL}=\" + f\"{I_OL}A\"), Math(\"C_b=\" + f\"{C_b*1e12}pF~\" + \"t_r=\" + f\"{t_r*1e9}ns\"))"
   ]
  },
  {
   "cell_type": "markdown",
   "metadata": {},
   "source": [
    "## Min Resistance"
   ]
  },
  {
   "cell_type": "code",
   "execution_count": 3,
   "metadata": {},
   "outputs": [
    {
     "data": {
      "text/latex": [
       "$\\displaystyle R_{p~(min)}=350.0\\Omega$"
      ],
      "text/plain": [
       "<IPython.core.display.Math object>"
      ]
     },
     "metadata": {},
     "output_type": "display_data"
    }
   ],
   "source": [
    "RP_min = (V_bus - V_OL)/I_OL\n",
    "\n",
    "display(Math(\"R_{p~(min)}=\" + f\"{RP_min}\\Omega\"))"
   ]
  },
  {
   "cell_type": "markdown",
   "metadata": {},
   "source": [
    "## Max Resistance"
   ]
  },
  {
   "cell_type": "code",
   "execution_count": 4,
   "metadata": {},
   "outputs": [
    {
     "data": {
      "text/latex": [
       "$\\displaystyle R_{p~(max)}=2360.5570636138323\\Omega$"
      ],
      "text/plain": [
       "<IPython.core.display.Math object>"
      ]
     },
     "metadata": {},
     "output_type": "display_data"
    }
   ],
   "source": [
    "RP_max = t_r / (0.8473 * C_b)\n",
    "\n",
    "display(Math(\"R_{p~(max)}=\" + f\"{RP_max}\\Omega\"))"
   ]
  },
  {
   "cell_type": "markdown",
   "metadata": {},
   "source": [
    "### Multiple DACs"
   ]
  },
  {
   "cell_type": "code",
   "execution_count": 5,
   "metadata": {},
   "outputs": [
    {
     "data": {
      "text/latex": [
       "$\\displaystyle R_{p~(max)}~\\mathrm{with~n~DACs}=1180.2785318069161\\Omega$"
      ],
      "text/plain": [
       "<IPython.core.display.Math object>"
      ]
     },
     "metadata": {},
     "output_type": "display_data"
    },
    {
     "data": {
      "text/latex": [
       "$\\displaystyle \\mathrm{n~parallel~} R_{p~(max)}=1180.2785318069161\\Omega$"
      ],
      "text/plain": [
       "<IPython.core.display.Math object>"
      ]
     },
     "metadata": {},
     "output_type": "display_data"
    }
   ],
   "source": [
    "n = 2\n",
    "\n",
    "RP_max_mult = t_r / (0.8473 * n * C_b)\n",
    "RP_max_compare = 1/(n/RP_max)\n",
    "\n",
    "display(Math(\"R_{p~(max)}~\\mathrm{with~n~DACs}=\" + f\"{RP_max_mult}\\Omega\"),\n",
    "        Math(\"\\mathrm{n~parallel~} R_{p~(max)}=\" + f\"{RP_max_compare}\\Omega\"))\n"
   ]
  },
  {
   "cell_type": "markdown",
   "metadata": {},
   "source": [
    "# Boost Converter"
   ]
  },
  {
   "cell_type": "markdown",
   "metadata": {},
   "source": [
    "## Parameters"
   ]
  },
  {
   "cell_type": "code",
   "execution_count": 6,
   "metadata": {},
   "outputs": [],
   "source": [
    "Uin = 5 #V\n",
    "Ua = 24 #V\n",
    "Uref = 1.255 #V\n",
    "\n",
    "R2 = 10e3 #Ohm\n",
    "\n",
    "f = 1e3 #Switching Frequency"
   ]
  },
  {
   "cell_type": "markdown",
   "metadata": {},
   "source": [
    "## Feedback (R1/C7)\n",
    "\n",
    "$U_a = \\cfrac{R_1 + R_2}{R_2} \\cdot U_{ref}$\n",
    "\n",
    "$f_{sw} = \\cfrac{1}{2 \\pi R_1 C_7}$"
   ]
  },
  {
   "cell_type": "code",
   "execution_count": 7,
   "metadata": {},
   "outputs": [
    {
     "data": {
      "text/latex": [
       "$\\displaystyle R_{1}~=181.23505976095618k\\Omega$"
      ],
      "text/plain": [
       "<IPython.core.display.Math object>"
      ]
     },
     "metadata": {},
     "output_type": "display_data"
    },
    {
     "data": {
      "text/latex": [
       "$\\displaystyle C_{7}=878.1686242265495pF$"
      ],
      "text/plain": [
       "<IPython.core.display.Math object>"
      ]
     },
     "metadata": {},
     "output_type": "display_data"
    }
   ],
   "source": [
    "R1 = (Ua/Uref - 1) * R2\n",
    "C7 = 1/(2 * np.pi * f * R1)\n",
    "\n",
    "display(Math(\"R_{1}~=\" + f\"{R1*1e-3}k\\Omega\"),\n",
    "        Math(\"C_{7}=\" + f\"{C7*1e12}pF\"))\n"
   ]
  },
  {
   "cell_type": "markdown",
   "metadata": {},
   "source": [
    "# Amplifier"
   ]
  },
  {
   "cell_type": "markdown",
   "metadata": {},
   "source": [
    "## Parameters"
   ]
  },
  {
   "cell_type": "code",
   "execution_count": 8,
   "metadata": {},
   "outputs": [],
   "source": [
    "V = 4\n",
    "Uin = 4\n",
    "R3 = 15e3"
   ]
  },
  {
   "cell_type": "markdown",
   "metadata": {},
   "source": [
    "## Amplification"
   ]
  },
  {
   "cell_type": "code",
   "execution_count": 9,
   "metadata": {},
   "outputs": [
    {
     "data": {
      "text/latex": [
       "$\\displaystyle R_{4}~=5.0k\\Omega$"
      ],
      "text/plain": [
       "<IPython.core.display.Math object>"
      ]
     },
     "metadata": {},
     "output_type": "display_data"
    },
    {
     "data": {
      "text/latex": [
       "$\\displaystyle R_{3}~=15.0k\\Omega$"
      ],
      "text/plain": [
       "<IPython.core.display.Math object>"
      ]
     },
     "metadata": {},
     "output_type": "display_data"
    }
   ],
   "source": [
    "R4 = R3/(V - 1)\n",
    "\n",
    "display(Math(\"R_{4}~=\" + f\"{R4*1e-3}k\\Omega\"), \n",
    "        Math(\"R_{3}~=\" + f\"{R3*1e-3}k\\Omega\"))"
   ]
  },
  {
   "cell_type": "markdown",
   "metadata": {},
   "source": [
    "## AC Coupling"
   ]
  },
  {
   "cell_type": "code",
   "execution_count": 10,
   "metadata": {},
   "outputs": [],
   "source": [
    "fg = 4000"
   ]
  },
  {
   "cell_type": "markdown",
   "metadata": {},
   "source": [
    "### Input\n",
    "\n",
    "$\\cfrac{U_a}{U_{in}} = \\cfrac{sC_8\\cdot \\frac{1}{2}R_{8/9}}{1 + sC_8\\cdot \\frac{1}{2}R_{8/9}}$\n",
    "\n",
    "$f_g = \\cfrac{1}{2 \\pi C_8 \\cdot \\frac{1}{2}R_{8/9}}$"
   ]
  },
  {
   "cell_type": "code",
   "execution_count": 11,
   "metadata": {},
   "outputs": [
    {
     "data": {
      "text/latex": [
       "$\\displaystyle R_{8/9}~=100.0k\\Omega$"
      ],
      "text/plain": [
       "<IPython.core.display.Math object>"
      ]
     },
     "metadata": {},
     "output_type": "display_data"
    },
    {
     "data": {
      "text/latex": [
       "$\\displaystyle C_{8}~=1.5915494309189535nF$"
      ],
      "text/plain": [
       "<IPython.core.display.Math object>"
      ]
     },
     "metadata": {},
     "output_type": "display_data"
    }
   ],
   "source": [
    "#R8 = R9 = 10e3\n",
    "#C8 = 1/(np.pi * fg * R8)\n",
    "\n",
    "\n",
    "R8 = R9 = 100e3\n",
    "C8 = 1/(np.pi * fg * 1/2 * R8)\n",
    "\n",
    "display(Math(\"R_{8/9}~=\" + f\"{R8*1e-3}k\\Omega\"),\n",
    "        Math(\"C_{8}~=\" + f\"{C8*1e9}nF\"))\n"
   ]
  },
  {
   "cell_type": "markdown",
   "metadata": {},
   "source": [
    "### Feedback\n",
    "\n",
    "$A = \\cfrac{1 + sC_3(R_3 + R_4)}{1 + sC_3R_4}$\n",
    "\n",
    "$fg = \\cfrac{1}{2 \\pi C_3R_4}$"
   ]
  },
  {
   "cell_type": "code",
   "execution_count": 12,
   "metadata": {},
   "outputs": [
    {
     "data": {
      "text/latex": [
       "$\\displaystyle C_{10}~=7.957747154594767nF$"
      ],
      "text/plain": [
       "<IPython.core.display.Math object>"
      ]
     },
     "metadata": {},
     "output_type": "display_data"
    }
   ],
   "source": [
    "C9 = 1/(2 * np.pi * R4 * fg)\n",
    "\n",
    "display(Math(\"C_{10}~=\" + f\"{C9*1e9}nF\"))"
   ]
  },
  {
   "cell_type": "code",
   "execution_count": 13,
   "metadata": {},
   "outputs": [
    {
     "data": {
      "text/latex": [
       "$\\displaystyle f_{g}~=3183.098861837907Hz$"
      ],
      "text/plain": [
       "<IPython.core.display.Math object>"
      ]
     },
     "metadata": {},
     "output_type": "display_data"
    }
   ],
   "source": [
    "C9 = 10e-9\n",
    "fg_real = 1/(2 * np.pi * R4 * C9)\n",
    "\n",
    "display(Math(\"f_{g}~=\" + f\"{fg_real}Hz\"))"
   ]
  },
  {
   "cell_type": "code",
   "execution_count": 14,
   "metadata": {},
   "outputs": [
    {
     "data": {
      "text/latex": [
       "$\\displaystyle f_{g2}~=795.7747154594767Hz$"
      ],
      "text/plain": [
       "<IPython.core.display.Math object>"
      ]
     },
     "metadata": {},
     "output_type": "display_data"
    }
   ],
   "source": [
    "fg2 = 1/(2 * np.pi * C9 * (R4 + R3))\n",
    "\n",
    "display(Math(\"f_{g2}~=\" + f\"{fg2}Hz\"))"
   ]
  },
  {
   "cell_type": "markdown",
   "metadata": {},
   "source": [
    "### Output"
   ]
  },
  {
   "cell_type": "markdown",
   "metadata": {},
   "source": [
    "$A = \\cfrac{sC_{10} \\cdot Z_{10}}{1 + sC_{10} \\cdot Z_{10}}$\n",
    "\n",
    "$f_g = \\cfrac{1}{2 \\pi C_{10} \\cdot Z_{10}}$\n",
    "\n",
    "$Z_{10} = R_{10} || Z_M$"
   ]
  },
  {
   "cell_type": "code",
   "execution_count": 15,
   "metadata": {},
   "outputs": [],
   "source": [
    "CM = 45.6e-9\n",
    "ESR = 16\n"
   ]
  },
  {
   "cell_type": "markdown",
   "metadata": {},
   "source": [
    "### Stability"
   ]
  },
  {
   "cell_type": "code",
   "execution_count": 16,
   "metadata": {},
   "outputs": [],
   "source": [
    "A0 = 10**(120/20)\n",
    "GBW = 5.25e6\n",
    "\n",
    "wg = 2*np.pi*GBW/A0"
   ]
  },
  {
   "cell_type": "markdown",
   "metadata": {},
   "source": [
    "#### Without load"
   ]
  },
  {
   "cell_type": "markdown",
   "metadata": {},
   "source": [
    "$ A_d = \\cfrac{A_0}{1 + \\cfrac{s}{w_g}}$\n",
    "\n",
    "$ k = \\cfrac{1 + s C_9 R_4}{1 + s C_9 (R_4 + R_3)}$\n",
    "\n",
    "$ g = A_d \\cdot k$"
   ]
  },
  {
   "cell_type": "code",
   "execution_count": 17,
   "metadata": {},
   "outputs": [],
   "source": [
    "s = lambda w: np.multiply(w, 1j)\n",
    "Ad = lambda w: A0/(1 + s(w) / wg)\n",
    "k = lambda w: (1 + C9 * R4 * s(w))/(1 + C9 * (R4 + R3) * s(w))\n",
    "\n",
    "g = lambda w: Ad(w) * k(w)"
   ]
  },
  {
   "cell_type": "code",
   "execution_count": 23,
   "metadata": {},
   "outputs": [
    {
     "data": {
      "application/vnd.plotly.v1+json": {
       "config": {
        "plotlyServerURL": "https://plot.ly"
       },
       "data": [
        {
         "name": "magnitude",
         "type": "scatter",
         "x": [
          1.5915494309189535,
          1.8298950917203518,
          2.103934682549456,
          2.419013619121152,
          2.7812778305469386,
          3.1977936418159802,
          3.6766856095163263,
          4.227294999419584,
          4.860361997192534,
          5.5882352064374246,
          6.425112520529339,
          7.387318066696189,
          8.493620624412019,
          9.765599729172202,
          11.228066602869978,
          12.909548121441446,
          14.842843260051,
          17.06566286983577,
          19.621365265693072,
          22.55980197348476,
          25.938290133801743,
          29.822730529994626,
          34.288893048722976,
          39.423894647214034,
          45.327898656457684,
          52.11606856694184,
          59.92081440746942,
          68.89437553491746,
          79.21179021482997,
          91.07430991747867,
          104.71332492864246,
          120.39487784806276,
          138.42485301586603,
          159.15494309189535,
          182.98950917203518,
          210.39346825494556,
          241.9013619121151,
          278.12778305469396,
          319.7793641815982,
          367.6685609516327,
          422.7294999419584,
          486.0361997192534,
          558.8235206437424,
          642.5112520529339,
          738.7318066696191,
          849.3620624412024,
          976.5599729172208,
          1122.8066602869978,
          1290.9548121441446,
          1484.2843260051002,
          1706.566286983577,
          1962.1365265693073,
          2255.980197348476,
          2593.8290133801797,
          2982.2730529994683,
          3428.8893048723007,
          3942.3894647214074,
          4532.789865645773,
          5211.606856694189,
          5992.081440746948,
          6889.437553491746,
          7921.179021482997,
          9107.430991747868,
          10471.332492864247,
          12039.487784806277,
          13842.485301586605,
          15915.494309189535,
          18298.950917203518,
          21039.34682549456,
          24190.13619121151,
          27812.778305469372,
          31977.93641815979,
          36766.85609516323,
          42272.94999419588,
          48603.619971925385,
          55882.35206437431,
          64251.12520529345,
          73873.18066696193,
          84936.20624412023,
          97655.99729172207,
          112280.66602869976,
          129095.48121441447,
          148428.43260051,
          170656.62869835767,
          196213.6526569307,
          225598.0197348476,
          259382.90133801743,
          298227.3052999463,
          342888.93048723007,
          394238.9464721407,
          453278.9865645772,
          521160.6856694189,
          599208.1440746948,
          688943.7553491746,
          792117.9021482996,
          910743.0991747866,
          1047133.2492864247,
          1203948.7784806278,
          1384248.5301586606,
          1591549.4309189534
         ],
         "xaxis": "x",
         "y": [
          119.6181498820267,
          119.50203173318823,
          119.35314538217344,
          119.16384727041864,
          118.92563456168064,
          118.62953710202801,
          118.2667401421256,
          117.82940262268215,
          117.3115546118664,
          116.70988622011416,
          116.02422368157235,
          115.25755427771556,
          114.41559246632805,
          113.50601399411877,
          112.53755932633128,
          111.519199073074,
          110.45948645207245,
          109.36613976493616,
          108.24583535048137,
          107.10415995529566,
          105.94566560468735,
          104.77397870449931,
          103.59192865067028,
          102.40167401061683,
          101.20481410043953,
          100.00248025264945,
          98.79540484705129,
          97.58396805105471,
          96.36822287714236,
          95.14789913875813,
          93.922386555618,
          92.69069693337796,
          91.45140532632573,
          90.20257076241533,
          88.9416389813887,
          87.66533339143946,
          86.36954687831654,
          85.04925683488807,
          83.69849865956034,
          82.31044693106243,
          80.87766312465378,
          79.39256467814067,
          77.84814100791019,
          76.23888115399967,
          74.56179422343408,
          72.81732921477355,
          71.00997903929434,
          69.14841131523572,
          67.24508709593451,
          65.31544881182798,
          63.37682279768269,
          61.44717703121372,
          59.543837260578144,
          57.682244697014696,
          55.87485844651251,
          54.1303432991911,
          52.453188235800866,
          50.8438369139816,
          49.29929127101016,
          47.81403078676581,
          46.381032178483466,
          44.99269605185673,
          43.641561600335734,
          42.32077392935027,
          41.024329470762034,
          39.74715411836068,
          38.48507271622162,
          37.23471880184481,
          35.993419453354605,
          34.75907708969323,
          33.530060186339654,
          32.30510825024001,
          31.083252409950873,
          29.86375082962895,
          28.646037174463114,
          27.429680052610124,
          26.214351415256026,
          24.999802118237024,
          23.78584312604538,
          22.57233111481757,
          21.35915747867862,
          20.14623995429664,
          18.933516251189737,
          17.720939213788537,
          16.50847315053198,
          15.296091050553702,
          14.083772474535095,
          12.871501957109732,
          11.65926779713635,
          10.447061141895272,
          9.234875293921567,
          8.022705186423982,
          6.810546986329165,
          5.5983977939251695,
          4.3862554156104085,
          3.174118191962319,
          1.961984867663758,
          0.7498544930991359,
          -0.46227365008906585,
          -1.6744001053166058
         ],
         "yaxis": "y"
        },
        {
         "name": "phase",
         "type": "scatter",
         "x": [
          1.5915494309189535,
          1.8298950917203518,
          2.103934682549456,
          2.419013619121152,
          2.7812778305469386,
          3.1977936418159802,
          3.6766856095163263,
          4.227294999419584,
          4.860361997192534,
          5.5882352064374246,
          6.425112520529339,
          7.387318066696189,
          8.493620624412019,
          9.765599729172202,
          11.228066602869978,
          12.909548121441446,
          14.842843260051,
          17.06566286983577,
          19.621365265693072,
          22.55980197348476,
          25.938290133801743,
          29.822730529994626,
          34.288893048722976,
          39.423894647214034,
          45.327898656457684,
          52.11606856694184,
          59.92081440746942,
          68.89437553491746,
          79.21179021482997,
          91.07430991747867,
          104.71332492864246,
          120.39487784806276,
          138.42485301586603,
          159.15494309189535,
          182.98950917203518,
          210.39346825494556,
          241.9013619121151,
          278.12778305469396,
          319.7793641815982,
          367.6685609516327,
          422.7294999419584,
          486.0361997192534,
          558.8235206437424,
          642.5112520529339,
          738.7318066696191,
          849.3620624412024,
          976.5599729172208,
          1122.8066602869978,
          1290.9548121441446,
          1484.2843260051002,
          1706.566286983577,
          1962.1365265693073,
          2255.980197348476,
          2593.8290133801797,
          2982.2730529994683,
          3428.8893048723007,
          3942.3894647214074,
          4532.789865645773,
          5211.606856694189,
          5992.081440746948,
          6889.437553491746,
          7921.179021482997,
          9107.430991747868,
          10471.332492864247,
          12039.487784806277,
          13842.485301586605,
          15915.494309189535,
          18298.950917203518,
          21039.34682549456,
          24190.13619121151,
          27812.778305469372,
          31977.93641815979,
          36766.85609516323,
          42272.94999419588,
          48603.619971925385,
          55882.35206437431,
          64251.12520529345,
          73873.18066696193,
          84936.20624412023,
          97655.99729172207,
          112280.66602869976,
          129095.48121441447,
          148428.43260051,
          170656.62869835767,
          196213.6526569307,
          225598.0197348476,
          259382.90133801743,
          298227.3052999463,
          342888.93048723007,
          394238.9464721407,
          453278.9865645772,
          521160.6856694189,
          599208.1440746948,
          688943.7553491746,
          792117.9021482996,
          910743.0991747866,
          1047133.2492864247,
          1203948.7784806278,
          1384248.5301586606,
          1591549.4309189534
         ],
         "xaxis": "x2",
         "y": [
          -16.950742659676973,
          -19.314888400919905,
          -21.952030220237862,
          -24.869198597031595,
          -28.06336382458996,
          -31.518422092175744,
          -35.20290372576412,
          -39.06925554392728,
          -43.055455093427035,
          -47.08924128308264,
          -51.09447092522371,
          -54.99835228280587,
          -58.737967145966174,
          -62.26477107576602,
          -65.54649368545894,
          -68.5666526607052,
          -71.32240829742945,
          -73.82161628431179,
          -76.07978639349894,
          -78.1173924855235,
          -79.95773362105545,
          -81.6253743630727,
          -83.14509844231972,
          -84.5412737401457,
          -85.83752438752175,
          -87.05661943846862,
          -88.22050571147541,
          -89.35042906797747,
          -90.46710103210859,
          -91.59087540199491,
          -92.74190221480356,
          -93.94022412870585,
          -95.20577299832769,
          -96.55821231874658,
          -98.01655512823214,
          -99.59846937479756,
          -101.31916938897163,
          -103.18979397995862,
          -105.21520673851998,
          -107.39124617941496,
          -109.70162395590589,
          -112.11491842289149,
          -114.58238735702035,
          -117.03750508936646,
          -119.39804668386058,
          -121.5710802710002,
          -123.46046468565505,
          -124.97569432161157,
          -126.04056965483751,
          -126.60036911023049,
          -126.62676529353882,
          -126.12027304288868,
          -125.11025946307552,
          -123.65251613690145,
          -121.82436374249582,
          -119.71750202490026,
          -117.42936252071647,
          -115.05428880653501,
          -112.67606629691406,
          -110.36296019648616,
          -108.1656650209786,
          -106.11780519378684,
          -104.23816475836261,
          -102.53374168367316,
          -101.00290374416923,
          -99.63819953452834,
          -98.42862724859398,
          -97.36133443577639,
          -96.42281391145616,
          -95.5996958622996,
          -94.87923767642157,
          -94.2495989939196,
          -93.69997078015113,
          -93.22060937792519,
          -92.80281167257205,
          -92.43885612033624,
          -92.12192607924503,
          -91.84602602698367,
          -91.60589723820671,
          -91.39693680717846,
          -91.21512214126982,
          -91.05694192349581,
          -90.91933383993057,
          -90.79962894632573,
          -90.69550230943341,
          -90.60492943649669,
          -90.52614795740763,
          -90.45762401947061,
          -90.39802287595919,
          -90.34618318483034,
          -90.3010945755869,
          -90.26187808576813,
          -90.22776911117809,
          -90.19810255420566,
          -90.17229989168028,
          -90.14985791734075,
          -90.13033894415261,
          -90.1133622785353,
          -90.09859680228472,
          -90.08575451886858
         ],
         "yaxis": "y2"
        }
       ],
       "layout": {
        "showlegend": false,
        "template": {
         "data": {
          "bar": [
           {
            "error_x": {
             "color": "#2a3f5f"
            },
            "error_y": {
             "color": "#2a3f5f"
            },
            "marker": {
             "line": {
              "color": "#E5ECF6",
              "width": 0.5
             },
             "pattern": {
              "fillmode": "overlay",
              "size": 10,
              "solidity": 0.2
             }
            },
            "type": "bar"
           }
          ],
          "barpolar": [
           {
            "marker": {
             "line": {
              "color": "#E5ECF6",
              "width": 0.5
             },
             "pattern": {
              "fillmode": "overlay",
              "size": 10,
              "solidity": 0.2
             }
            },
            "type": "barpolar"
           }
          ],
          "carpet": [
           {
            "aaxis": {
             "endlinecolor": "#2a3f5f",
             "gridcolor": "white",
             "linecolor": "white",
             "minorgridcolor": "white",
             "startlinecolor": "#2a3f5f"
            },
            "baxis": {
             "endlinecolor": "#2a3f5f",
             "gridcolor": "white",
             "linecolor": "white",
             "minorgridcolor": "white",
             "startlinecolor": "#2a3f5f"
            },
            "type": "carpet"
           }
          ],
          "choropleth": [
           {
            "colorbar": {
             "outlinewidth": 0,
             "ticks": ""
            },
            "type": "choropleth"
           }
          ],
          "contour": [
           {
            "colorbar": {
             "outlinewidth": 0,
             "ticks": ""
            },
            "colorscale": [
             [
              0,
              "#0d0887"
             ],
             [
              0.1111111111111111,
              "#46039f"
             ],
             [
              0.2222222222222222,
              "#7201a8"
             ],
             [
              0.3333333333333333,
              "#9c179e"
             ],
             [
              0.4444444444444444,
              "#bd3786"
             ],
             [
              0.5555555555555556,
              "#d8576b"
             ],
             [
              0.6666666666666666,
              "#ed7953"
             ],
             [
              0.7777777777777778,
              "#fb9f3a"
             ],
             [
              0.8888888888888888,
              "#fdca26"
             ],
             [
              1,
              "#f0f921"
             ]
            ],
            "type": "contour"
           }
          ],
          "contourcarpet": [
           {
            "colorbar": {
             "outlinewidth": 0,
             "ticks": ""
            },
            "type": "contourcarpet"
           }
          ],
          "heatmap": [
           {
            "colorbar": {
             "outlinewidth": 0,
             "ticks": ""
            },
            "colorscale": [
             [
              0,
              "#0d0887"
             ],
             [
              0.1111111111111111,
              "#46039f"
             ],
             [
              0.2222222222222222,
              "#7201a8"
             ],
             [
              0.3333333333333333,
              "#9c179e"
             ],
             [
              0.4444444444444444,
              "#bd3786"
             ],
             [
              0.5555555555555556,
              "#d8576b"
             ],
             [
              0.6666666666666666,
              "#ed7953"
             ],
             [
              0.7777777777777778,
              "#fb9f3a"
             ],
             [
              0.8888888888888888,
              "#fdca26"
             ],
             [
              1,
              "#f0f921"
             ]
            ],
            "type": "heatmap"
           }
          ],
          "heatmapgl": [
           {
            "colorbar": {
             "outlinewidth": 0,
             "ticks": ""
            },
            "colorscale": [
             [
              0,
              "#0d0887"
             ],
             [
              0.1111111111111111,
              "#46039f"
             ],
             [
              0.2222222222222222,
              "#7201a8"
             ],
             [
              0.3333333333333333,
              "#9c179e"
             ],
             [
              0.4444444444444444,
              "#bd3786"
             ],
             [
              0.5555555555555556,
              "#d8576b"
             ],
             [
              0.6666666666666666,
              "#ed7953"
             ],
             [
              0.7777777777777778,
              "#fb9f3a"
             ],
             [
              0.8888888888888888,
              "#fdca26"
             ],
             [
              1,
              "#f0f921"
             ]
            ],
            "type": "heatmapgl"
           }
          ],
          "histogram": [
           {
            "marker": {
             "pattern": {
              "fillmode": "overlay",
              "size": 10,
              "solidity": 0.2
             }
            },
            "type": "histogram"
           }
          ],
          "histogram2d": [
           {
            "colorbar": {
             "outlinewidth": 0,
             "ticks": ""
            },
            "colorscale": [
             [
              0,
              "#0d0887"
             ],
             [
              0.1111111111111111,
              "#46039f"
             ],
             [
              0.2222222222222222,
              "#7201a8"
             ],
             [
              0.3333333333333333,
              "#9c179e"
             ],
             [
              0.4444444444444444,
              "#bd3786"
             ],
             [
              0.5555555555555556,
              "#d8576b"
             ],
             [
              0.6666666666666666,
              "#ed7953"
             ],
             [
              0.7777777777777778,
              "#fb9f3a"
             ],
             [
              0.8888888888888888,
              "#fdca26"
             ],
             [
              1,
              "#f0f921"
             ]
            ],
            "type": "histogram2d"
           }
          ],
          "histogram2dcontour": [
           {
            "colorbar": {
             "outlinewidth": 0,
             "ticks": ""
            },
            "colorscale": [
             [
              0,
              "#0d0887"
             ],
             [
              0.1111111111111111,
              "#46039f"
             ],
             [
              0.2222222222222222,
              "#7201a8"
             ],
             [
              0.3333333333333333,
              "#9c179e"
             ],
             [
              0.4444444444444444,
              "#bd3786"
             ],
             [
              0.5555555555555556,
              "#d8576b"
             ],
             [
              0.6666666666666666,
              "#ed7953"
             ],
             [
              0.7777777777777778,
              "#fb9f3a"
             ],
             [
              0.8888888888888888,
              "#fdca26"
             ],
             [
              1,
              "#f0f921"
             ]
            ],
            "type": "histogram2dcontour"
           }
          ],
          "mesh3d": [
           {
            "colorbar": {
             "outlinewidth": 0,
             "ticks": ""
            },
            "type": "mesh3d"
           }
          ],
          "parcoords": [
           {
            "line": {
             "colorbar": {
              "outlinewidth": 0,
              "ticks": ""
             }
            },
            "type": "parcoords"
           }
          ],
          "pie": [
           {
            "automargin": true,
            "type": "pie"
           }
          ],
          "scatter": [
           {
            "fillpattern": {
             "fillmode": "overlay",
             "size": 10,
             "solidity": 0.2
            },
            "type": "scatter"
           }
          ],
          "scatter3d": [
           {
            "line": {
             "colorbar": {
              "outlinewidth": 0,
              "ticks": ""
             }
            },
            "marker": {
             "colorbar": {
              "outlinewidth": 0,
              "ticks": ""
             }
            },
            "type": "scatter3d"
           }
          ],
          "scattercarpet": [
           {
            "marker": {
             "colorbar": {
              "outlinewidth": 0,
              "ticks": ""
             }
            },
            "type": "scattercarpet"
           }
          ],
          "scattergeo": [
           {
            "marker": {
             "colorbar": {
              "outlinewidth": 0,
              "ticks": ""
             }
            },
            "type": "scattergeo"
           }
          ],
          "scattergl": [
           {
            "marker": {
             "colorbar": {
              "outlinewidth": 0,
              "ticks": ""
             }
            },
            "type": "scattergl"
           }
          ],
          "scattermapbox": [
           {
            "marker": {
             "colorbar": {
              "outlinewidth": 0,
              "ticks": ""
             }
            },
            "type": "scattermapbox"
           }
          ],
          "scatterpolar": [
           {
            "marker": {
             "colorbar": {
              "outlinewidth": 0,
              "ticks": ""
             }
            },
            "type": "scatterpolar"
           }
          ],
          "scatterpolargl": [
           {
            "marker": {
             "colorbar": {
              "outlinewidth": 0,
              "ticks": ""
             }
            },
            "type": "scatterpolargl"
           }
          ],
          "scatterternary": [
           {
            "marker": {
             "colorbar": {
              "outlinewidth": 0,
              "ticks": ""
             }
            },
            "type": "scatterternary"
           }
          ],
          "surface": [
           {
            "colorbar": {
             "outlinewidth": 0,
             "ticks": ""
            },
            "colorscale": [
             [
              0,
              "#0d0887"
             ],
             [
              0.1111111111111111,
              "#46039f"
             ],
             [
              0.2222222222222222,
              "#7201a8"
             ],
             [
              0.3333333333333333,
              "#9c179e"
             ],
             [
              0.4444444444444444,
              "#bd3786"
             ],
             [
              0.5555555555555556,
              "#d8576b"
             ],
             [
              0.6666666666666666,
              "#ed7953"
             ],
             [
              0.7777777777777778,
              "#fb9f3a"
             ],
             [
              0.8888888888888888,
              "#fdca26"
             ],
             [
              1,
              "#f0f921"
             ]
            ],
            "type": "surface"
           }
          ],
          "table": [
           {
            "cells": {
             "fill": {
              "color": "#EBF0F8"
             },
             "line": {
              "color": "white"
             }
            },
            "header": {
             "fill": {
              "color": "#C8D4E3"
             },
             "line": {
              "color": "white"
             }
            },
            "type": "table"
           }
          ]
         },
         "layout": {
          "annotationdefaults": {
           "arrowcolor": "#2a3f5f",
           "arrowhead": 0,
           "arrowwidth": 1
          },
          "autotypenumbers": "strict",
          "coloraxis": {
           "colorbar": {
            "outlinewidth": 0,
            "ticks": ""
           }
          },
          "colorscale": {
           "diverging": [
            [
             0,
             "#8e0152"
            ],
            [
             0.1,
             "#c51b7d"
            ],
            [
             0.2,
             "#de77ae"
            ],
            [
             0.3,
             "#f1b6da"
            ],
            [
             0.4,
             "#fde0ef"
            ],
            [
             0.5,
             "#f7f7f7"
            ],
            [
             0.6,
             "#e6f5d0"
            ],
            [
             0.7,
             "#b8e186"
            ],
            [
             0.8,
             "#7fbc41"
            ],
            [
             0.9,
             "#4d9221"
            ],
            [
             1,
             "#276419"
            ]
           ],
           "sequential": [
            [
             0,
             "#0d0887"
            ],
            [
             0.1111111111111111,
             "#46039f"
            ],
            [
             0.2222222222222222,
             "#7201a8"
            ],
            [
             0.3333333333333333,
             "#9c179e"
            ],
            [
             0.4444444444444444,
             "#bd3786"
            ],
            [
             0.5555555555555556,
             "#d8576b"
            ],
            [
             0.6666666666666666,
             "#ed7953"
            ],
            [
             0.7777777777777778,
             "#fb9f3a"
            ],
            [
             0.8888888888888888,
             "#fdca26"
            ],
            [
             1,
             "#f0f921"
            ]
           ],
           "sequentialminus": [
            [
             0,
             "#0d0887"
            ],
            [
             0.1111111111111111,
             "#46039f"
            ],
            [
             0.2222222222222222,
             "#7201a8"
            ],
            [
             0.3333333333333333,
             "#9c179e"
            ],
            [
             0.4444444444444444,
             "#bd3786"
            ],
            [
             0.5555555555555556,
             "#d8576b"
            ],
            [
             0.6666666666666666,
             "#ed7953"
            ],
            [
             0.7777777777777778,
             "#fb9f3a"
            ],
            [
             0.8888888888888888,
             "#fdca26"
            ],
            [
             1,
             "#f0f921"
            ]
           ]
          },
          "colorway": [
           "#636efa",
           "#EF553B",
           "#00cc96",
           "#ab63fa",
           "#FFA15A",
           "#19d3f3",
           "#FF6692",
           "#B6E880",
           "#FF97FF",
           "#FECB52"
          ],
          "font": {
           "color": "#2a3f5f"
          },
          "geo": {
           "bgcolor": "white",
           "lakecolor": "white",
           "landcolor": "#E5ECF6",
           "showlakes": true,
           "showland": true,
           "subunitcolor": "white"
          },
          "hoverlabel": {
           "align": "left"
          },
          "hovermode": "closest",
          "mapbox": {
           "style": "light"
          },
          "paper_bgcolor": "white",
          "plot_bgcolor": "#E5ECF6",
          "polar": {
           "angularaxis": {
            "gridcolor": "white",
            "linecolor": "white",
            "ticks": ""
           },
           "bgcolor": "#E5ECF6",
           "radialaxis": {
            "gridcolor": "white",
            "linecolor": "white",
            "ticks": ""
           }
          },
          "scene": {
           "xaxis": {
            "backgroundcolor": "#E5ECF6",
            "gridcolor": "white",
            "gridwidth": 2,
            "linecolor": "white",
            "showbackground": true,
            "ticks": "",
            "zerolinecolor": "white"
           },
           "yaxis": {
            "backgroundcolor": "#E5ECF6",
            "gridcolor": "white",
            "gridwidth": 2,
            "linecolor": "white",
            "showbackground": true,
            "ticks": "",
            "zerolinecolor": "white"
           },
           "zaxis": {
            "backgroundcolor": "#E5ECF6",
            "gridcolor": "white",
            "gridwidth": 2,
            "linecolor": "white",
            "showbackground": true,
            "ticks": "",
            "zerolinecolor": "white"
           }
          },
          "shapedefaults": {
           "line": {
            "color": "#2a3f5f"
           }
          },
          "ternary": {
           "aaxis": {
            "gridcolor": "white",
            "linecolor": "white",
            "ticks": ""
           },
           "baxis": {
            "gridcolor": "white",
            "linecolor": "white",
            "ticks": ""
           },
           "bgcolor": "#E5ECF6",
           "caxis": {
            "gridcolor": "white",
            "linecolor": "white",
            "ticks": ""
           }
          },
          "title": {
           "x": 0.05
          },
          "xaxis": {
           "automargin": true,
           "gridcolor": "white",
           "linecolor": "white",
           "ticks": "",
           "title": {
            "standoff": 15
           },
           "zerolinecolor": "white",
           "zerolinewidth": 2
          },
          "yaxis": {
           "automargin": true,
           "gridcolor": "white",
           "linecolor": "white",
           "ticks": "",
           "title": {
            "standoff": 15
           },
           "zerolinecolor": "white",
           "zerolinewidth": 2
          }
         }
        },
        "xaxis": {
         "anchor": "y",
         "domain": [
          0,
          1
         ],
         "range": [
          1,
          6
         ],
         "title": {
          "text": "$f \\text{ in } Hz$"
         },
         "type": "log"
        },
        "xaxis2": {
         "anchor": "y2",
         "domain": [
          0,
          1
         ],
         "range": [
          1,
          6
         ],
         "title": {
          "text": "$f \\text{ in } Hz$"
         },
         "type": "log"
        },
        "yaxis": {
         "anchor": "x",
         "domain": [
          0.575,
          1
         ],
         "range": [
          -10,
          125
         ],
         "title": {
          "text": "$\\text{Magnitude in } dB$"
         }
        },
        "yaxis2": {
         "anchor": "x2",
         "domain": [
          0,
          0.425
         ],
         "range": [
          -180,
          10
         ],
         "title": {
          "text": "$\\text{Phase in } ^\\circ$"
         }
        }
       }
      }
     },
     "metadata": {},
     "output_type": "display_data"
    }
   ],
   "source": [
    "w = np.logspace(1, 7, 100)\n",
    "f = w/(2*np.pi)\n",
    "\n",
    "G = g(w)\n",
    "\n",
    "fig = subplots.make_subplots(rows=2, cols=1)\n",
    "fig.update_layout(\n",
    "    xaxis_title=r\"$f \\text{ in } Hz$\",\n",
    "    yaxis_title=r\"$\\text{Magnitude in } dB$\",\n",
    "    xaxis2_title=r\"$f \\text{ in } Hz$\",\n",
    "    yaxis2_title=r\"$\\text{Phase in } ^\\circ$\",\n",
    "    xaxis=dict(type=\"log\", range=[1, 6]),\n",
    "    xaxis2=dict(type=\"log\", range=[1, 6]),\n",
    "    yaxis=dict(range=[-10, 125]),\n",
    "    yaxis2=dict(range=[-180, 10]),\n",
    "    showlegend=False,\n",
    ")\n",
    "fig.add_scatter(x=f, y=20 * np.log10(np.abs(G)), name=\"magnitude\", row=1, col=1)\n",
    "fig.add_scatter(x=f, y=180/np.pi * np.angle(G), name=\"phase\", row=2, col=1)\n",
    "\n",
    "#fig.show(renderer=\"browser\")\n",
    "pio.write_image(fig, \"amp_stability.pdf\", width=800, height=550, engine=\"kaleido\")\n",
    "fig.show()"
   ]
  }
 ],
 "metadata": {
  "kernelspec": {
   "display_name": "Python 3.10.4 ('sound_laser')",
   "language": "python",
   "name": "python3"
  },
  "language_info": {
   "codemirror_mode": {
    "name": "ipython",
    "version": 3
   },
   "file_extension": ".py",
   "mimetype": "text/x-python",
   "name": "python",
   "nbconvert_exporter": "python",
   "pygments_lexer": "ipython3",
   "version": "3.10.4"
  },
  "orig_nbformat": 4,
  "vscode": {
   "interpreter": {
    "hash": "6b8c87b33405ceb14f5446804cb3c1087934c1ccabf9624e620100f1326be94f"
   }
  }
 },
 "nbformat": 4,
 "nbformat_minor": 2
}
