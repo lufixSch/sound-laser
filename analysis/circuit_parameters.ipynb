{
 "cells": [
  {
   "cell_type": "code",
   "execution_count": 56,
   "metadata": {},
   "outputs": [],
   "source": [
    "import numpy as np\n",
    "\n",
    "from IPython.display import display, Math\n",
    "\n",
    "import plotly.express as px\n",
    "import plotly.graph_objects as go\n",
    "import plotly.subplots as subplots\n"
   ]
  },
  {
   "cell_type": "markdown",
   "metadata": {},
   "source": [
    "# I2C"
   ]
  },
  {
   "cell_type": "markdown",
   "metadata": {},
   "source": [
    "## DAC Parameters"
   ]
  },
  {
   "cell_type": "code",
   "execution_count": 3,
   "metadata": {},
   "outputs": [
    {
     "data": {
      "text/latex": [
       "$\\displaystyle V_{bus} = 5V$"
      ],
      "text/plain": [
       "<IPython.core.display.Math object>"
      ]
     },
     "metadata": {},
     "output_type": "display_data"
    },
    {
     "data": {
      "text/latex": [
       "$\\displaystyle V_{OL} =1.5V~~I_{OL}=0.01A$"
      ],
      "text/plain": [
       "<IPython.core.display.Math object>"
      ]
     },
     "metadata": {},
     "output_type": "display_data"
    },
    {
     "data": {
      "text/latex": [
       "$\\displaystyle C_b=10.0pF~t_r=20.001ns$"
      ],
      "text/plain": [
       "<IPython.core.display.Math object>"
      ]
     },
     "metadata": {},
     "output_type": "display_data"
    }
   ],
   "source": [
    "VCC = 5\n",
    "\n",
    "V_bus = VCC\n",
    "\n",
    "V_OL = 0.3 * VCC\n",
    "I_OL = 0.01\n",
    "\n",
    "C_b = 10e-12\n",
    "t_r = 20e-9 + 0.1 * C_b\n",
    "\n",
    "display(Math(\"V_{bus} = \" + f\"{V_bus}V\"), Math(\"V_{OL} =\" + f\"{V_OL}V~\" + \"~I_{OL}=\" + f\"{I_OL}A\"), Math(\"C_b=\" + f\"{C_b*1e12}pF~\" + \"t_r=\" + f\"{t_r*1e9}ns\"))"
   ]
  },
  {
   "cell_type": "markdown",
   "metadata": {},
   "source": [
    "## Min Resistance"
   ]
  },
  {
   "cell_type": "code",
   "execution_count": 4,
   "metadata": {},
   "outputs": [
    {
     "data": {
      "text/latex": [
       "$\\displaystyle R_{p~(min)}=350.0\\Omega$"
      ],
      "text/plain": [
       "<IPython.core.display.Math object>"
      ]
     },
     "metadata": {},
     "output_type": "display_data"
    }
   ],
   "source": [
    "RP_min = (V_bus - V_OL)/I_OL\n",
    "\n",
    "display(Math(\"R_{p~(min)}=\" + f\"{RP_min}\\Omega\"))"
   ]
  },
  {
   "cell_type": "markdown",
   "metadata": {},
   "source": [
    "## Max Resistance"
   ]
  },
  {
   "cell_type": "code",
   "execution_count": 5,
   "metadata": {},
   "outputs": [
    {
     "data": {
      "text/latex": [
       "$\\displaystyle R_{p~(max)}=2360.5570636138323\\Omega$"
      ],
      "text/plain": [
       "<IPython.core.display.Math object>"
      ]
     },
     "metadata": {},
     "output_type": "display_data"
    }
   ],
   "source": [
    "RP_max = t_r / (0.8473 * C_b)\n",
    "\n",
    "display(Math(\"R_{p~(max)}=\" + f\"{RP_max}\\Omega\"))"
   ]
  },
  {
   "cell_type": "markdown",
   "metadata": {},
   "source": [
    "### Multiple DACs"
   ]
  },
  {
   "cell_type": "code",
   "execution_count": 6,
   "metadata": {},
   "outputs": [
    {
     "data": {
      "text/latex": [
       "$\\displaystyle R_{p~(max)}~\\mathrm{with~n~DACs}=1180.2785318069161\\Omega$"
      ],
      "text/plain": [
       "<IPython.core.display.Math object>"
      ]
     },
     "metadata": {},
     "output_type": "display_data"
    },
    {
     "data": {
      "text/latex": [
       "$\\displaystyle \\mathrm{n~parallel~} R_{p~(max)}=1180.2785318069161\\Omega$"
      ],
      "text/plain": [
       "<IPython.core.display.Math object>"
      ]
     },
     "metadata": {},
     "output_type": "display_data"
    }
   ],
   "source": [
    "n = 2\n",
    "\n",
    "RP_max_mult = t_r / (0.8473 * n * C_b)\n",
    "RP_max_compare = 1/(n/RP_max)\n",
    "\n",
    "display(Math(\"R_{p~(max)}~\\mathrm{with~n~DACs}=\" + f\"{RP_max_mult}\\Omega\"),\n",
    "        Math(\"\\mathrm{n~parallel~} R_{p~(max)}=\" + f\"{RP_max_compare}\\Omega\"))\n"
   ]
  },
  {
   "cell_type": "markdown",
   "metadata": {},
   "source": [
    "# Boost Converter"
   ]
  },
  {
   "cell_type": "markdown",
   "metadata": {},
   "source": [
    "## Parameters"
   ]
  },
  {
   "cell_type": "code",
   "execution_count": 7,
   "metadata": {},
   "outputs": [],
   "source": [
    "Uin = 5 #V\n",
    "Ua = 24 #V\n",
    "Uref = 1.255 #V\n",
    "\n",
    "R2 = 10e3 #Ohm\n",
    "\n",
    "f = 1e3 #Switching Frequency"
   ]
  },
  {
   "cell_type": "markdown",
   "metadata": {},
   "source": [
    "## Feedback (R1/C7)\n",
    "\n",
    "$U_a = \\cfrac{R_1 + R_2}{R_2} \\cdot U_{ref}$\n",
    "\n",
    "$f_{sw} = \\cfrac{1}{2 \\pi R_1 C_7}$"
   ]
  },
  {
   "cell_type": "code",
   "execution_count": 8,
   "metadata": {},
   "outputs": [
    {
     "data": {
      "text/latex": [
       "$\\displaystyle R_{1}~=181.23505976095618k\\Omega$"
      ],
      "text/plain": [
       "<IPython.core.display.Math object>"
      ]
     },
     "metadata": {},
     "output_type": "display_data"
    },
    {
     "data": {
      "text/latex": [
       "$\\displaystyle C_{7}=878.1686242265495pF$"
      ],
      "text/plain": [
       "<IPython.core.display.Math object>"
      ]
     },
     "metadata": {},
     "output_type": "display_data"
    }
   ],
   "source": [
    "R1 = (Ua/Uref - 1) * R2\n",
    "C7 = 1/(2 * np.pi * f * R1)\n",
    "\n",
    "display(Math(\"R_{1}~=\" + f\"{R1*1e-3}k\\Omega\"),\n",
    "        Math(\"C_{7}=\" + f\"{C7*1e12}pF\"))\n"
   ]
  },
  {
   "cell_type": "markdown",
   "metadata": {},
   "source": [
    "# Amplifier"
   ]
  },
  {
   "cell_type": "markdown",
   "metadata": {},
   "source": [
    "## Parameters"
   ]
  },
  {
   "cell_type": "code",
   "execution_count": 9,
   "metadata": {},
   "outputs": [],
   "source": [
    "V = 4\n",
    "Uin = 4\n",
    "R3 = 15e3"
   ]
  },
  {
   "cell_type": "markdown",
   "metadata": {},
   "source": [
    "## Amplification"
   ]
  },
  {
   "cell_type": "code",
   "execution_count": 10,
   "metadata": {},
   "outputs": [
    {
     "data": {
      "text/latex": [
       "$\\displaystyle R_{4}~=5.0k\\Omega$"
      ],
      "text/plain": [
       "<IPython.core.display.Math object>"
      ]
     },
     "metadata": {},
     "output_type": "display_data"
    },
    {
     "data": {
      "text/latex": [
       "$\\displaystyle R_{3}~=15.0k\\Omega$"
      ],
      "text/plain": [
       "<IPython.core.display.Math object>"
      ]
     },
     "metadata": {},
     "output_type": "display_data"
    }
   ],
   "source": [
    "R4 = R3/(V - 1)\n",
    "\n",
    "display(Math(\"R_{4}~=\" + f\"{R4*1e-3}k\\Omega\"), \n",
    "        Math(\"R_{3}~=\" + f\"{R3*1e-3}k\\Omega\"))"
   ]
  },
  {
   "cell_type": "markdown",
   "metadata": {},
   "source": [
    "## AC Coupling"
   ]
  },
  {
   "cell_type": "code",
   "execution_count": 11,
   "metadata": {},
   "outputs": [],
   "source": [
    "fg = 4000"
   ]
  },
  {
   "cell_type": "markdown",
   "metadata": {},
   "source": [
    "### Input\n",
    "\n",
    "$\\cfrac{U_a}{U_{in}} = \\cfrac{sC_8\\cdot \\frac{1}{2}R_{8/9}}{1 + sC_8\\cdot \\frac{1}{2}R_{8/9}}$\n",
    "\n",
    "$f_g = \\cfrac{1}{2 \\pi C_8 \\cdot \\frac{1}{2}R_{8/9}}$"
   ]
  },
  {
   "cell_type": "code",
   "execution_count": 12,
   "metadata": {},
   "outputs": [
    {
     "data": {
      "text/latex": [
       "$\\displaystyle R_{8/9}~=100.0k\\Omega$"
      ],
      "text/plain": [
       "<IPython.core.display.Math object>"
      ]
     },
     "metadata": {},
     "output_type": "display_data"
    },
    {
     "data": {
      "text/latex": [
       "$\\displaystyle C_{8}~=1.5915494309189535nF$"
      ],
      "text/plain": [
       "<IPython.core.display.Math object>"
      ]
     },
     "metadata": {},
     "output_type": "display_data"
    }
   ],
   "source": [
    "#R8 = R9 = 10e3\n",
    "#C8 = 1/(np.pi * fg * R8)\n",
    "\n",
    "\n",
    "R8 = R9 = 100e3\n",
    "C8 = 1/(np.pi * fg * 1/2 * R8)\n",
    "\n",
    "display(Math(\"R_{8/9}~=\" + f\"{R8*1e-3}k\\Omega\"),\n",
    "        Math(\"C_{8}~=\" + f\"{C8*1e9}nF\"))\n"
   ]
  },
  {
   "cell_type": "markdown",
   "metadata": {},
   "source": [
    "### Feedback\n",
    "\n",
    "$A = \\cfrac{1 + sC_3(R_3 + R_4)}{1 + sC_3R_4}$\n",
    "\n",
    "$fg = \\cfrac{1}{2 \\pi C_3R_4}$"
   ]
  },
  {
   "cell_type": "code",
   "execution_count": 13,
   "metadata": {},
   "outputs": [
    {
     "data": {
      "text/latex": [
       "$\\displaystyle C_{10}~=7.957747154594767nF$"
      ],
      "text/plain": [
       "<IPython.core.display.Math object>"
      ]
     },
     "metadata": {},
     "output_type": "display_data"
    }
   ],
   "source": [
    "C9 = 1/(2 * np.pi * R4 * fg)\n",
    "\n",
    "display(Math(\"C_{10}~=\" + f\"{C9*1e9}nF\"))"
   ]
  },
  {
   "cell_type": "code",
   "execution_count": 30,
   "metadata": {},
   "outputs": [
    {
     "data": {
      "text/latex": [
       "$\\displaystyle f_{g}~=3183.098861837907Hz$"
      ],
      "text/plain": [
       "<IPython.core.display.Math object>"
      ]
     },
     "metadata": {},
     "output_type": "display_data"
    }
   ],
   "source": [
    "C9 = 10e-9\n",
    "fg_real = 1/(2 * np.pi * R4 * C9)\n",
    "\n",
    "display(Math(\"f_{g}~=\" + f\"{fg_real}Hz\"))"
   ]
  },
  {
   "cell_type": "code",
   "execution_count": 15,
   "metadata": {},
   "outputs": [
    {
     "data": {
      "text/latex": [
       "$\\displaystyle f_{g2}~=795.7747154594767Hz$"
      ],
      "text/plain": [
       "<IPython.core.display.Math object>"
      ]
     },
     "metadata": {},
     "output_type": "display_data"
    }
   ],
   "source": [
    "fg2 = 1/(2 * np.pi * C9 * (R4 + R3))\n",
    "\n",
    "display(Math(\"f_{g2}~=\" + f\"{fg2}Hz\"))"
   ]
  },
  {
   "cell_type": "markdown",
   "metadata": {},
   "source": [
    "### Output"
   ]
  },
  {
   "cell_type": "markdown",
   "metadata": {},
   "source": [
    "$A = \\cfrac{sC_{10} \\cdot Z_{10}}{1 + sC_{10} \\cdot Z_{10}}$\n",
    "\n",
    "$f_g = \\cfrac{1}{2 \\pi C_{10} \\cdot Z_{10}}$\n",
    "\n",
    "$Z_{10} = R_{10} || Z_M$"
   ]
  },
  {
   "cell_type": "code",
   "execution_count": 16,
   "metadata": {},
   "outputs": [],
   "source": [
    "CM = 45.6e-9\n",
    "ESR = 16\n"
   ]
  },
  {
   "cell_type": "markdown",
   "metadata": {},
   "source": [
    "### Stability"
   ]
  },
  {
   "cell_type": "code",
   "execution_count": 38,
   "metadata": {},
   "outputs": [],
   "source": [
    "A0 = 10**(120/20)\n",
    "GBW = 5.25e6\n",
    "\n",
    "wg = 2*np.pi*GBW/A0"
   ]
  },
  {
   "cell_type": "markdown",
   "metadata": {},
   "source": [
    "#### Without load"
   ]
  },
  {
   "cell_type": "markdown",
   "metadata": {},
   "source": [
    "$ A_d = \\cfrac{A_0}{1 + \\cfrac{s}{w_g}}$\n",
    "\n",
    "$ k = \\cfrac{1 + s C_9 R_4}{1 + s C_9 (R_4 + R_3)}$\n",
    "\n",
    "$ g = A_d \\cdot k$"
   ]
  },
  {
   "cell_type": "code",
   "execution_count": 44,
   "metadata": {},
   "outputs": [],
   "source": [
    "s = lambda w: np.multiply(w, 1j)\n",
    "Ad = lambda w: A0/(1 + s(w) / wg)\n",
    "k = lambda w: (1 + C9 * R4 * s(w))/(1 + C9 * (R4 + R3) * s(w))\n",
    "\n",
    "g = lambda w: Ad(w) * k(w)"
   ]
  },
  {
   "cell_type": "code",
   "execution_count": 63,
   "metadata": {},
   "outputs": [
    {
     "data": {
      "application/vnd.plotly.v1+json": {
       "config": {
        "plotlyServerURL": "https://plot.ly"
       },
       "data": [
        {
         "name": "magnitude",
         "type": "scatter",
         "x": [
          1.5915494309189535,
          1.7878257254237635,
          2.008307604144889,
          2.255980197348477,
          2.534196773604057,
          2.846724140084815,
          3.1977936418159802,
          3.592158450356222,
          4.035157917550251,
          4.532789865645768,
          5.091791792519136,
          5.719732091457014,
          6.425112520529339,
          7.217483308898637,
          8.107572458503617,
          9.107430991747862,
          10.230596111719281,
          11.492274483985831,
          12.909548121441446,
          14.50160565970152,
          16.290002154312912,
          18.29895091720352,
          20.555651343580035,
          23.09065716776054,
          25.938290133801743,
          29.13710468165636,
          32.73040994030119,
          36.76685609516323,
          41.30109306874157,
          46.394510432379604,
          52.11606856694184,
          58.543232325576525,
          65.7630198395362,
          73.87318066696191,
          82.98351923572604,
          93.21738149858551,
          104.71332492864246,
          117.62699446538117,
          132.13322980993613,
          148.42843260051,
          166.73322551741225,
          187.29543931965435,
          210.39346825494556,
          236.34003927238012,
          265.48644606963546,
          298.22730529994624,
          335.00589933370514,
          376.3201779109688,
          422.7294999419584,
          474.8622067335856,
          533.4241291768168,
          599.2081440746942,
          673.1049089952646,
          756.1149209898689,
          849.3620624412015,
          954.1088174399857,
          1071.7733647065816,
          1203.9487784806279,
          1352.4245973418274,
          1519.2110529847068,
          1706.566286983577,
          1917.026924038732,
          2153.442415638649,
          2419.013619121151,
          2717.336134459943,
          3052.4489855184706,
          3428.8893048723007,
          3851.753762584375,
          4326.767570624568,
          4860.361997192528,
          5459.761440419457,
          6133.081240349905,
          6889.437553491746,
          7739.070777538617,
          8693.48419732707,
          9765.599729172187,
          10969.932872222847,
          12322.789235523622,
          13842.485301586605,
          15549.59641541732,
          17467.235356547284,
          19621.36526569307,
          22041.151162793307,
          24759.35481566735,
          27812.778305469372,
          31242.76229442368,
          35095.74574194583,
          39423.894647213994,
          44285.80833080934,
          49747.31281785664,
          55882.352064374194,
          62773.98909325089,
          70515.53059434924,
          79211.79021482996,
          88980.50764353217,
          99953.94270256469,
          112280.66602869976,
          126127.57058881794,
          141682.13126355197,
          159154.94309189534
         ],
         "xaxis": "x",
         "y": [
          119.6181498820267,
          119.5234686949226,
          119.40686665319751,
          119.26406256334927,
          119.09031634135664,
          118.88054871548215,
          118.62953710202801,
          118.33218935110585,
          117.98388069503531,
          117.58081920176666,
          117.12038728646627,
          116.60139926368237,
          116.02422368157235,
          115.39074443864068,
          114.70416901321374,
          113.96872350924546,
          113.18929213758695,
          112.37105930076419,
          111.519199073074,
          110.6386371056564,
          109.7338911480129,
          108.80898283872236,
          107.86740625669623,
          106.91213682596576,
          105.94566560468735,
          104.9700469763095,
          103.98695105291804,
          102.99771501546148,
          102.00338988749257,
          101.00478085001876,
          100.00248025264945,
          98.99689309261771,
          97.98825504390011,
          96.97664322676751,
          95.96197989308479,
          94.9440291251841,
          93.922386555618,
          92.89646205814452,
          91.8654553890836,
          90.82832493865948,
          89.78375017086353,
          88.7300890988462,
          87.66533339143946,
          86.58706556309923,
          85.49242523764306,
          84.37809461793785,
          83.24031666375589,
          82.07496223134582,
          80.87766312465378,
          79.64402473079004,
          78.36992281023954,
          77.05187341190694,
          75.68744468389893,
          74.27565982593373,
          72.81732921477357,
          71.31525349344082,
          69.77425954020524,
          68.20106164539469,
          66.60396970490032,
          64.99248444263122,
          63.37682279768269,
          61.76740886606038,
          60.17435607834691,
          58.6069626966314,
          57.073247966732666,
          55.57956632885406,
          54.1303432991911,
          52.727970596926895,
          51.37287706224314,
          50.0637612885143,
          48.79794272984479,
          47.57177094152741,
          46.381032178483466,
          45.2213060771757,
          44.088245371072844,
          42.97777117675798,
          41.88619073173163,
          40.8102522810949,
          39.74715411836068,
          38.6945235210553,
          37.65037833294397,
          36.613080547506,
          35.581288180452596,
          34.553909283771716,
          33.530060186339654,
          32.509028855343786,
          31.490243526597222,
          30.4732463227499,
          29.45767136170156,
          28.443226774967965,
          27.42968005261014,
          26.41684617127089,
          25.404578021875544,
          24.392758719817,
          23.38129544515915,
          22.370114519571086,
          21.35915747867862,
          20.348377942953874,
          19.337739127546172,
          18.327211862317853
         ],
         "yaxis": "y"
        },
        {
         "name": "phase",
         "type": "scatter",
         "x": [
          1.5915494309189535,
          1.7878257254237635,
          2.008307604144889,
          2.255980197348477,
          2.534196773604057,
          2.846724140084815,
          3.1977936418159802,
          3.592158450356222,
          4.035157917550251,
          4.532789865645768,
          5.091791792519136,
          5.719732091457014,
          6.425112520529339,
          7.217483308898637,
          8.107572458503617,
          9.107430991747862,
          10.230596111719281,
          11.492274483985831,
          12.909548121441446,
          14.50160565970152,
          16.290002154312912,
          18.29895091720352,
          20.555651343580035,
          23.09065716776054,
          25.938290133801743,
          29.13710468165636,
          32.73040994030119,
          36.76685609516323,
          41.30109306874157,
          46.394510432379604,
          52.11606856694184,
          58.543232325576525,
          65.7630198395362,
          73.87318066696191,
          82.98351923572604,
          93.21738149858551,
          104.71332492864246,
          117.62699446538117,
          132.13322980993613,
          148.42843260051,
          166.73322551741225,
          187.29543931965435,
          210.39346825494556,
          236.34003927238012,
          265.48644606963546,
          298.22730529994624,
          335.00589933370514,
          376.3201779109688,
          422.7294999419584,
          474.8622067335856,
          533.4241291768168,
          599.2081440746942,
          673.1049089952646,
          756.1149209898689,
          849.3620624412015,
          954.1088174399857,
          1071.7733647065816,
          1203.9487784806279,
          1352.4245973418274,
          1519.2110529847068,
          1706.566286983577,
          1917.026924038732,
          2153.442415638649,
          2419.013619121151,
          2717.336134459943,
          3052.4489855184706,
          3428.8893048723007,
          3851.753762584375,
          4326.767570624568,
          4860.361997192528,
          5459.761440419457,
          6133.081240349905,
          6889.437553491746,
          7739.070777538617,
          8693.48419732707,
          9765.599729172187,
          10969.932872222847,
          12322.789235523622,
          13842.485301586605,
          15549.59641541732,
          17467.235356547284,
          19621.36526569307,
          22041.151162793307,
          24759.35481566735,
          27812.778305469372,
          31242.76229442368,
          35095.74574194583,
          39423.894647213994,
          44285.80833080934,
          49747.31281785664,
          55882.352064374194,
          62773.98909325089,
          70515.53059434924,
          79211.79021482996,
          88980.50764353217,
          99953.94270256469,
          112280.66602869976,
          126127.57058881794,
          141682.13126355197,
          159154.94309189534
         ],
         "xaxis": "x2",
         "y": [
          -16.950742659676973,
          -18.902214037662834,
          -21.04203932356425,
          -23.375527750448345,
          -25.903642404192727,
          -28.62174013059691,
          -31.518422092175744,
          -34.574714917304405,
          -37.76383018581459,
          -41.0517171870882,
          -44.39851226247646,
          -47.76080855551444,
          -51.09447092522371,
          -54.35757377855815,
          -57.513005140852556,
          -60.53037331952139,
          -63.38703336778015,
          -66.0682484918767,
          -68.5666526607052,
          -70.88125417651487,
          -73.01622068430758,
          -74.97963984012137,
          -76.78238572710427,
          -78.43716042863734,
          -79.95773362105545,
          -81.35837291030049,
          -82.65344149715679,
          -83.85713358325611,
          -84.98331786367494,
          -86.04546252810013,
          -87.05661943846862,
          -88.0294494005648,
          -88.97627409133527,
          -89.90914297252763,
          -90.83990532438025,
          -91.78027835761803,
          -92.74190221480356,
          -93.73637155594096,
          -94.77523134143316,
          -95.86992141593007,
          -97.03165070256932,
          -98.27117760683173,
          -99.59846937479756,
          -101.02221106279866,
          -102.54913675070479,
          -104.18316498435257,
          -105.92434126156789,
          -107.76762656203908,
          -109.70162395590589,
          -111.707400923314,
          -113.75762951015066,
          -115.81630560790796,
          -117.83929272371809,
          -119.77584273380666,
          -121.57108027100017,
          -123.16923915700792,
          -124.51727596148545,
          -125.5684193628442,
          -126.28526503171902,
          -126.64215963914529,
          -126.62676529353882,
          -126.24079462683636,
          -125.4999339948259,
          -124.4329521264593,
          -123.07997715526996,
          -121.48996598617822,
          -119.71750202490026,
          -117.81920805945947,
          -115.85018336395513,
          -113.8609027517206,
          -111.89492614361598,
          -109.98759121023718,
          -108.1656650209786,
          -106.4477773407528,
          -104.84538150019648,
          -103.36398613070205,
          -102.00444764165313,
          -100.7641796648541,
          -99.63819953452834,
          -98.61998164048612,
          -97.70212036110726,
          -96.87682345373828,
          -96.13626430144242,
          -95.47282226605013,
          -94.87923767642157,
          -94.34870376899356,
          -93.87491342877182,
          -93.45207448804297,
          -93.07490388643106,
          -92.7386082268781,
          -92.43885612033625,
          -92.17174609891826,
          -91.93377268757872,
          -91.7217923621123,
          -91.5329905058614,
          -91.36485004481983,
          -91.21512214126982,
          -91.08179912237846,
          -90.96308968467966,
          -90.85739632789871
         ],
         "yaxis": "y2"
        }
       ],
       "layout": {
        "showlegend": false,
        "template": {
         "data": {
          "bar": [
           {
            "error_x": {
             "color": "#2a3f5f"
            },
            "error_y": {
             "color": "#2a3f5f"
            },
            "marker": {
             "line": {
              "color": "#E5ECF6",
              "width": 0.5
             }
            },
            "type": "bar"
           }
          ],
          "barpolar": [
           {
            "marker": {
             "line": {
              "color": "#E5ECF6",
              "width": 0.5
             }
            },
            "type": "barpolar"
           }
          ],
          "carpet": [
           {
            "aaxis": {
             "endlinecolor": "#2a3f5f",
             "gridcolor": "white",
             "linecolor": "white",
             "minorgridcolor": "white",
             "startlinecolor": "#2a3f5f"
            },
            "baxis": {
             "endlinecolor": "#2a3f5f",
             "gridcolor": "white",
             "linecolor": "white",
             "minorgridcolor": "white",
             "startlinecolor": "#2a3f5f"
            },
            "type": "carpet"
           }
          ],
          "choropleth": [
           {
            "colorbar": {
             "outlinewidth": 0,
             "ticks": ""
            },
            "type": "choropleth"
           }
          ],
          "contour": [
           {
            "colorbar": {
             "outlinewidth": 0,
             "ticks": ""
            },
            "colorscale": [
             [
              0,
              "#0d0887"
             ],
             [
              0.1111111111111111,
              "#46039f"
             ],
             [
              0.2222222222222222,
              "#7201a8"
             ],
             [
              0.3333333333333333,
              "#9c179e"
             ],
             [
              0.4444444444444444,
              "#bd3786"
             ],
             [
              0.5555555555555556,
              "#d8576b"
             ],
             [
              0.6666666666666666,
              "#ed7953"
             ],
             [
              0.7777777777777778,
              "#fb9f3a"
             ],
             [
              0.8888888888888888,
              "#fdca26"
             ],
             [
              1,
              "#f0f921"
             ]
            ],
            "type": "contour"
           }
          ],
          "contourcarpet": [
           {
            "colorbar": {
             "outlinewidth": 0,
             "ticks": ""
            },
            "type": "contourcarpet"
           }
          ],
          "heatmap": [
           {
            "colorbar": {
             "outlinewidth": 0,
             "ticks": ""
            },
            "colorscale": [
             [
              0,
              "#0d0887"
             ],
             [
              0.1111111111111111,
              "#46039f"
             ],
             [
              0.2222222222222222,
              "#7201a8"
             ],
             [
              0.3333333333333333,
              "#9c179e"
             ],
             [
              0.4444444444444444,
              "#bd3786"
             ],
             [
              0.5555555555555556,
              "#d8576b"
             ],
             [
              0.6666666666666666,
              "#ed7953"
             ],
             [
              0.7777777777777778,
              "#fb9f3a"
             ],
             [
              0.8888888888888888,
              "#fdca26"
             ],
             [
              1,
              "#f0f921"
             ]
            ],
            "type": "heatmap"
           }
          ],
          "heatmapgl": [
           {
            "colorbar": {
             "outlinewidth": 0,
             "ticks": ""
            },
            "colorscale": [
             [
              0,
              "#0d0887"
             ],
             [
              0.1111111111111111,
              "#46039f"
             ],
             [
              0.2222222222222222,
              "#7201a8"
             ],
             [
              0.3333333333333333,
              "#9c179e"
             ],
             [
              0.4444444444444444,
              "#bd3786"
             ],
             [
              0.5555555555555556,
              "#d8576b"
             ],
             [
              0.6666666666666666,
              "#ed7953"
             ],
             [
              0.7777777777777778,
              "#fb9f3a"
             ],
             [
              0.8888888888888888,
              "#fdca26"
             ],
             [
              1,
              "#f0f921"
             ]
            ],
            "type": "heatmapgl"
           }
          ],
          "histogram": [
           {
            "marker": {
             "colorbar": {
              "outlinewidth": 0,
              "ticks": ""
             }
            },
            "type": "histogram"
           }
          ],
          "histogram2d": [
           {
            "colorbar": {
             "outlinewidth": 0,
             "ticks": ""
            },
            "colorscale": [
             [
              0,
              "#0d0887"
             ],
             [
              0.1111111111111111,
              "#46039f"
             ],
             [
              0.2222222222222222,
              "#7201a8"
             ],
             [
              0.3333333333333333,
              "#9c179e"
             ],
             [
              0.4444444444444444,
              "#bd3786"
             ],
             [
              0.5555555555555556,
              "#d8576b"
             ],
             [
              0.6666666666666666,
              "#ed7953"
             ],
             [
              0.7777777777777778,
              "#fb9f3a"
             ],
             [
              0.8888888888888888,
              "#fdca26"
             ],
             [
              1,
              "#f0f921"
             ]
            ],
            "type": "histogram2d"
           }
          ],
          "histogram2dcontour": [
           {
            "colorbar": {
             "outlinewidth": 0,
             "ticks": ""
            },
            "colorscale": [
             [
              0,
              "#0d0887"
             ],
             [
              0.1111111111111111,
              "#46039f"
             ],
             [
              0.2222222222222222,
              "#7201a8"
             ],
             [
              0.3333333333333333,
              "#9c179e"
             ],
             [
              0.4444444444444444,
              "#bd3786"
             ],
             [
              0.5555555555555556,
              "#d8576b"
             ],
             [
              0.6666666666666666,
              "#ed7953"
             ],
             [
              0.7777777777777778,
              "#fb9f3a"
             ],
             [
              0.8888888888888888,
              "#fdca26"
             ],
             [
              1,
              "#f0f921"
             ]
            ],
            "type": "histogram2dcontour"
           }
          ],
          "mesh3d": [
           {
            "colorbar": {
             "outlinewidth": 0,
             "ticks": ""
            },
            "type": "mesh3d"
           }
          ],
          "parcoords": [
           {
            "line": {
             "colorbar": {
              "outlinewidth": 0,
              "ticks": ""
             }
            },
            "type": "parcoords"
           }
          ],
          "pie": [
           {
            "automargin": true,
            "type": "pie"
           }
          ],
          "scatter": [
           {
            "marker": {
             "colorbar": {
              "outlinewidth": 0,
              "ticks": ""
             }
            },
            "type": "scatter"
           }
          ],
          "scatter3d": [
           {
            "line": {
             "colorbar": {
              "outlinewidth": 0,
              "ticks": ""
             }
            },
            "marker": {
             "colorbar": {
              "outlinewidth": 0,
              "ticks": ""
             }
            },
            "type": "scatter3d"
           }
          ],
          "scattercarpet": [
           {
            "marker": {
             "colorbar": {
              "outlinewidth": 0,
              "ticks": ""
             }
            },
            "type": "scattercarpet"
           }
          ],
          "scattergeo": [
           {
            "marker": {
             "colorbar": {
              "outlinewidth": 0,
              "ticks": ""
             }
            },
            "type": "scattergeo"
           }
          ],
          "scattergl": [
           {
            "marker": {
             "colorbar": {
              "outlinewidth": 0,
              "ticks": ""
             }
            },
            "type": "scattergl"
           }
          ],
          "scattermapbox": [
           {
            "marker": {
             "colorbar": {
              "outlinewidth": 0,
              "ticks": ""
             }
            },
            "type": "scattermapbox"
           }
          ],
          "scatterpolar": [
           {
            "marker": {
             "colorbar": {
              "outlinewidth": 0,
              "ticks": ""
             }
            },
            "type": "scatterpolar"
           }
          ],
          "scatterpolargl": [
           {
            "marker": {
             "colorbar": {
              "outlinewidth": 0,
              "ticks": ""
             }
            },
            "type": "scatterpolargl"
           }
          ],
          "scatterternary": [
           {
            "marker": {
             "colorbar": {
              "outlinewidth": 0,
              "ticks": ""
             }
            },
            "type": "scatterternary"
           }
          ],
          "surface": [
           {
            "colorbar": {
             "outlinewidth": 0,
             "ticks": ""
            },
            "colorscale": [
             [
              0,
              "#0d0887"
             ],
             [
              0.1111111111111111,
              "#46039f"
             ],
             [
              0.2222222222222222,
              "#7201a8"
             ],
             [
              0.3333333333333333,
              "#9c179e"
             ],
             [
              0.4444444444444444,
              "#bd3786"
             ],
             [
              0.5555555555555556,
              "#d8576b"
             ],
             [
              0.6666666666666666,
              "#ed7953"
             ],
             [
              0.7777777777777778,
              "#fb9f3a"
             ],
             [
              0.8888888888888888,
              "#fdca26"
             ],
             [
              1,
              "#f0f921"
             ]
            ],
            "type": "surface"
           }
          ],
          "table": [
           {
            "cells": {
             "fill": {
              "color": "#EBF0F8"
             },
             "line": {
              "color": "white"
             }
            },
            "header": {
             "fill": {
              "color": "#C8D4E3"
             },
             "line": {
              "color": "white"
             }
            },
            "type": "table"
           }
          ]
         },
         "layout": {
          "annotationdefaults": {
           "arrowcolor": "#2a3f5f",
           "arrowhead": 0,
           "arrowwidth": 1
          },
          "autotypenumbers": "strict",
          "coloraxis": {
           "colorbar": {
            "outlinewidth": 0,
            "ticks": ""
           }
          },
          "colorscale": {
           "diverging": [
            [
             0,
             "#8e0152"
            ],
            [
             0.1,
             "#c51b7d"
            ],
            [
             0.2,
             "#de77ae"
            ],
            [
             0.3,
             "#f1b6da"
            ],
            [
             0.4,
             "#fde0ef"
            ],
            [
             0.5,
             "#f7f7f7"
            ],
            [
             0.6,
             "#e6f5d0"
            ],
            [
             0.7,
             "#b8e186"
            ],
            [
             0.8,
             "#7fbc41"
            ],
            [
             0.9,
             "#4d9221"
            ],
            [
             1,
             "#276419"
            ]
           ],
           "sequential": [
            [
             0,
             "#0d0887"
            ],
            [
             0.1111111111111111,
             "#46039f"
            ],
            [
             0.2222222222222222,
             "#7201a8"
            ],
            [
             0.3333333333333333,
             "#9c179e"
            ],
            [
             0.4444444444444444,
             "#bd3786"
            ],
            [
             0.5555555555555556,
             "#d8576b"
            ],
            [
             0.6666666666666666,
             "#ed7953"
            ],
            [
             0.7777777777777778,
             "#fb9f3a"
            ],
            [
             0.8888888888888888,
             "#fdca26"
            ],
            [
             1,
             "#f0f921"
            ]
           ],
           "sequentialminus": [
            [
             0,
             "#0d0887"
            ],
            [
             0.1111111111111111,
             "#46039f"
            ],
            [
             0.2222222222222222,
             "#7201a8"
            ],
            [
             0.3333333333333333,
             "#9c179e"
            ],
            [
             0.4444444444444444,
             "#bd3786"
            ],
            [
             0.5555555555555556,
             "#d8576b"
            ],
            [
             0.6666666666666666,
             "#ed7953"
            ],
            [
             0.7777777777777778,
             "#fb9f3a"
            ],
            [
             0.8888888888888888,
             "#fdca26"
            ],
            [
             1,
             "#f0f921"
            ]
           ]
          },
          "colorway": [
           "#636efa",
           "#EF553B",
           "#00cc96",
           "#ab63fa",
           "#FFA15A",
           "#19d3f3",
           "#FF6692",
           "#B6E880",
           "#FF97FF",
           "#FECB52"
          ],
          "font": {
           "color": "#2a3f5f"
          },
          "geo": {
           "bgcolor": "white",
           "lakecolor": "white",
           "landcolor": "#E5ECF6",
           "showlakes": true,
           "showland": true,
           "subunitcolor": "white"
          },
          "hoverlabel": {
           "align": "left"
          },
          "hovermode": "closest",
          "mapbox": {
           "style": "light"
          },
          "paper_bgcolor": "white",
          "plot_bgcolor": "#E5ECF6",
          "polar": {
           "angularaxis": {
            "gridcolor": "white",
            "linecolor": "white",
            "ticks": ""
           },
           "bgcolor": "#E5ECF6",
           "radialaxis": {
            "gridcolor": "white",
            "linecolor": "white",
            "ticks": ""
           }
          },
          "scene": {
           "xaxis": {
            "backgroundcolor": "#E5ECF6",
            "gridcolor": "white",
            "gridwidth": 2,
            "linecolor": "white",
            "showbackground": true,
            "ticks": "",
            "zerolinecolor": "white"
           },
           "yaxis": {
            "backgroundcolor": "#E5ECF6",
            "gridcolor": "white",
            "gridwidth": 2,
            "linecolor": "white",
            "showbackground": true,
            "ticks": "",
            "zerolinecolor": "white"
           },
           "zaxis": {
            "backgroundcolor": "#E5ECF6",
            "gridcolor": "white",
            "gridwidth": 2,
            "linecolor": "white",
            "showbackground": true,
            "ticks": "",
            "zerolinecolor": "white"
           }
          },
          "shapedefaults": {
           "line": {
            "color": "#2a3f5f"
           }
          },
          "ternary": {
           "aaxis": {
            "gridcolor": "white",
            "linecolor": "white",
            "ticks": ""
           },
           "baxis": {
            "gridcolor": "white",
            "linecolor": "white",
            "ticks": ""
           },
           "bgcolor": "#E5ECF6",
           "caxis": {
            "gridcolor": "white",
            "linecolor": "white",
            "ticks": ""
           }
          },
          "title": {
           "x": 0.05
          },
          "xaxis": {
           "automargin": true,
           "gridcolor": "white",
           "linecolor": "white",
           "ticks": "",
           "title": {
            "standoff": 15
           },
           "zerolinecolor": "white",
           "zerolinewidth": 2
          },
          "yaxis": {
           "automargin": true,
           "gridcolor": "white",
           "linecolor": "white",
           "ticks": "",
           "title": {
            "standoff": 15
           },
           "zerolinecolor": "white",
           "zerolinewidth": 2
          }
         }
        },
        "xaxis": {
         "anchor": "y",
         "domain": [
          0,
          1
         ],
         "title": {
          "text": "$f \\text{ in } Hz$"
         },
         "type": "log"
        },
        "xaxis2": {
         "anchor": "y2",
         "domain": [
          0,
          1
         ],
         "title": {
          "text": "$f \\text{ in } Hz$"
         },
         "type": "log"
        },
        "yaxis": {
         "anchor": "x",
         "domain": [
          0.575,
          1
         ],
         "title": {
          "text": "$\\text{Magnitude in } dB$"
         }
        },
        "yaxis2": {
         "anchor": "x2",
         "domain": [
          0,
          0.425
         ],
         "title": {
          "text": "$\\text{Phase in } ^\\circ$"
         }
        }
       }
      }
     },
     "metadata": {},
     "output_type": "display_data"
    }
   ],
   "source": [
    "w = np.logspace(1, 6, 100)\n",
    "f = w/(2*np.pi)\n",
    "\n",
    "G = g(w)\n",
    "\n",
    "fig = subplots.make_subplots(rows=2, cols=1)\n",
    "fig.update_layout(\n",
    "    xaxis_title=r\"$f \\text{ in } Hz$\",\n",
    "    yaxis_title=r\"$\\text{Magnitude in } dB$\",\n",
    "    xaxis2_title=r\"$f \\text{ in } Hz$\",\n",
    "    yaxis2_title=r\"$\\text{Phase in } ^\\circ$\",\n",
    "    xaxis=dict(type=\"log\"),\n",
    "    xaxis2=dict(type=\"log\"),\n",
    "    showlegend=False,\n",
    ")\n",
    "fig.add_scatter(x=f, y=20 * np.log10(np.abs(G)), name=\"magnitude\", row=1, col=1)\n",
    "fig.add_scatter(x=f, y=180/np.pi * np.angle(G), name=\"phase\", row=2, col=1)\n",
    "\n",
    "fig.show(renderer=\"browser\")\n",
    "fig.show()"
   ]
  }
 ],
 "metadata": {
  "interpreter": {
   "hash": "c650d7ea476703797fef1616c599c5fe06f1b1bacf69f4e17f09dcc79ec3c159"
  },
  "kernelspec": {
   "display_name": "Python 3.9.4 ('data')",
   "language": "python",
   "name": "python3"
  },
  "language_info": {
   "codemirror_mode": {
    "name": "ipython",
    "version": 3
   },
   "file_extension": ".py",
   "mimetype": "text/x-python",
   "name": "python",
   "nbconvert_exporter": "python",
   "pygments_lexer": "ipython3",
   "version": "3.9.4"
  },
  "orig_nbformat": 4
 },
 "nbformat": 4,
 "nbformat_minor": 2
}
