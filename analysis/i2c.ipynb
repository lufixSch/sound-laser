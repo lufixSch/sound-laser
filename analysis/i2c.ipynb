{
 "cells": [
  {
   "cell_type": "code",
   "execution_count": 1,
   "metadata": {},
   "outputs": [],
   "source": [
    "import numpy as np\n",
    "\n",
    "from IPython.display import display, Math"
   ]
  },
  {
   "cell_type": "markdown",
   "metadata": {},
   "source": [
    "# DAC Parameters"
   ]
  },
  {
   "cell_type": "code",
   "execution_count": 26,
   "metadata": {},
   "outputs": [
    {
     "data": {
      "text/latex": [
       "$\\displaystyle V_{bus} = 5V$"
      ],
      "text/plain": [
       "<IPython.core.display.Math object>"
      ]
     },
     "metadata": {},
     "output_type": "display_data"
    },
    {
     "data": {
      "text/latex": [
       "$\\displaystyle V_{OL} =1.5V~~I_{OL}=0.01A$"
      ],
      "text/plain": [
       "<IPython.core.display.Math object>"
      ]
     },
     "metadata": {},
     "output_type": "display_data"
    },
    {
     "data": {
      "text/latex": [
       "$\\displaystyle C_b=10.0pF~t_r=20.001ns$"
      ],
      "text/plain": [
       "<IPython.core.display.Math object>"
      ]
     },
     "metadata": {},
     "output_type": "display_data"
    }
   ],
   "source": [
    "VCC = 5\n",
    "\n",
    "V_bus = VCC\n",
    "\n",
    "V_OL = 0.3 * VCC\n",
    "I_OL = 0.01\n",
    "\n",
    "C_b = 10e-12\n",
    "t_r = 20e-9 + 0.1 * C_b\n",
    "\n",
    "display(Math(\"V_{bus} = \" + f\"{V_bus}V\"), Math(\"V_{OL} =\" + f\"{V_OL}V~\" + \"~I_{OL}=\" + f\"{I_OL}A\"), Math(\"C_b=\" + f\"{C_b*1e12}pF~\" + \"t_r=\" + f\"{t_r*1e9}ns\"))"
   ]
  },
  {
   "cell_type": "markdown",
   "metadata": {},
   "source": [
    "# Min Resistance"
   ]
  },
  {
   "cell_type": "code",
   "execution_count": 27,
   "metadata": {},
   "outputs": [
    {
     "data": {
      "text/latex": [
       "$\\displaystyle R_{p~(min)}=350.0\\Omega$"
      ],
      "text/plain": [
       "<IPython.core.display.Math object>"
      ]
     },
     "metadata": {},
     "output_type": "display_data"
    }
   ],
   "source": [
    "RP_min = (V_bus - V_OL)/I_OL\n",
    "\n",
    "display(Math(\"R_{p~(min)}=\" + f\"{RP_min}\\Omega\"))"
   ]
  },
  {
   "cell_type": "markdown",
   "metadata": {},
   "source": [
    "# Max Resistance"
   ]
  },
  {
   "cell_type": "code",
   "execution_count": 29,
   "metadata": {},
   "outputs": [
    {
     "data": {
      "text/latex": [
       "$\\displaystyle R_{p~(max)}=2360.5570636138323\\Omega$"
      ],
      "text/plain": [
       "<IPython.core.display.Math object>"
      ]
     },
     "metadata": {},
     "output_type": "display_data"
    }
   ],
   "source": [
    "RP_max = t_r / (0.8473 * C_b)\n",
    "\n",
    "display(Math(\"R_{p~(max)}=\" + f\"{RP_max}\\Omega\"))"
   ]
  },
  {
   "cell_type": "markdown",
   "metadata": {},
   "source": [
    "### Multiple DACs"
   ]
  },
  {
   "cell_type": "code",
   "execution_count": 31,
   "metadata": {},
   "outputs": [
    {
     "data": {
      "text/latex": [
       "$\\displaystyle R_{p~(max)}~\\mathrm{with~n~DACs}=1180.2785318069161\\Omega$"
      ],
      "text/plain": [
       "<IPython.core.display.Math object>"
      ]
     },
     "metadata": {},
     "output_type": "display_data"
    },
    {
     "data": {
      "text/latex": [
       "$\\displaystyle \\mathrm{n~parallel~} R_{p~(max)}=1180.2785318069161\\Omega$"
      ],
      "text/plain": [
       "<IPython.core.display.Math object>"
      ]
     },
     "metadata": {},
     "output_type": "display_data"
    }
   ],
   "source": [
    "n = 2\n",
    "\n",
    "RP_max_mult = t_r / (0.8473 * n * C_b)\n",
    "RP_max_compare = 1/(n/RP_max)\n",
    "\n",
    "display(Math(\"R_{p~(max)}~\\mathrm{with~n~DACs}=\" + f\"{RP_max_mult}\\Omega\"),\n",
    "        Math(\"\\mathrm{n~parallel~} R_{p~(max)}=\" + f\"{RP_max_compare}\\Omega\"))\n"
   ]
  }
 ],
 "metadata": {
  "interpreter": {
   "hash": "c650d7ea476703797fef1616c599c5fe06f1b1bacf69f4e17f09dcc79ec3c159"
  },
  "kernelspec": {
   "display_name": "Python 3.9.4 ('data')",
   "language": "python",
   "name": "python3"
  },
  "language_info": {
   "codemirror_mode": {
    "name": "ipython",
    "version": 3
   },
   "file_extension": ".py",
   "mimetype": "text/x-python",
   "name": "python",
   "nbconvert_exporter": "python",
   "pygments_lexer": "ipython3",
   "version": "3.9.4"
  },
  "orig_nbformat": 4
 },
 "nbformat": 4,
 "nbformat_minor": 2
}
