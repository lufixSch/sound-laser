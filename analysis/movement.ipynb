{
 "cells": [
  {
   "cell_type": "code",
   "execution_count": 1,
   "metadata": {},
   "outputs": [],
   "source": [
    "import numpy as np\n",
    "import sympy as sp"
   ]
  },
  {
   "cell_type": "markdown",
   "metadata": {},
   "source": [
    "# Params"
   ]
  },
  {
   "cell_type": "code",
   "execution_count": 23,
   "metadata": {},
   "outputs": [
    {
     "data": {
      "text/plain": [
       "60.794736614282655"
      ]
     },
     "execution_count": 23,
     "metadata": {},
     "output_type": "execute_result"
    }
   ],
   "source": [
    "l = 20\n",
    "d = 64\n",
    "r = 90\n",
    "\n",
    "x0 = np.sqrt(d**2 - l**2)\n",
    "x0"
   ]
  },
  {
   "cell_type": "markdown",
   "metadata": {},
   "source": [
    "# Calculations"
   ]
  },
  {
   "cell_type": "markdown",
   "metadata": {},
   "source": [
    "## \"Exact\" solution"
   ]
  },
  {
   "cell_type": "code",
   "execution_count": 3,
   "metadata": {},
   "outputs": [],
   "source": [
    "def servo_to_x(phi: float):\n",
    "  b = np.arcsin(l/d * np.sin(phi))\n",
    "  y = phi + b\n",
    "  x = d * np.sin(y)/np.sin(phi)\n",
    "\n",
    "  return x"
   ]
  },
  {
   "cell_type": "code",
   "execution_count": 4,
   "metadata": {},
   "outputs": [],
   "source": [
    "def x_to_alpha(x: float):\n",
    "  dis = 4 * r**2 * x**2 - x**4 + 2*x**2 * x0**2 - x0**4\n",
    "  alpha = 2 * np.arctan((2 * r**2 - np.sqrt(dis))/(2 * r**2 - 2 * r * x0 - x**2 + x0**2))\n",
    "\n",
    "  return np.pi/2 - alpha\n"
   ]
  },
  {
   "cell_type": "code",
   "execution_count": null,
   "metadata": {},
   "outputs": [],
   "source": [
    "# ⎡      ⎛          _______________________________⎞        ⎛          _______________________________⎞⎤\n",
    "# ⎢      ⎜   2     ╱    2  2    4      2   2     4 ⎟        ⎜   2     ╱    2  2    4      2   2     4 ⎟⎥\n",
    "# ⎢      ⎜2⋅r  - ╲╱  4⋅r ⋅x  - x  + 2⋅x ⋅x₀  - x₀  ⎟        ⎜2⋅r  + ╲╱  4⋅r ⋅x  - x  + 2⋅x ⋅x₀  - x₀  ⎟⎥\n",
    "# ⎢2⋅atan⎜─────────────────────────────────────────⎟, 2⋅atan⎜─────────────────────────────────────────⎟⎥\n",
    "# ⎢      ⎜            2             2     2        ⎟        ⎜            2             2     2        ⎟⎥\n",
    "# ⎣      ⎝         2⋅r  - 2⋅r⋅x₀ - x  + x₀         ⎠        ⎝         2⋅r  - 2⋅r⋅x₀ - x  + x₀         ⎠⎦"
   ]
  },
  {
   "cell_type": "code",
   "execution_count": 14,
   "metadata": {},
   "outputs": [
    {
     "data": {
      "text/plain": [
       "(50.14021762305487, -4.609397143768629)"
      ]
     },
     "execution_count": 14,
     "metadata": {},
     "output_type": "execute_result"
    }
   ],
   "source": [
    "x = servo_to_x(np.deg2rad(110))\n",
    "a = np.rad2deg(x_to_alpha(x))\n",
    "\n",
    "x, a"
   ]
  },
  {
   "cell_type": "code",
   "execution_count": 37,
   "metadata": {},
   "outputs": [
    {
     "data": {
      "text/plain": [
       "(-10.625236824101329, 41.84028975530739, 14.38259641058384, 76.48130590668494)"
      ]
     },
     "execution_count": 37,
     "metadata": {},
     "output_type": "execute_result"
    }
   ],
   "source": [
    "dif = 60\n",
    "\n",
    "x1 = servo_to_x(np.deg2rad(90 + dif))\n",
    "a1 = np.rad2deg(x_to_alpha(x1))\n",
    "\n",
    "x2 = servo_to_x(np.deg2rad(90 - dif))\n",
    "a2 = np.rad2deg(x_to_alpha(x2))\n",
    "\n",
    "a1, x1, a2, x2"
   ]
  },
  {
   "cell_type": "markdown",
   "metadata": {},
   "source": [
    "## Approximation"
   ]
  },
  {
   "cell_type": "code",
   "execution_count": 8,
   "metadata": {},
   "outputs": [],
   "source": [
    "def x_to_alpha_approx(x: float):\n",
    "  dx = x - x0\n",
    "  return np.arcsin(dx/r)"
   ]
  },
  {
   "cell_type": "code",
   "execution_count": 13,
   "metadata": {},
   "outputs": [
    {
     "data": {
      "text/plain": [
       "(50.14021762305487, -4.6089174505627755)"
      ]
     },
     "execution_count": 13,
     "metadata": {},
     "output_type": "execute_result"
    }
   ],
   "source": [
    "x = servo_to_x(np.deg2rad(110))\n",
    "a = np.rad2deg(x_to_alpha_approx(x))\n",
    "\n",
    "x, a"
   ]
  },
  {
   "cell_type": "markdown",
   "metadata": {},
   "source": [
    "## Solved for phi"
   ]
  },
  {
   "cell_type": "code",
   "execution_count": 31,
   "metadata": {},
   "outputs": [],
   "source": [
    "def alpha_to_phi_approx(a: float):\n",
    "  dx = np.sin(a) * r\n",
    "  x = dx + x0\n",
    "\n",
    "  phi = np.arccos((l**2 + x**2 - d**2)/(2 * l * x))\n",
    "  return phi - np.pi/2"
   ]
  },
  {
   "cell_type": "code",
   "execution_count": 40,
   "metadata": {},
   "outputs": [
    {
     "name": "stderr",
     "output_type": "stream",
     "text": [
      "/var/folders/xm/h3kt12p12sl8ng1gmtgcfdl40000gn/T/ipykernel_30874/4100416670.py:5: RuntimeWarning: invalid value encountered in arccos\n",
      "  phi = np.arccos((l**2 + x**2 - d**2)/(2 * l * x))\n"
     ]
    },
    {
     "data": {
      "text/plain": [
       "nan"
      ]
     },
     "execution_count": 40,
     "metadata": {},
     "output_type": "execute_result"
    }
   ],
   "source": [
    "phi = np.rad2deg(alpha_to_phi_approx(np.deg2rad(-11)))\n",
    "phi"
   ]
  }
 ],
 "metadata": {
  "kernelspec": {
   "display_name": "Python 3.9.4 ('data')",
   "language": "python",
   "name": "python3"
  },
  "language_info": {
   "codemirror_mode": {
    "name": "ipython",
    "version": 3
   },
   "file_extension": ".py",
   "mimetype": "text/x-python",
   "name": "python",
   "nbconvert_exporter": "python",
   "pygments_lexer": "ipython3",
   "version": "3.9.4"
  },
  "orig_nbformat": 4,
  "vscode": {
   "interpreter": {
    "hash": "c650d7ea476703797fef1616c599c5fe06f1b1bacf69f4e17f09dcc79ec3c159"
   }
  }
 },
 "nbformat": 4,
 "nbformat_minor": 2
}
