{
 "cells": [
  {
   "cell_type": "code",
   "execution_count": 1,
   "metadata": {},
   "outputs": [],
   "source": [
    "import numpy as np\n",
    "import sympy as sp"
   ]
  },
  {
   "cell_type": "markdown",
   "metadata": {},
   "source": [
    "# Params"
   ]
  },
  {
   "cell_type": "code",
   "execution_count": 14,
   "metadata": {},
   "outputs": [
    {
     "data": {
      "text/plain": [
       "56.568542494923804"
      ]
     },
     "execution_count": 14,
     "metadata": {},
     "output_type": "execute_result"
    }
   ],
   "source": [
    "l = 20\n",
    "d = 60\n",
    "r = 80\n",
    "\n",
    "x0 = np.sqrt(d**2 - l**2)\n",
    "x0"
   ]
  },
  {
   "cell_type": "markdown",
   "metadata": {},
   "source": [
    "# Calculations"
   ]
  },
  {
   "cell_type": "code",
   "execution_count": 8,
   "metadata": {},
   "outputs": [],
   "source": [
    "def servo_to_x(phi: float):\n",
    "  b = np.arcsin(l/d * np.sin(phi))\n",
    "  y = phi + b\n",
    "  x = l * np.sin(y)/np.sin(b)\n",
    "\n",
    "  return x"
   ]
  },
  {
   "cell_type": "code",
   "execution_count": 19,
   "metadata": {},
   "outputs": [],
   "source": [
    "def x_to_alpha(x: float):\n",
    "  dis = 4 * r**2 * x**2 - x**4 + 2*x**2 * x0**2 - x0**4\n",
    "  alpha = 2 * np.arctan((2 * r**2 - np.sqrt(dis))/(2 * r**2 - 2 * r * x0 - x**2 + x0**2))\n",
    "\n",
    "  return np.pi/2 - alpha\n"
   ]
  },
  {
   "cell_type": "code",
   "execution_count": null,
   "metadata": {},
   "outputs": [],
   "source": [
    "# ⎡      ⎛          _______________________________⎞        ⎛          _______________________________⎞⎤\n",
    "# ⎢      ⎜   2     ╱    2  2    4      2   2     4 ⎟        ⎜   2     ╱    2  2    4      2   2     4 ⎟⎥\n",
    "# ⎢      ⎜2⋅r  - ╲╱  4⋅r ⋅x  - x  + 2⋅x ⋅x₀  - x₀  ⎟        ⎜2⋅r  + ╲╱  4⋅r ⋅x  - x  + 2⋅x ⋅x₀  - x₀  ⎟⎥\n",
    "# ⎢2⋅atan⎜─────────────────────────────────────────⎟, 2⋅atan⎜─────────────────────────────────────────⎟⎥\n",
    "# ⎢      ⎜            2             2     2        ⎟        ⎜            2             2     2        ⎟⎥\n",
    "# ⎣      ⎝         2⋅r  - 2⋅r⋅x₀ - x  + x₀         ⎠        ⎝         2⋅r  - 2⋅r⋅x₀ - x  + x₀         ⎠⎦"
   ]
  },
  {
   "cell_type": "code",
   "execution_count": 23,
   "metadata": {},
   "outputs": [
    {
     "data": {
      "text/plain": [
       "(56.568542494923804, 2.5444437451708134e-14)"
      ]
     },
     "execution_count": 23,
     "metadata": {},
     "output_type": "execute_result"
    }
   ],
   "source": [
    "x = servo_to_x(np.deg2rad(90))\n",
    "a = np.rad2deg(x_to_alpha(x))\n",
    "\n",
    "x, a"
   ]
  },
  {
   "cell_type": "code",
   "execution_count": null,
   "metadata": {},
   "outputs": [],
   "source": []
  }
 ],
 "metadata": {
  "kernelspec": {
   "display_name": "Python 3.9.4 ('data')",
   "language": "python",
   "name": "python3"
  },
  "language_info": {
   "codemirror_mode": {
    "name": "ipython",
    "version": 3
   },
   "file_extension": ".py",
   "mimetype": "text/x-python",
   "name": "python",
   "nbconvert_exporter": "python",
   "pygments_lexer": "ipython3",
   "version": "3.9.4"
  },
  "orig_nbformat": 4,
  "vscode": {
   "interpreter": {
    "hash": "c650d7ea476703797fef1616c599c5fe06f1b1bacf69f4e17f09dcc79ec3c159"
   }
  }
 },
 "nbformat": 4,
 "nbformat_minor": 2
}
