{
 "cells": [
  {
   "cell_type": "code",
   "execution_count": 27,
   "metadata": {},
   "outputs": [],
   "source": [
    "import numpy as np\n",
    "\n",
    "import ipywidgets as widgets\n",
    "from ipywidgets import interact, interactive, fixed, interact_manual\n",
    "from IPython.display import display, Math\n",
    "\n",
    "import plotly.express as px\n",
    "import matplotlib.pyplot as plt"
   ]
  },
  {
   "cell_type": "code",
   "execution_count": 28,
   "metadata": {},
   "outputs": [],
   "source": [
    "def sinCarrier(w, t, phi=0):\n",
    "  return np.sin(w * t + phi)\n",
    "  \n",
    "def pulseCarrier(w, t, phi=0):\n",
    "  return 1 - 2 * np.ceil(0.9 * np.sin(w * t + phi))\n",
    "\n",
    "def signal(f, t, phi=0):\n",
    "  return np.cos(2 * np.pi * f * t + phi)"
   ]
  },
  {
   "cell_type": "markdown",
   "metadata": {},
   "source": [
    "# Amplitude Modulation"
   ]
  },
  {
   "cell_type": "code",
   "execution_count": 29,
   "metadata": {},
   "outputs": [],
   "source": [
    "f_carrier = 50e3\n",
    "f = 1e3\n",
    "T = 1/f\n",
    "\n",
    "t = np.arange(-T, T, T/1000)\n",
    "m = 0.2\n",
    "U0 = 0.5"
   ]
  },
  {
   "cell_type": "markdown",
   "metadata": {},
   "source": [
    "### Sinusodial carrier"
   ]
  },
  {
   "cell_type": "code",
   "execution_count": 30,
   "metadata": {},
   "outputs": [
    {
     "data": {
      "application/vnd.jupyter.widget-view+json": {
       "model_id": "f6e38234b5c045638722ce2892a2016e",
       "version_major": 2,
       "version_minor": 0
      },
      "text/plain": [
       "interactive(children=(IntSlider(value=50000, description='Carrier: ', max=100000, min=500, step=100), FloatSli…"
      ]
     },
     "metadata": {},
     "output_type": "display_data"
    }
   ],
   "source": [
    "f_carrier_slider = widgets.IntSlider(\n",
    "    value=f_carrier,\n",
    "    min=f/2,\n",
    "    max=100e3,\n",
    "    step=100,\n",
    "    description=\"Carrier: \",\n",
    "    orientation='horizontal',\n",
    "    readout=True,\n",
    ")\n",
    "\n",
    "U0_slider = widgets.FloatSlider(\n",
    "  value=U0,\n",
    "  min = 0,\n",
    "  max = 1,\n",
    "  step = 0.01,\n",
    "  description=\"Offset: \",\n",
    "  orientation='horizontal',\n",
    "  readout=True,\n",
    "  readout_format=\".2f\",\n",
    ")\n",
    "\n",
    "m_slider = widgets.FloatSlider(\n",
    "  value=m,\n",
    "  min = 0,\n",
    "  max = 2,\n",
    "  step = 0.01,\n",
    "  description=\"Modulation: \",\n",
    "  orientation='horizontal',\n",
    "  readout=True,\n",
    "  readout_format=\".2f\",\n",
    ")\n",
    "\n",
    "@interact(f_carrier=f_carrier_slider, U0=U0_slider, m=m_slider)\n",
    "def plotSinAM(f_carrier, U0, m):\n",
    "  c = sinCarrier(2 * np.pi *  f_carrier, t)\n",
    "  s = signal(f, t)\n",
    "\n",
    "  sin_am = U0 * (1 + m*s)*c\n",
    "\n",
    "  plt.figure(figsize=[10,4])\n",
    "  plt.plot(t, sin_am)\n",
    "  plt.plot(t, s)\n",
    "  plt.xlim((-T, T))\n",
    "  plt.ylim((-2, 2))\n",
    "  plt.legend(('Modulated Signal', 'Modulating Signal'), loc=\"upper right\")\n",
    "  plt.show()"
   ]
  },
  {
   "cell_type": "markdown",
   "metadata": {},
   "source": [
    "### Square wave carrier"
   ]
  },
  {
   "cell_type": "code",
   "execution_count": 31,
   "metadata": {},
   "outputs": [
    {
     "data": {
      "application/vnd.jupyter.widget-view+json": {
       "model_id": "80f0a6a0aa1b439399805193e28c338d",
       "version_major": 2,
       "version_minor": 0
      },
      "text/plain": [
       "interactive(children=(IntSlider(value=50000, description='Carrier: ', max=100000, min=500, step=100), FloatSli…"
      ]
     },
     "metadata": {},
     "output_type": "display_data"
    }
   ],
   "source": [
    "f_carrier_slider = widgets.IntSlider(\n",
    "    value=f_carrier,\n",
    "    min=f/2,\n",
    "    max=100e3,\n",
    "    step=100,\n",
    "    description=\"Carrier: \",\n",
    "    orientation='horizontal',\n",
    "    readout=True,\n",
    ")\n",
    "\n",
    "U0_slider = widgets.FloatSlider(\n",
    "    value=U0,\n",
    "    min=0,\n",
    "    max=1,\n",
    "    step=0.01,\n",
    "    description=\"Offset: \",\n",
    "    orientation='horizontal',\n",
    "    readout=True,\n",
    "    readout_format=\".2f\",\n",
    ")\n",
    "\n",
    "m_slider = widgets.FloatSlider(\n",
    "    value=m,\n",
    "    min=0,\n",
    "    max=2,\n",
    "    step=0.01,\n",
    "    description=\"Modulation: \",\n",
    "    orientation='horizontal',\n",
    "    readout=True,\n",
    "    readout_format=\".2f\",\n",
    ")\n",
    "\n",
    "\n",
    "@interact(f_carrier=f_carrier_slider, U0=U0_slider, m=m_slider)\n",
    "def plotPulseAM(f_carrier, U0, m):\n",
    "  c = pulseCarrier(2 * np.pi * f_carrier, t)\n",
    "  s = signal(f, t)\n",
    "\n",
    "  pulse_am = U0 * (1 + m*s)*c\n",
    "\n",
    "  plt.figure(figsize=[10, 4])\n",
    "  plt.plot(t, pulse_am)\n",
    "  plt.plot(t, s)\n",
    "  plt.xlim((-T, T))\n",
    "  plt.ylim((-2, 2))\n",
    "  plt.legend(('Modulated Signal', 'Modulating Signal'), loc=\"upper right\")\n",
    "  plt.show()\n"
   ]
  },
  {
   "cell_type": "markdown",
   "metadata": {},
   "source": [
    "# Phase Modulation"
   ]
  },
  {
   "cell_type": "code",
   "execution_count": 32,
   "metadata": {},
   "outputs": [],
   "source": [
    "f_carrier = 50e3\n",
    "f = 1e3\n",
    "T = 1/f\n",
    "\n",
    "t = np.arange(-T, T, T/1000)\n",
    "m = 2\n",
    "U0 = 1"
   ]
  },
  {
   "cell_type": "markdown",
   "metadata": {},
   "source": [
    "### Sinusodial carrier"
   ]
  },
  {
   "cell_type": "code",
   "execution_count": 33,
   "metadata": {},
   "outputs": [
    {
     "data": {
      "application/vnd.jupyter.widget-view+json": {
       "model_id": "b53770df71cb4c6c832324fc5e472386",
       "version_major": 2,
       "version_minor": 0
      },
      "text/plain": [
       "interactive(children=(IntSlider(value=50000, description='Carrier: ', max=100000, min=500, step=100), FloatSli…"
      ]
     },
     "metadata": {},
     "output_type": "display_data"
    }
   ],
   "source": [
    "f_carrier_slider = widgets.IntSlider(\n",
    "    value=f_carrier,\n",
    "    min=f/2,\n",
    "    max=100e3,\n",
    "    step=100,\n",
    "    description=\"Carrier: \",\n",
    "    orientation='horizontal',\n",
    "    readout=True,\n",
    ")\n",
    "\n",
    "U0_slider = widgets.FloatSlider(\n",
    "    value=U0,\n",
    "    min=0,\n",
    "    max=2,\n",
    "    step=0.01,\n",
    "    description=\"Offset: \",\n",
    "    orientation='horizontal',\n",
    "    readout=True,\n",
    "    readout_format=\".2f\",\n",
    ")\n",
    "\n",
    "m_slider = widgets.FloatSlider(\n",
    "    value=m,\n",
    "    min=0,\n",
    "    max=10,\n",
    "    step=0.01,\n",
    "    description=\"Modulation: \",\n",
    "    orientation='horizontal',\n",
    "    readout=True,\n",
    "    readout_format=\".2f\",\n",
    ")\n",
    "\n",
    "\n",
    "@interact(f_carrier=f_carrier_slider, U0=U0_slider, m=m_slider)\n",
    "def plotSinPM(f_carrier, U0, m):\n",
    "  s = signal(f, t)\n",
    "  sin_pm = U0 * sinCarrier(2 * np.pi * f_carrier, t, phi=m * s)\n",
    "\n",
    "  plt.figure(figsize=[10, 4])\n",
    "  plt.plot(t, sin_pm)\n",
    "  plt.plot(t, s)\n",
    "  plt.xlim((-T, T))\n",
    "  plt.ylim((-2, 2))\n",
    "  plt.legend(('Modulated Signal', 'Modulating Signal'), loc=\"upper right\")\n",
    "  plt.show()\n"
   ]
  },
  {
   "cell_type": "markdown",
   "metadata": {},
   "source": [
    "### Square wave carrier"
   ]
  },
  {
   "cell_type": "code",
   "execution_count": 34,
   "metadata": {},
   "outputs": [
    {
     "data": {
      "application/vnd.jupyter.widget-view+json": {
       "model_id": "264943570a394d75bcde6764b0e25df6",
       "version_major": 2,
       "version_minor": 0
      },
      "text/plain": [
       "interactive(children=(IntSlider(value=50000, description='Carrier: ', max=100000, min=500, step=100), FloatSli…"
      ]
     },
     "metadata": {},
     "output_type": "display_data"
    }
   ],
   "source": [
    "f_carrier_slider = widgets.IntSlider(\n",
    "    value=f_carrier,\n",
    "    min=f/2,\n",
    "    max=100e3,\n",
    "    step=100,\n",
    "    description=\"Carrier: \",\n",
    "    orientation='horizontal',\n",
    "    readout=True,\n",
    ")\n",
    "\n",
    "U0_slider = widgets.FloatSlider(\n",
    "    value=U0,\n",
    "    min=0,\n",
    "    max=2,\n",
    "    step=0.01,\n",
    "    description=\"Offset: \",\n",
    "    orientation='horizontal',\n",
    "    readout=True,\n",
    "    readout_format=\".2f\",\n",
    ")\n",
    "\n",
    "m_slider = widgets.FloatSlider(\n",
    "    value=m,\n",
    "    min=0,\n",
    "    max=10,\n",
    "    step=0.01,\n",
    "    description=\"Modulation: \",\n",
    "    orientation='horizontal',\n",
    "    readout=True,\n",
    "    readout_format=\".2f\",\n",
    ")\n",
    "\n",
    "\n",
    "@interact(f_carrier=f_carrier_slider, U0=U0_slider, m=m_slider)\n",
    "def plotPulsePM(f_carrier, U0, m):\n",
    "  s = signal(f, t)\n",
    "  pulse_pm = U0 * pulseCarrier(2 * np.pi * f_carrier, t, phi=m * s)\n",
    "\n",
    "  plt.figure(figsize=[10, 4])\n",
    "  plt.plot(t, pulse_pm)\n",
    "  plt.plot(t, s)\n",
    "  plt.xlim((-T, T))\n",
    "  plt.ylim((-2, 2))\n",
    "  plt.legend(('Modulated Signal', 'Modulating Signal'), loc=\"upper right\")\n",
    "  plt.show()\n"
   ]
  },
  {
   "cell_type": "markdown",
   "metadata": {},
   "source": [
    "# Frequency Modulation"
   ]
  },
  {
   "cell_type": "code",
   "execution_count": 35,
   "metadata": {},
   "outputs": [],
   "source": [
    "f_carrier = 50e3\n",
    "f = 1e3\n",
    "T = 1/f\n",
    "\n",
    "t = np.arange(-T, T, T/1000)\n",
    "m = 0.2\n",
    "U0 = 1"
   ]
  },
  {
   "cell_type": "markdown",
   "metadata": {},
   "source": [
    "### Sinusodial carrier"
   ]
  },
  {
   "cell_type": "code",
   "execution_count": 43,
   "metadata": {},
   "outputs": [
    {
     "data": {
      "application/vnd.jupyter.widget-view+json": {
       "model_id": "eb4299f3ea81452d9393af276e44429d",
       "version_major": 2,
       "version_minor": 0
      },
      "text/plain": [
       "interactive(children=(IntSlider(value=50000, description='Carrier: ', max=100000, min=500, step=100), FloatSli…"
      ]
     },
     "metadata": {},
     "output_type": "display_data"
    }
   ],
   "source": [
    "f_carrier_slider = widgets.IntSlider(\n",
    "    value=f_carrier,\n",
    "    min=f/2,\n",
    "    max=100e3,\n",
    "    step=100,\n",
    "    description=\"Carrier: \",\n",
    "    orientation='horizontal',\n",
    "    readout=True,\n",
    ")\n",
    "\n",
    "U0_slider = widgets.FloatSlider(\n",
    "    value=U0,\n",
    "    min=0,\n",
    "    max=1,\n",
    "    step=0.01,\n",
    "    description=\"Offset: \",\n",
    "    orientation='horizontal',\n",
    "    readout=True,\n",
    "    readout_format=\".2f\",\n",
    ")\n",
    "\n",
    "m_slider = widgets.FloatSlider(\n",
    "    value=m,\n",
    "    min=0,\n",
    "    max=2,\n",
    "    step=0.01,\n",
    "    description=\"Modulation: \",\n",
    "    orientation='horizontal',\n",
    "    readout=True,\n",
    "    readout_format=\".2f\",\n",
    ")\n",
    "\n",
    "\n",
    "@interact(f_carrier=f_carrier_slider, U0=U0_slider, m=m_slider)\n",
    "def plotSinFM(f_carrier, U0, m):\n",
    "  s = signal(f, t)\n",
    "\n",
    "  w0 = 2 * np.pi * f_carrier\n",
    "  sin_fm = U0 * sinCarrier(w0 * (1 + m * s), t)\n",
    "\n",
    "  plt.figure(figsize=[10, 4])\n",
    "  plt.plot(t, sin_fm)\n",
    "  plt.plot(t, s)\n",
    "  plt.xlim((-T, T))\n",
    "  plt.ylim((-2, 2))\n",
    "  plt.legend(('Modulated Signal', 'Modulating Signal'), loc=\"upper right\")\n",
    "  \n",
    "  display(f\"Frequency Range: ±{((w0 * m)/1e3):.2f}kHz\")\n",
    "  plt.show()\n"
   ]
  },
  {
   "cell_type": "markdown",
   "metadata": {},
   "source": [
    "### Square wave carrier"
   ]
  },
  {
   "cell_type": "code",
   "execution_count": 42,
   "metadata": {},
   "outputs": [
    {
     "data": {
      "application/vnd.jupyter.widget-view+json": {
       "model_id": "236e3933ec0c48aba76d97581408a7ef",
       "version_major": 2,
       "version_minor": 0
      },
      "text/plain": [
       "interactive(children=(IntSlider(value=50000, description='Carrier: ', max=100000, min=500, step=100), FloatSli…"
      ]
     },
     "metadata": {},
     "output_type": "display_data"
    }
   ],
   "source": [
    "f_carrier_slider = widgets.IntSlider(\n",
    "    value=f_carrier,\n",
    "    min=f/2,\n",
    "    max=100e3,\n",
    "    step=100,\n",
    "    description=\"Carrier: \",\n",
    "    orientation='horizontal',\n",
    "    readout=True,\n",
    ")\n",
    "\n",
    "U0_slider = widgets.FloatSlider(\n",
    "    value=U0,\n",
    "    min=0,\n",
    "    max=1,\n",
    "    step=0.01,\n",
    "    description=\"Offset: \",\n",
    "    orientation='horizontal',\n",
    "    readout=True,\n",
    "    readout_format=\".2f\",\n",
    ")\n",
    "\n",
    "m_slider = widgets.FloatSlider(\n",
    "    value=m,\n",
    "    min=0,\n",
    "    max=2,\n",
    "    step=0.01,\n",
    "    description=\"Modulation: \",\n",
    "    orientation='horizontal',\n",
    "    readout=True,\n",
    "    readout_format=\".2f\",\n",
    ")\n",
    "\n",
    "\n",
    "@interact(f_carrier=f_carrier_slider, U0=U0_slider, m=m_slider)\n",
    "def plotPulseFM(f_carrier, U0, m):\n",
    "  s = signal(f, t)\n",
    "\n",
    "  w0 = 2 * np.pi * f_carrier\n",
    "  pulse_fm = U0 * pulseCarrier(w0 * (1 + m * s), t)\n",
    "\n",
    "  plt.figure(figsize=[10, 4])\n",
    "  plt.plot(t, pulse_fm)\n",
    "  plt.plot(t, s)\n",
    "  plt.xlim((-T, T))\n",
    "  plt.ylim((-2, 2))\n",
    "  plt.legend(('Modulated Signal', 'Modulating Signal'), loc=\"upper right\")\n",
    "  \n",
    "  display(f\"Frequency Range: ±{((w0 * m)/1e3):.2f}kHz\")\n",
    "  plt.show()\n"
   ]
  }
 ],
 "metadata": {
  "interpreter": {
   "hash": "c650d7ea476703797fef1616c599c5fe06f1b1bacf69f4e17f09dcc79ec3c159"
  },
  "kernelspec": {
   "display_name": "Python 3.9.4 ('data')",
   "language": "python",
   "name": "python3"
  },
  "language_info": {
   "codemirror_mode": {
    "name": "ipython",
    "version": 3
   },
   "file_extension": ".py",
   "mimetype": "text/x-python",
   "name": "python",
   "nbconvert_exporter": "python",
   "pygments_lexer": "ipython3",
   "version": "3.9.4"
  },
  "orig_nbformat": 4
 },
 "nbformat": 4,
 "nbformat_minor": 2
}
