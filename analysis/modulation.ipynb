{
 "cells": [
  {
   "cell_type": "code",
   "execution_count": 90,
   "metadata": {},
   "outputs": [],
   "source": [
    "import numpy as np\n",
    "\n",
    "import ipywidgets as widgets\n",
    "from ipywidgets import interact, interactive, fixed, interact_manual\n",
    "from IPython.display import display, Math\n",
    "\n",
    "import plotly.express as px\n",
    "import plotly.graph_objects as go\n",
    "import plotly.subplots as subplots\n",
    "\n",
    "import plotly.express as px\n",
    "import matplotlib.pyplot as plt"
   ]
  },
  {
   "cell_type": "code",
   "execution_count": 92,
   "metadata": {},
   "outputs": [],
   "source": [
    "def sinCarrier(w, t, phi=0):\n",
    "  return np.sin(w * t + phi)\n",
    "  \n",
    "def pulseCarrier(w, t, phi=0):\n",
    "  return 1 - 2 * np.ceil(0.9 * np.sin(w * t + phi))\n",
    "\n",
    "def signal(f, t, phi=0):\n",
    "  return np.cos(2 * np.pi * f * t + phi)\n",
    "\n",
    "def fft(s):\n",
    "  n = len(s)\n",
    "  S = np.fft.fft(s)\n",
    "\n",
    "  return 20 * np.log10(np.abs(S[0:int(n/2)]))\n"
   ]
  },
  {
   "cell_type": "markdown",
   "metadata": {},
   "source": [
    "# Amplitude Modulation"
   ]
  },
  {
   "cell_type": "code",
   "execution_count": 93,
   "metadata": {},
   "outputs": [],
   "source": [
    "n = 1000\n",
    "f_carrier = 40e3\n",
    "f = 1e3\n",
    "T = 1/f\n",
    "fs = n/T\n",
    "\n",
    "t = np.arange(-T, T, 1/fs)\n",
    "m = 0.2\n",
    "U0 = 0.5\n",
    "\n",
    "vf = np.linspace(0, int(fs/2), int(n/2))"
   ]
  },
  {
   "cell_type": "markdown",
   "metadata": {},
   "source": [
    "### Sinusodial carrier"
   ]
  },
  {
   "cell_type": "code",
   "execution_count": 112,
   "metadata": {},
   "outputs": [
    {
     "data": {
      "application/vnd.jupyter.widget-view+json": {
       "model_id": "9f09e051380242eda86fe3bebc5016f9",
       "version_major": 2,
       "version_minor": 0
      },
      "text/plain": [
       "interactive(children=(IntSlider(value=40000, description='Carrier: ', max=100000, min=500, step=100), FloatSli…"
      ]
     },
     "metadata": {},
     "output_type": "display_data"
    },
    {
     "data": {
      "application/vnd.jupyter.widget-view+json": {
       "model_id": "adfd6e2264c6490cab116c2b931fcf60",
       "version_major": 2,
       "version_minor": 0
      },
      "text/plain": [
       "FigureWidget({\n",
       "    'data': [{'name': 'Modulated Signal',\n",
       "              'type': 'scatter',\n",
       "              'uid':…"
      ]
     },
     "metadata": {},
     "output_type": "display_data"
    }
   ],
   "source": [
    "f_carrier_slider = widgets.IntSlider(\n",
    "    value=f_carrier,\n",
    "    min=f/2,\n",
    "    max=100e3,\n",
    "    step=100,\n",
    "    description=\"Carrier: \",\n",
    "    orientation='horizontal',\n",
    "    readout=True,\n",
    ")\n",
    "\n",
    "U0_slider = widgets.FloatSlider(\n",
    "  value=U0,\n",
    "  min = 0,\n",
    "  max = 2,\n",
    "  step = 0.01,\n",
    "  description=\"Offset: \",\n",
    "  orientation='horizontal',\n",
    "  readout=True,\n",
    "  readout_format=\".2f\",\n",
    ")\n",
    "\n",
    "m_slider = widgets.FloatSlider(\n",
    "  value=m,\n",
    "  min = 0,\n",
    "  max = 2,\n",
    "  step = 0.01,\n",
    "  description=\"Modulation: \",\n",
    "  orientation='horizontal',\n",
    "  readout=True,\n",
    "  readout_format=\".2f\",\n",
    ")\n",
    "\n",
    "figAmSin = go.FigureWidget(subplots.make_subplots(rows=2, cols=1))\n",
    "figAmSin.update_layout(\n",
    "    autosize=False,\n",
    "    width=800,\n",
    "    height=500,\n",
    "    margin=dict(\n",
    "        l=40,\n",
    "        r=30,\n",
    "        b=40,\n",
    "        t=30,\n",
    "        pad=4\n",
    "    ),\n",
    "    xaxis_title=\"t in s\",\n",
    "    yaxis_title=\"Magnitude\",\n",
    "    xaxis2_title=\"f in Hz\",\n",
    "    yaxis2_title=\"Magnitude\",\n",
    "    yaxis=dict(range=[-2, 2]),\n",
    "    xaxis=dict(range=[-T, T]),\n",
    "    xaxis2=dict(type=\"log\")\n",
    ")\n",
    "figAmSin.add_scatter(x=t, name=\"Modulated Signal\", row=1, col=1)\n",
    "figAmSin.add_scatter(x=t, name=\"Modulation Signal\", row=1, col=1)\n",
    "\n",
    "figAmSin.add_scatter(x=vf, name=\"Frequency spectrum\", row=2, col=1)\n",
    "\n",
    "@interact(f_carrier=f_carrier_slider, U0=U0_slider, m=m_slider)\n",
    "def plotSinAM(f_carrier, U0, m):\n",
    "  c = sinCarrier(2 * np.pi *  f_carrier, t)\n",
    "  s = signal(f, t)\n",
    "\n",
    "  sin_am = U0 * (1 + m*s)*c\n",
    "  sin_am_fft = fft(sin_am)\n",
    "\n",
    "  figAmSin.data[0].y = sin_am\n",
    "  figAmSin.data[1].y = s\n",
    "  figAmSin.data[2].y = sin_am_fft\n",
    "\n",
    "  figAmSin.update_layout(\n",
    "      yaxis2=dict(range=[-30, 1.2 * max(sin_am_fft)]),\n",
    "  )\n",
    "\n",
    "figAmSin"
   ]
  },
  {
   "cell_type": "markdown",
   "metadata": {},
   "source": [
    "### Square wave carrier"
   ]
  },
  {
   "cell_type": "code",
   "execution_count": 115,
   "metadata": {},
   "outputs": [
    {
     "data": {
      "application/vnd.jupyter.widget-view+json": {
       "model_id": "75773fb0d15a4f14a34d2662f3415856",
       "version_major": 2,
       "version_minor": 0
      },
      "text/plain": [
       "interactive(children=(IntSlider(value=40000, description='Carrier: ', max=100000, min=500, step=100), FloatSli…"
      ]
     },
     "metadata": {},
     "output_type": "display_data"
    },
    {
     "data": {
      "application/vnd.jupyter.widget-view+json": {
       "model_id": "3c31b0d904014234a96a304889bf825e",
       "version_major": 2,
       "version_minor": 0
      },
      "text/plain": [
       "FigureWidget({\n",
       "    'data': [{'name': 'Modulated Signal',\n",
       "              'type': 'scatter',\n",
       "              'uid':…"
      ]
     },
     "metadata": {},
     "output_type": "display_data"
    }
   ],
   "source": [
    "f_carrier_slider = widgets.IntSlider(\n",
    "    value=f_carrier,\n",
    "    min=f/2,\n",
    "    max=100e3,\n",
    "    step=100,\n",
    "    description=\"Carrier: \",\n",
    "    orientation='horizontal',\n",
    "    readout=True,\n",
    ")\n",
    "\n",
    "U0_slider = widgets.FloatSlider(\n",
    "    value=U0,\n",
    "    min=0,\n",
    "    max=1,\n",
    "    step=0.01,\n",
    "    description=\"Offset: \",\n",
    "    orientation='horizontal',\n",
    "    readout=True,\n",
    "    readout_format=\".2f\",\n",
    ")\n",
    "\n",
    "m_slider = widgets.FloatSlider(\n",
    "    value=m,\n",
    "    min=0,\n",
    "    max=2,\n",
    "    step=0.01,\n",
    "    description=\"Modulation: \",\n",
    "    orientation='horizontal',\n",
    "    readout=True,\n",
    "    readout_format=\".2f\",\n",
    ")\n",
    "\n",
    "figAmRec = go.FigureWidget(subplots.make_subplots(rows=2, cols=1))\n",
    "figAmRec.update_layout(\n",
    "    autosize=False,\n",
    "    width=800,\n",
    "    height=500,\n",
    "    margin=dict(\n",
    "        l=40,\n",
    "        r=30,\n",
    "        b=40,\n",
    "        t=30,\n",
    "        pad=4\n",
    "    ),\n",
    "    xaxis_title=\"t in s\",\n",
    "    yaxis_title=\"Magnitude\",\n",
    "    xaxis2_title=\"f in Hz\",\n",
    "    yaxis2_title=\"Magnitude\",\n",
    "    yaxis=dict(range=[-2, 2]),\n",
    "    xaxis=dict(range=[-T, T]),\n",
    "    xaxis2=dict(type=\"log\")\n",
    ")\n",
    "figAmRec.add_scatter(x=t, name=\"Modulated Signal\", row=1, col=1)\n",
    "figAmRec.add_scatter(x=t, name=\"Modulation Signal\", row=1, col=1)\n",
    "\n",
    "figAmRec.add_scatter(x=vf, name=\"Frequency spectrum\", row=2, col=1)\n",
    "\n",
    "@interact(f_carrier=f_carrier_slider, U0=U0_slider, m=m_slider)\n",
    "def plotPulseAM(f_carrier, U0, m):\n",
    "  c = pulseCarrier(2 * np.pi * f_carrier, t)\n",
    "  s = signal(f, t)\n",
    "\n",
    "  pulse_am = U0 * (1 + m*s)*c\n",
    "  pulse_am_fft = fft(pulse_am)\n",
    "\n",
    "  figAmRec.data[0].y = pulse_am\n",
    "  figAmRec.data[1].y = s\n",
    "  figAmRec.data[2].y = pulse_am_fft\n",
    "\n",
    "  figAmRec.update_layout(\n",
    "      yaxis2=dict(range=[-30, 1.2 * max(pulse_am_fft)]),\n",
    "  )\n",
    "\n",
    "figAmRec\n"
   ]
  },
  {
   "cell_type": "markdown",
   "metadata": {},
   "source": [
    "# Frequency Modulation"
   ]
  },
  {
   "cell_type": "code",
   "execution_count": 116,
   "metadata": {},
   "outputs": [],
   "source": [
    "n = 1000\n",
    "f_carrier = 40e3\n",
    "f = 1e3\n",
    "T = 1/f\n",
    "fs = n/T\n",
    "\n",
    "t = np.arange(-T, T, 1/fs)\n",
    "m = 0.04\n",
    "U0 = 0.5\n",
    "\n",
    "vf = np.linspace(0, int(fs/2), int(n/2))"
   ]
  },
  {
   "cell_type": "markdown",
   "metadata": {},
   "source": [
    "### Sinusodial carrier"
   ]
  },
  {
   "cell_type": "code",
   "execution_count": 119,
   "metadata": {},
   "outputs": [
    {
     "data": {
      "application/vnd.jupyter.widget-view+json": {
       "model_id": "f3f217fe456446b1823dcf8c553af17e",
       "version_major": 2,
       "version_minor": 0
      },
      "text/plain": [
       "interactive(children=(IntSlider(value=40000, description='Carrier: ', max=100000, min=500, step=100), FloatSli…"
      ]
     },
     "metadata": {},
     "output_type": "display_data"
    },
    {
     "data": {
      "application/vnd.jupyter.widget-view+json": {
       "model_id": "fe85c3d2ae8e427697f44ccc1521ae6c",
       "version_major": 2,
       "version_minor": 0
      },
      "text/plain": [
       "FigureWidget({\n",
       "    'data': [{'name': 'Modulated Signal',\n",
       "              'type': 'scatter',\n",
       "              'uid':…"
      ]
     },
     "metadata": {},
     "output_type": "display_data"
    }
   ],
   "source": [
    "f_carrier_slider = widgets.IntSlider(\n",
    "    value=f_carrier,\n",
    "    min=f/2,\n",
    "    max=100e3,\n",
    "    step=100,\n",
    "    description=\"Carrier: \",\n",
    "    orientation='horizontal',\n",
    "    readout=True,\n",
    ")\n",
    "\n",
    "U0_slider = widgets.FloatSlider(\n",
    "    value=U0,\n",
    "    min=0,\n",
    "    max=1,\n",
    "    step=0.01,\n",
    "    description=\"Offset: \",\n",
    "    orientation='horizontal',\n",
    "    readout=True,\n",
    "    readout_format=\".2f\",\n",
    ")\n",
    "\n",
    "m_slider = widgets.FloatSlider(\n",
    "    value=m,\n",
    "    min=0,\n",
    "    max=2,\n",
    "    step=0.01,\n",
    "    description=\"Modulation: \",\n",
    "    orientation='horizontal',\n",
    "    readout=True,\n",
    "    readout_format=\".2f\",\n",
    ")\n",
    "\n",
    "figFmSin = go.FigureWidget(subplots.make_subplots(rows=2, cols=1))\n",
    "figFmSin.update_layout(\n",
    "    autosize=False,\n",
    "    width=800,\n",
    "    height=500,\n",
    "    margin=dict(\n",
    "        l=40,\n",
    "        r=30,\n",
    "        b=40,\n",
    "        t=30,\n",
    "        pad=4\n",
    "    ),\n",
    "    xaxis_title=\"t in s\",\n",
    "    yaxis_title=\"Magnitude\",\n",
    "    xaxis2_title=\"f in Hz\",\n",
    "    yaxis2_title=\"Magnitude\",\n",
    "    yaxis=dict(range=[-2, 2]),\n",
    "    xaxis=dict(range=[-T, T]),\n",
    "    xaxis2=dict(type=\"log\")\n",
    ")\n",
    "figFmSin.add_scatter(x=t, name=\"Modulated Signal\", row=1, col=1)\n",
    "figFmSin.add_scatter(x=t, name=\"Modulation Signal\", row=1, col=1)\n",
    "\n",
    "figFmSin.add_scatter(x=vf, name=\"Frequency spectrum\", row=2, col=1)\n",
    "\n",
    "@interact(f_carrier=f_carrier_slider, U0=U0_slider, m=m_slider)\n",
    "def plotSinFM(f_carrier, U0, m):\n",
    "  s = signal(f, t)\n",
    "\n",
    "  w0 = 2 * np.pi * f_carrier\n",
    "  sin_fm = U0 * sinCarrier(w0 * (1 + m * s), t)\n",
    "  sin_fm_fft = fft(sin_fm)\n",
    "\n",
    "  figFmSin.data[0].y = sin_fm\n",
    "  figFmSin.data[1].y = s\n",
    "  figFmSin.data[2].y = sin_fm_fft\n",
    "\n",
    "  figAmRec.update_layout(\n",
    "      yaxis2=dict(range=[-30, 1.2 * max(sin_fm_fft)]),\n",
    "  )\n",
    "\n",
    "  dw = w0 * m\n",
    "  w1 = 2 * np.pi * f\n",
    "  eta = dw/(2 * np.pi * f)\n",
    "  B = (2 * w1 * (eta + 1))/(2 * np.pi)\n",
    "\n",
    "  display(f\"Frequency Range: ±{((dw)/(2 * np.pi * 1e3)):.2f}kHz\")\n",
    "  display(f\"Modulationindex: {eta:.2f}\")\n",
    "  display(\n",
    "      f\"Bandwidth: {B * 1e-3:.2f}kHz -> {(f_carrier - B/2) * 1e-3:.2f}kHz - {(f_carrier + B/2) * 1e-3:.2f}kHz\")\n",
    "  plt.show()\n",
    "\n",
    "\n",
    "figFmSin\n"
   ]
  },
  {
   "cell_type": "markdown",
   "metadata": {},
   "source": [
    "### Square wave carrier"
   ]
  },
  {
   "cell_type": "code",
   "execution_count": 122,
   "metadata": {},
   "outputs": [
    {
     "data": {
      "application/vnd.jupyter.widget-view+json": {
       "model_id": "73298695d7a04296a50afc23a369d2e0",
       "version_major": 2,
       "version_minor": 0
      },
      "text/plain": [
       "interactive(children=(IntSlider(value=40000, description='Carrier: ', max=100000, min=500, step=100), FloatSli…"
      ]
     },
     "metadata": {},
     "output_type": "display_data"
    },
    {
     "data": {
      "application/vnd.jupyter.widget-view+json": {
       "model_id": "205a9f3121f2485f9e347ed37e695a5f",
       "version_major": 2,
       "version_minor": 0
      },
      "text/plain": [
       "FigureWidget({\n",
       "    'data': [{'name': 'Modulated Signal',\n",
       "              'type': 'scatter',\n",
       "              'uid':…"
      ]
     },
     "metadata": {},
     "output_type": "display_data"
    }
   ],
   "source": [
    "f_carrier_slider = widgets.IntSlider(\n",
    "    value=f_carrier,\n",
    "    min=f/2,\n",
    "    max=100e3,\n",
    "    step=100,\n",
    "    description=\"Carrier: \",\n",
    "    orientation='horizontal',\n",
    "    readout=True,\n",
    ")\n",
    "\n",
    "U0_slider = widgets.FloatSlider(\n",
    "    value=U0,\n",
    "    min=0,\n",
    "    max=1,\n",
    "    step=0.01,\n",
    "    description=\"Offset: \",\n",
    "    orientation='horizontal',\n",
    "    readout=True,\n",
    "    readout_format=\".2f\",\n",
    ")\n",
    "\n",
    "m_slider = widgets.FloatSlider(\n",
    "    value=m,\n",
    "    min=0,\n",
    "    max=2,\n",
    "    step=0.01,\n",
    "    description=\"Modulation: \",\n",
    "    orientation='horizontal',\n",
    "    readout=True,\n",
    "    readout_format=\".2f\",\n",
    ")\n",
    "\n",
    "figFmRec = go.FigureWidget(subplots.make_subplots(rows=2, cols=1))\n",
    "figFmRec.update_layout(\n",
    "    autosize=False,\n",
    "    width=800,\n",
    "    height=500,\n",
    "    margin=dict(\n",
    "        l=40,\n",
    "        r=30,\n",
    "        b=40,\n",
    "        t=30,\n",
    "        pad=4\n",
    "    ),\n",
    "    xaxis_title=\"t in s\",\n",
    "    yaxis_title=\"Magnitude\",\n",
    "    xaxis2_title=\"f in Hz\",\n",
    "    yaxis2_title=\"Magnitude\",\n",
    "    yaxis=dict(range=[-2, 2]),\n",
    "    xaxis=dict(range=[-T, T]),\n",
    "    xaxis2=dict(type=\"log\")\n",
    ")\n",
    "figFmRec.add_scatter(x=t, name=\"Modulated Signal\", row=1, col=1)\n",
    "figFmRec.add_scatter(x=t, name=\"Modulation Signal\", row=1, col=1)\n",
    "\n",
    "figFmRec.add_scatter(x=vf, name=\"Frequency spectrum\", row=2, col=1)\n",
    "\n",
    "@interact(f_carrier=f_carrier_slider, U0=U0_slider, m=m_slider)\n",
    "def plotPulseFM(f_carrier, U0, m):\n",
    "  s = signal(f, t)\n",
    "\n",
    "  w0 = 2 * np.pi * f_carrier\n",
    "  pulse_fm = U0 * pulseCarrier(w0 * (1 + m * s), t)\n",
    "  pulse_fm_fft = fft(pulse_fm)\n",
    "\n",
    "  figFmRec.data[0].y = pulse_fm\n",
    "  figFmRec.data[1].y = s\n",
    "  figFmRec.data[2].y = pulse_fm_fft\n",
    "\n",
    "  figAmRec.update_layout(\n",
    "      yaxis2=dict(range=[-30, 1.2 * max(pulse_fm_fft)]),\n",
    "  )\n",
    "\n",
    "  dw = w0 * m\n",
    "  w1 = 2 * np.pi * f\n",
    "  eta = dw/(2 * np.pi * f)\n",
    "  B = (2 * w1 * (eta + 1))/(2 * np.pi)\n",
    "\n",
    "  display(f\"Frequency Range: ±{((dw)/(2 * np.pi * 1e3)):.2f}kHz\")\n",
    "  display(f\"Modulationindex: {eta:.2f}\")\n",
    "  display(\n",
    "      f\"Bandwidth: {B * 1e-3:.2f}kHz -> {(f_carrier - B/2) * 1e-3:.2f}kHz - {(f_carrier + B/2) * 1e-3:.2f}kHz\")\n",
    "  plt.show()\n",
    "\n",
    "\n",
    "figFmRec\n"
   ]
  }
 ],
 "metadata": {
  "kernelspec": {
   "display_name": "Python 3.9.4 ('data')",
   "language": "python",
   "name": "python3"
  },
  "language_info": {
   "codemirror_mode": {
    "name": "ipython",
    "version": 3
   },
   "file_extension": ".py",
   "mimetype": "text/x-python",
   "name": "python",
   "nbconvert_exporter": "python",
   "pygments_lexer": "ipython3",
   "version": "3.9.4"
  },
  "orig_nbformat": 4,
  "vscode": {
   "interpreter": {
    "hash": "c650d7ea476703797fef1616c599c5fe06f1b1bacf69f4e17f09dcc79ec3c159"
   }
  }
 },
 "nbformat": 4,
 "nbformat_minor": 2
}
