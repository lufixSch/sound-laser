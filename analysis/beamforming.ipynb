{
 "cells": [
  {
   "cell_type": "code",
   "execution_count": 1,
   "metadata": {},
   "outputs": [],
   "source": [
    "import numpy as np\n",
    "from numpy import fft\n",
    "\n",
    "import ipywidgets as widgets\n",
    "from ipywidgets import interact\n",
    "\n",
    "import plotly.express as px\n",
    "import plotly.graph_objects as go\n",
    "\n",
    "import matplotlib.pyplot as plt\n",
    "\n",
    "from IPython.display import display"
   ]
  },
  {
   "cell_type": "markdown",
   "metadata": {},
   "source": [
    "### Parameters"
   ]
  },
  {
   "cell_type": "code",
   "execution_count": 2,
   "metadata": {},
   "outputs": [],
   "source": [
    "cs = 343\n",
    "\n",
    "f = 40e3  # carrier frequency\n",
    "T = 1/f\n",
    "\n",
    "wavelength = cs/f"
   ]
  },
  {
   "cell_type": "markdown",
   "metadata": {},
   "source": [
    "# Linear phased array beamforming"
   ]
  },
  {
   "cell_type": "code",
   "execution_count": 3,
   "metadata": {},
   "outputs": [],
   "source": [
    "def transducerPhase(n, d, phi):\n",
    "  wavelength = cs/f\n",
    "\n",
    "  return np.cos(n * 2 * np.pi / wavelength * d * np.sin(phi))\n",
    "\n",
    "def transducer(n, d, phi, f, t):\n",
    "  w = 2 * np.pi * f\n",
    "  wavelength = cs/f\n",
    "  \n",
    "  return np.cos(w * t + n * 2 * np.pi / wavelength * d * np.sin(phi))\n"
   ]
  },
  {
   "cell_type": "code",
   "execution_count": 4,
   "metadata": {},
   "outputs": [],
   "source": [
    "def angularEnergy(V):\n",
    "  vE = np.abs(V)\n",
    "  E = np.array(np.sum(vE, 1)).flatten()\n",
    "  E_dB = 20 * np.log10(E/max(E))\n",
    "  return E_dB"
   ]
  },
  {
   "cell_type": "markdown",
   "metadata": {},
   "source": [
    "## 2 transducer"
   ]
  },
  {
   "cell_type": "markdown",
   "metadata": {},
   "source": [
    "### Time signals"
   ]
  },
  {
   "cell_type": "code",
   "execution_count": 21,
   "metadata": {},
   "outputs": [
    {
     "data": {
      "application/vnd.jupyter.widget-view+json": {
       "model_id": "ac667e2c8fbc447fadadfdadc19d0381",
       "version_major": 2,
       "version_minor": 0
      },
      "text/plain": [
       "interactive(children=(FloatSlider(value=0.0, continuous_update=False, description='Angle: ', max=3.14159265358…"
      ]
     },
     "metadata": {},
     "output_type": "display_data"
    },
    {
     "data": {
      "application/vnd.jupyter.widget-view+json": {
       "model_id": "4259e7cf36114a7d8bdad53f9b587039",
       "version_major": 2,
       "version_minor": 0
      },
      "text/plain": [
       "FigureWidget({\n",
       "    'data': [{'name': 'n: 0',\n",
       "              'type': 'scatter',\n",
       "              'uid': 'bac91015-4…"
      ]
     },
     "metadata": {},
     "output_type": "display_data"
    }
   ],
   "source": [
    "t = np.arange(-T, T, T/100)\n",
    "\n",
    "phi_slider = widgets.FloatSlider(\n",
    "    value=0,\n",
    "    min=-np.pi,\n",
    "    max=np.pi,\n",
    "    step=0.01,\n",
    "    description=\"Angle: \",\n",
    "    disabled=False,\n",
    "    continuous_update=False,\n",
    "    orientation='horizontal',\n",
    "    readout=True,\n",
    "    readout_format='.2f',\n",
    ")\n",
    "\n",
    "d_slider = widgets.FloatSlider(\n",
    "    value=wavelength/2,\n",
    "    min=0,\n",
    "    max=wavelength,\n",
    "    step=wavelength/100,\n",
    "    description=\"Distance: \",\n",
    "    disabled=False,\n",
    "    continuous_update=False,\n",
    "    orientation='horizontal',\n",
    "    readout=True,\n",
    "    readout_format='.5f',\n",
    ")\n",
    "\n",
    "figT = go.FigureWidget()\n",
    "figT.update_layout(\n",
    "    autosize=False,\n",
    "    width=800,\n",
    "    height=500,\n",
    "    margin=dict(\n",
    "        l=40,\n",
    "        r=30,\n",
    "        b=40,\n",
    "        t=30,\n",
    "        pad=4\n",
    "    ),\n",
    "    xaxis_title=\"t in s\",\n",
    "    yaxis_title=\"Magnitude\",\n",
    "    yaxis=dict(range=[-2, 2])\n",
    ")\n",
    "figT.add_scatter(x=t, name=\"n: 0\")\n",
    "figT.add_scatter(x=t, name=\"n: 1\")\n",
    "figT.add_scatter(x=t, name=\"Sum\")\n",
    "\n",
    "@interact(phi=phi_slider, d=d_slider)\n",
    "def plot2DBeamSignals(phi, d):\n",
    "    E1 = transducer(0, d, phi, f, t)\n",
    "    E2 = transducer(1, d, phi, f, t)\n",
    "    E = E1 + E2\n",
    "    \n",
    "    figT.data[0].y = E1\n",
    "    figT.data[1].y = E2\n",
    "    figT.data[2].y = E\n",
    "  \n",
    "figT"
   ]
  },
  {
   "cell_type": "markdown",
   "metadata": {},
   "source": [
    "### Polar signal"
   ]
  },
  {
   "cell_type": "code",
   "execution_count": 22,
   "metadata": {},
   "outputs": [
    {
     "data": {
      "application/vnd.jupyter.widget-view+json": {
       "model_id": "220fb1aff6f14aa1a50f4a34da08a38f",
       "version_major": 2,
       "version_minor": 0
      },
      "text/plain": [
       "interactive(children=(FloatSlider(value=0.0042875, continuous_update=False, description='Distance: ', max=0.00…"
      ]
     },
     "metadata": {},
     "output_type": "display_data"
    },
    {
     "data": {
      "application/vnd.jupyter.widget-view+json": {
       "model_id": "cc502dd02f1b48ba9bcf8eb8820ce3c5",
       "version_major": 2,
       "version_minor": 0
      },
      "text/plain": [
       "FigureWidget({\n",
       "    'data': [{'r': array([ 0.        , -0.00528813, -0.02115374, ..., -0.0476005 , -0.02115374,…"
      ]
     },
     "metadata": {},
     "output_type": "display_data"
    }
   ],
   "source": [
    "N = 2\n",
    "#vphi = np.transpose(np.matrix(np.arange(-np.pi, np.pi, np.pi/200)))\n",
    "vphi = np.arange(-np.pi, np.pi, np.pi/200)\n",
    "\n",
    "d_slider = widgets.FloatSlider(\n",
    "    value=wavelength/2,\n",
    "    min=0,\n",
    "    max=wavelength,\n",
    "    step=wavelength/100,\n",
    "    description=\"Distance: \",\n",
    "    disabled=False,\n",
    "    continuous_update=False,\n",
    "    orientation='horizontal',\n",
    "    readout=True,\n",
    "    readout_format='.5f',\n",
    ")\n",
    "\n",
    "figP = go.FigureWidget()\n",
    "figP.update_layout(\n",
    "    autosize=False,\n",
    "    width=800,\n",
    "    height=500,\n",
    "    margin=dict(\n",
    "        l=40,\n",
    "        r=30,\n",
    "        b=40,\n",
    "        t=30,\n",
    "        pad=4\n",
    "    ),\n",
    "    polar = dict(radialaxis_range=[-30, 0])\n",
    ")\n",
    "figP.add_scatterpolar(theta=vphi)\n",
    "polarP = figP.data[0]\n",
    "\n",
    "@interact(d=d_slider)\n",
    "def plot2DBeamPolar(d):\n",
    "  E = np.zeros(len(vphi))\n",
    "  for n in range(N):\n",
    "    E = E + transducerPhase(n, d, vphi)\n",
    "\n",
    "  E_dB = 20 * np.log10(1/N * np.abs(E))\n",
    "    \n",
    "  polarP.r = E_dB\n",
    "\n",
    "figP\n"
   ]
  },
  {
   "cell_type": "markdown",
   "metadata": {},
   "source": [
    "### Polar with FFT"
   ]
  },
  {
   "cell_type": "code",
   "execution_count": 24,
   "metadata": {},
   "outputs": [
    {
     "data": {
      "application/vnd.jupyter.widget-view+json": {
       "model_id": "cab8731619674e629c5616eef9f16c1e",
       "version_major": 2,
       "version_minor": 0
      },
      "text/plain": [
       "interactive(children=(FloatSlider(value=0.0042875, continuous_update=False, description='Distance: ', max=0.01…"
      ]
     },
     "metadata": {},
     "output_type": "display_data"
    },
    {
     "data": {
      "application/vnd.jupyter.widget-view+json": {
       "model_id": "3b86a8f361864beb8d213b4b965000c9",
       "version_major": 2,
       "version_minor": 0
      },
      "text/plain": [
       "FigureWidget({\n",
       "    'data': [{'r': array([-8.18689032e-04, -1.92865493e-15, -1.36217649e-03, ..., -6.48821601e-…"
      ]
     },
     "metadata": {},
     "output_type": "display_data"
    }
   ],
   "source": [
    "N = 2\n",
    "#vphi = np.transpose(np.matrix(np.arange(-np.pi, np.pi, np.pi/200)))\n",
    "vphi = np.arange(-np.pi, np.pi, np.pi/200)\n",
    "t = np.arange(0, T, T/100)\n",
    "\n",
    "t_grid, vphi_grid = np.meshgrid(t, vphi)\n",
    "\n",
    "d_slider = widgets.FloatSlider(\n",
    "    value=wavelength/2,\n",
    "    min=0,\n",
    "    max=wavelength*2,\n",
    "    step=wavelength/100,\n",
    "    description=\"Distance: \",\n",
    "    disabled=False,\n",
    "    continuous_update=False,\n",
    "    orientation='horizontal',\n",
    "    readout=True,\n",
    "    readout_format='.5f',\n",
    ")\n",
    "\n",
    "figP = go.FigureWidget()\n",
    "figP.update_layout(\n",
    "    autosize=False,\n",
    "    width=800,\n",
    "    height=500,\n",
    "    margin=dict(\n",
    "        l=40,\n",
    "        r=30,\n",
    "        b=40,\n",
    "        t=30,\n",
    "        pad=4\n",
    "    ),\n",
    "    polar=dict(radialaxis_range=[-30, 0])\n",
    ")\n",
    "figP.add_scatterpolar(theta=vphi)\n",
    "polarP = figP.data[0]\n",
    "\n",
    "\n",
    "@interact(d=d_slider)\n",
    "def plot2DBeamPolar(d):\n",
    "  s = np.zeros([len(vphi), len(t)])\n",
    "\n",
    "  for n in range(N):\n",
    "    s = s + transducer(n, d, vphi_grid, f, t_grid)\n",
    "\n",
    "  S = np.abs(fft.fft(s))\n",
    "  E = np.sum(S, 1)\n",
    "  E_dB = 20 * np.log10(E/np.max(E))\n",
    "\n",
    "  polarP.r = E_dB\n",
    "\n",
    "figP"
   ]
  },
  {
   "cell_type": "markdown",
   "metadata": {},
   "source": [
    "## N transducer\n",
    "### Time signal"
   ]
  },
  {
   "cell_type": "code",
   "execution_count": 8,
   "metadata": {},
   "outputs": [
    {
     "data": {
      "application/vnd.jupyter.widget-view+json": {
       "model_id": "473a0c439f99410c978cf16df96d3d9e",
       "version_major": 2,
       "version_minor": 0
      },
      "text/plain": [
       "interactive(children=(FloatSlider(value=0.0, continuous_update=False, description='Angle: ', max=3.14159265358…"
      ]
     },
     "metadata": {},
     "output_type": "display_data"
    },
    {
     "data": {
      "application/vnd.jupyter.widget-view+json": {
       "model_id": "b9f00566bb374082a6aa15434047ae60",
       "version_major": 2,
       "version_minor": 0
      },
      "text/plain": [
       "FigureWidget({\n",
       "    'data': [{'name': 'n: 0',\n",
       "              'type': 'scatter',\n",
       "              'uid': '0165a5d4-0…"
      ]
     },
     "metadata": {},
     "output_type": "display_data"
    }
   ],
   "source": [
    "t = np.arange(-T, T, T/100)\n",
    "\n",
    "phi_slider = widgets.FloatSlider(\n",
    "    value=0,\n",
    "    min=-np.pi,\n",
    "    max=np.pi,\n",
    "    step=0.01,\n",
    "    description=\"Angle: \",\n",
    "    disabled=False,\n",
    "    continuous_update=False,\n",
    "    orientation='horizontal',\n",
    "    readout=True,\n",
    "    readout_format='.2f',\n",
    ")\n",
    "\n",
    "d_slider = widgets.FloatSlider(\n",
    "    value=wavelength/2,\n",
    "    min=0,\n",
    "    max=wavelength,\n",
    "    step=wavelength/100,\n",
    "    description=\"Distance: \",\n",
    "    disabled=False,\n",
    "    continuous_update=False,\n",
    "    orientation='horizontal',\n",
    "    readout=True,\n",
    "    readout_format='.5f',\n",
    ")\n",
    "\n",
    "N_slider = widgets.IntSlider(\n",
    "    value=2,\n",
    "    min=1,\n",
    "    max=20,\n",
    "    step=1,\n",
    "    description=\"Transducers: \",\n",
    "    disabled=False,\n",
    "    continuous_update=False,\n",
    "    orientation='horizontal',\n",
    "    readout=True,\n",
    ")\n",
    "\n",
    "figT2D = go.FigureWidget()\n",
    "figT2D.update_layout(\n",
    "    autosize=False,\n",
    "    width=800,\n",
    "    height=500,\n",
    "    margin=dict(\n",
    "        l=40,\n",
    "        r=30,\n",
    "        b=40,\n",
    "        t=30,\n",
    "        pad=4\n",
    "    ),\n",
    "    xaxis_title=\"t in s\",\n",
    "    yaxis_title=\"Magnitude\"\n",
    ")\n",
    "\n",
    "@interact(phi=phi_slider, d=d_slider, N=N_slider)\n",
    "def plot2DBeamSignals(phi, d, N):\n",
    "    En = np.zeros([N, len(t)])\n",
    "    \n",
    "    figT2D.data = []\n",
    "    figT2D.update_layout(yaxis=dict(range=[-N, N]))\n",
    "    \n",
    "    for n in range(N):\n",
    "        En[n] = transducer(n, d, phi, f, t)\n",
    "        figT2D.add_scatter(x=t, y=En[n], name=f\"n: {n}\")\n",
    "\n",
    "    E = np.sum(En, 0)\n",
    "    \n",
    "    figT2D.add_scatter(x=t, y=E, name=\"Sum\")\n",
    "\n",
    "\n",
    "figT2D\n"
   ]
  },
  {
   "cell_type": "markdown",
   "metadata": {},
   "source": [
    "### Polar signal"
   ]
  },
  {
   "cell_type": "code",
   "execution_count": 9,
   "metadata": {},
   "outputs": [
    {
     "data": {
      "application/vnd.jupyter.widget-view+json": {
       "model_id": "f3b87a8d51d64619be75481c84558356",
       "version_major": 2,
       "version_minor": 0
      },
      "text/plain": [
       "interactive(children=(FloatSlider(value=0.0042875, continuous_update=False, description='Distance: ', max=0.01…"
      ]
     },
     "metadata": {},
     "output_type": "display_data"
    },
    {
     "data": {
      "application/vnd.jupyter.widget-view+json": {
       "model_id": "3527f1fd5c534e529d0872d216afb769",
       "version_major": 2,
       "version_minor": 0
      },
      "text/plain": [
       "FigureWidget({\n",
       "    'data': [{'r': array([ 0.        , -0.00021152, -0.00084609, ..., -0.0019037 , -0.00084609,…"
      ]
     },
     "metadata": {},
     "output_type": "display_data"
    }
   ],
   "source": [
    "#vphi = np.transpose(np.matrix(np.arange(-np.pi, np.pi, np.pi/1000)))\n",
    "vphi = np.arange(-np.pi, np.pi, np.pi/1000)\n",
    "\n",
    "d_slider = widgets.FloatSlider(\n",
    "    value=wavelength/2,\n",
    "    min=0,\n",
    "    max=2 * wavelength,\n",
    "    step=wavelength/100,\n",
    "    description=\"Distance: \",\n",
    "    disabled=False,\n",
    "    continuous_update=False,\n",
    "    orientation='horizontal',\n",
    "    readout=True,\n",
    "    readout_format='.5f',\n",
    ")\n",
    "\n",
    "N_slider = widgets.IntSlider(\n",
    "    value=2,\n",
    "    min=1,\n",
    "    max=20,\n",
    "    step=1,\n",
    "    description=\"Transducers: \",\n",
    "    disabled=False,\n",
    "    continuous_update=False,\n",
    "    orientation='horizontal',\n",
    "    readout=True,\n",
    ")\n",
    "\n",
    "figP2D = go.FigureWidget()\n",
    "figP2D.update_layout(\n",
    "    autosize=False,\n",
    "    width=800,\n",
    "    height=500,\n",
    "    margin=dict(\n",
    "        l=40,\n",
    "        r=30,\n",
    "        b=40,\n",
    "        t=30,\n",
    "        pad=4\n",
    "    ),\n",
    "    polar=dict(radialaxis_range=[-30, 0])\n",
    ")\n",
    "figP2D.add_scatterpolar(theta=vphi)\n",
    "polarP2D = figP2D.data[0]\n",
    "\n",
    "@interact(d=d_slider, N=N_slider)\n",
    "def plot2DBeamPolar(d, N):\n",
    "  E = np.zeros(len(vphi))\n",
    "  for n in range(N):\n",
    "    E = E + transducerPhase(n, d, vphi)\n",
    "\n",
    "  E_dB = 20 * np.log10(1/N * np.abs(E)) #20 * np.log10(np.abs(E)/np.max(np.abs(E)))\n",
    "\n",
    "  polarP2D.r = E_dB\n",
    "\n",
    "figP2D"
   ]
  },
  {
   "cell_type": "markdown",
   "metadata": {},
   "source": [
    "### Polar with FFT"
   ]
  },
  {
   "cell_type": "code",
   "execution_count": 25,
   "metadata": {},
   "outputs": [
    {
     "data": {
      "application/vnd.jupyter.widget-view+json": {
       "model_id": "24685bb28dda4b838522bf7bd45faf9e",
       "version_major": 2,
       "version_minor": 0
      },
      "text/plain": [
       "interactive(children=(FloatSlider(value=0.0042875, continuous_update=False, description='Distance: ', max=0.01…"
      ]
     },
     "metadata": {},
     "output_type": "display_data"
    },
    {
     "data": {
      "application/vnd.jupyter.widget-view+json": {
       "model_id": "10fab7043c854d4d832eb9b2572e1887",
       "version_major": 2,
       "version_minor": 0
      },
      "text/plain": [
       "FigureWidget({\n",
       "    'data': [{'r': array([-0.00081869, -0.00068578, -0.00046385, ..., -0.00024787, -0.00046385,…"
      ]
     },
     "metadata": {},
     "output_type": "display_data"
    }
   ],
   "source": [
    "#vphi = np.transpose(np.matrix(np.arange(-np.pi, np.pi, np.pi/1000)))\n",
    "vphi = np.arange(-np.pi, np.pi, np.pi/1000)\n",
    "t = np.arange(0, T, T/100)\n",
    "\n",
    "t_grid , vphi_grid = np.meshgrid(t, vphi)\n",
    "\n",
    "d_slider = widgets.FloatSlider(\n",
    "    value=wavelength/2,\n",
    "    min=0,\n",
    "    max=2 * wavelength,\n",
    "    step=wavelength/100,\n",
    "    description=\"Distance: \",\n",
    "    disabled=False,\n",
    "    continuous_update=False,\n",
    "    orientation='horizontal',\n",
    "    readout=True,\n",
    "    readout_format='.5f',\n",
    ")\n",
    "\n",
    "N_slider = widgets.IntSlider(\n",
    "    value=2,\n",
    "    min=1,\n",
    "    max=20,\n",
    "    step=1,\n",
    "    description=\"Transducers: \",\n",
    "    disabled=False,\n",
    "    continuous_update=False,\n",
    "    orientation='horizontal',\n",
    "    readout=True,\n",
    ")\n",
    "\n",
    "figP2D = go.FigureWidget()\n",
    "figP2D.update_layout(\n",
    "    autosize=False,\n",
    "    width=800,\n",
    "    height=500,\n",
    "    margin=dict(\n",
    "        l=40,\n",
    "        r=30,\n",
    "        b=40,\n",
    "        t=30,\n",
    "        pad=4\n",
    "    ),\n",
    "    polar=dict(radialaxis_range=[-30, 0])\n",
    ")\n",
    "figP2D.add_scatterpolar(theta=vphi)\n",
    "polarP2D = figP2D.data[0]\n",
    "\n",
    "@interact(d=d_slider, N=N_slider)\n",
    "def plot2DBeamPolar(d, N):\n",
    "  s = np.zeros([len(vphi), len(t)])\n",
    "\n",
    "  for n in range(N):\n",
    "    s = s + transducer(n, d, vphi_grid, f, t_grid)\n",
    "\n",
    "  S = np.abs(fft.fft(s))\n",
    "  E = np.sum(S, 1)\n",
    "  E_dB = 20 * np.log10(E/np.max(E))\n",
    "\n",
    "  polarP2D.r = E_dB\n",
    "\n",
    "figP2D"
   ]
  },
  {
   "cell_type": "markdown",
   "metadata": {},
   "source": [
    "# 3D Array"
   ]
  },
  {
   "cell_type": "code",
   "execution_count": 11,
   "metadata": {},
   "outputs": [],
   "source": [
    "def transducerPhase3D(n, m, d, phi, alpha):\n",
    "  wavelength = cs/f\n",
    "\n",
    "  return np.cos(2 * np.pi / wavelength * d * np.sqrt(np.power(n * np.sin(phi), 2) + np.power(m * np.sin(alpha), 2)))\n",
    "\n",
    "def transducer3D(n, m, d, phi, alpha, f, t):\n",
    "  w = 2 * np.pi * f\n",
    "  wavelength = cs/f\n",
    "\n",
    "  phase = 2 * np.pi / wavelength * d * np.sqrt(np.power(n * np.sin(phi), 2) + np.power(m * np.sin(alpha), 2))\n",
    "\n",
    "  return np.cos(w * t + phase)"
   ]
  },
  {
   "cell_type": "code",
   "execution_count": 12,
   "metadata": {},
   "outputs": [],
   "source": [
    "def angularEnergy3D(V):\n",
    "  vE = np.power(np.abs(V), 2)\n",
    "  E = np.array(np.sum(vE, 2))\n",
    "\n",
    "  return E/np.max(E)"
   ]
  },
  {
   "cell_type": "markdown",
   "metadata": {},
   "source": [
    "## N Transducer"
   ]
  },
  {
   "cell_type": "markdown",
   "metadata": {},
   "source": [
    "### Time Signal"
   ]
  },
  {
   "cell_type": "code",
   "execution_count": 13,
   "metadata": {},
   "outputs": [
    {
     "data": {
      "application/vnd.jupyter.widget-view+json": {
       "model_id": "8c339d2f9b11476e83e8cb347c279dd1",
       "version_major": 2,
       "version_minor": 0
      },
      "text/plain": [
       "interactive(children=(FloatSlider(value=0.0, continuous_update=False, description='Angle N: ', max=3.141592653…"
      ]
     },
     "metadata": {},
     "output_type": "display_data"
    },
    {
     "data": {
      "application/vnd.jupyter.widget-view+json": {
       "model_id": "5f9929ea4d1a49b4ad0bc89fcf70c2e2",
       "version_major": 2,
       "version_minor": 0
      },
      "text/plain": [
       "FigureWidget({\n",
       "    'data': [{'name': 'n: 0, m: 0',\n",
       "              'type': 'scatter',\n",
       "              'uid': '0f44…"
      ]
     },
     "metadata": {},
     "output_type": "display_data"
    }
   ],
   "source": [
    "t = np.arange(-T, T, T/100)\n",
    "\n",
    "phi_slider = widgets.FloatSlider(\n",
    "    value=0,\n",
    "    min=-np.pi,\n",
    "    max=np.pi,\n",
    "    step=0.01,\n",
    "    description=\"Angle N: \",\n",
    "    disabled=False,\n",
    "    continuous_update=False,\n",
    "    orientation='horizontal',\n",
    "    readout=True,\n",
    "    readout_format='.2f',\n",
    ")\n",
    "\n",
    "alpha_slider = widgets.FloatSlider(\n",
    "    value=0,\n",
    "    min=-np.pi,\n",
    "    max=np.pi,\n",
    "    step=0.01,\n",
    "    description=\"Angle M: \",\n",
    "    disabled=False,\n",
    "    continuous_update=False,\n",
    "    orientation='horizontal',\n",
    "    readout=True,\n",
    "    readout_format='.2f',\n",
    ")\n",
    "\n",
    "d_slider = widgets.FloatSlider(\n",
    "    value=wavelength/2,\n",
    "    min=0,\n",
    "    max=wavelength,\n",
    "    step=wavelength/100,\n",
    "    description=\"Distance: \",\n",
    "    disabled=False,\n",
    "    continuous_update=False,\n",
    "    orientation='horizontal',\n",
    "    readout=True,\n",
    "    readout_format='.5f',\n",
    ")\n",
    "\n",
    "N_slider = widgets.IntSlider(\n",
    "    value=2,\n",
    "    min=1,\n",
    "    max=20,\n",
    "    step=1,\n",
    "    description=\"N: \",\n",
    "    disabled=False,\n",
    "    continuous_update=False,\n",
    "    orientation='horizontal',\n",
    "    readout=True,\n",
    ")\n",
    "\n",
    "M_slider = widgets.IntSlider(\n",
    "    value=2,\n",
    "    min=1,\n",
    "    max=20,\n",
    "    step=1,\n",
    "    description=\"M: \",\n",
    "    disabled=False,\n",
    "    continuous_update=False,\n",
    "    orientation='horizontal',\n",
    "    readout=True,\n",
    ")\n",
    "\n",
    "figT3D = go.FigureWidget()\n",
    "figT3D.update_layout(\n",
    "    autosize=False,\n",
    "    width=800,\n",
    "    height=500,\n",
    "    margin=dict(\n",
    "        l=40,\n",
    "        r=30,\n",
    "        b=40,\n",
    "        t=30,\n",
    "        pad=4\n",
    "    ),\n",
    "    xaxis_title=\"t in s\",\n",
    "    yaxis_title=\"Magnitude\"\n",
    ")\n",
    "\n",
    "\n",
    "@interact(d=d_slider, phi=phi_slider, N=N_slider, alpha=alpha_slider, M=M_slider)\n",
    "def plot3DBeamSignals(phi, alpha, d, N, M):\n",
    "    En = np.zeros([N, M, len(t)])\n",
    "\n",
    "    # plt.figure(figsize=[10, 4])\n",
    "    figT3D.data = []\n",
    "    figT3D.update_layout(yaxis=dict(range=[-N*M, N*M]))\n",
    "    for n in range(N):\n",
    "        for m in range(M):\n",
    "            En[n, m] = transducer3D(n, m, d, phi, alpha, f, t)\n",
    "            # plt.plot(t, En[n, m])\n",
    "            figT3D.add_scatter(x=t, y=En[n,m], name=f\"n: {n}, m: {m}\", )\n",
    "\n",
    "    E = np.sum(En, (0, 1))\n",
    "\n",
    "    figT3D.add_scatter(x=t, y=E, name=\"Sum\")\n",
    "\n",
    "figT3D\n"
   ]
  },
  {
   "cell_type": "markdown",
   "metadata": {},
   "source": [
    "### Polar Signal"
   ]
  },
  {
   "cell_type": "code",
   "execution_count": 14,
   "metadata": {},
   "outputs": [
    {
     "data": {
      "application/vnd.jupyter.widget-view+json": {
       "model_id": "bec2ce2b38c444eab3420e397672ac15",
       "version_major": 2,
       "version_minor": 0
      },
      "text/plain": [
       "interactive(children=(FloatSlider(value=0.0042875, continuous_update=False, description='Distance: ', max=0.01…"
      ]
     },
     "metadata": {},
     "output_type": "display_data"
    },
    {
     "data": {
      "application/vnd.jupyter.widget-view+json": {
       "model_id": "d3954e11ca4541ea9527543162578e67",
       "version_major": 2,
       "version_minor": 0
      },
      "text/plain": [
       "FigureWidget({\n",
       "    'data': [{'type': 'surface',\n",
       "              'uid': 'c4e1ca4b-602e-40b8-ab11-81e352e758b3',\n",
       " …"
      ]
     },
     "metadata": {},
     "output_type": "display_data"
    }
   ],
   "source": [
    "vphi = np.transpose(np.arange(-np.pi, np.pi, np.pi/200))\n",
    "valpha = np.arange(-np.pi, np.pi, np.pi/200)\n",
    "\n",
    "d_slider = widgets.FloatSlider(\n",
    "    value=wavelength/2,\n",
    "    min=0,\n",
    "    max=2 * wavelength,\n",
    "    step=wavelength/100,\n",
    "    description=\"Distance: \",\n",
    "    disabled=False,\n",
    "    continuous_update=False,\n",
    "    orientation='horizontal',\n",
    "    readout=True,\n",
    "    readout_format='.5f',\n",
    ")\n",
    "\n",
    "N_slider = widgets.IntSlider(\n",
    "    value=2,\n",
    "    min=1,\n",
    "    max=20,\n",
    "    step=1,\n",
    "    description=\"N: \",\n",
    "    disabled=False,\n",
    "    continuous_update=False,\n",
    "    orientation='horizontal',\n",
    "    readout=True,\n",
    ")\n",
    "\n",
    "M_slider = widgets.IntSlider(\n",
    "    value=2,\n",
    "    min=1,\n",
    "    max=20,\n",
    "    step=1,\n",
    "    description=\"M: \",\n",
    "    disabled=False,\n",
    "    continuous_update=False,\n",
    "    orientation='horizontal',\n",
    "    readout=True,\n",
    ")\n",
    "\n",
    "figP3D = go.FigureWidget()\n",
    "figP3D.add_surface()\n",
    "figP3D.update_layout(\n",
    "    autosize=False, \n",
    "    width=800, \n",
    "    height=500, \n",
    "    margin=dict(\n",
    "        l=30,\n",
    "        r=30,\n",
    "        b=30,\n",
    "        t=30,\n",
    "        pad=4\n",
    "    ),\n",
    "    scene=dict(\n",
    "        xaxis=dict(range=[-1, 1]),\n",
    "        yaxis=dict(range=[-1, 1]),\n",
    "        zaxis=dict(range=[-1, 1]),\n",
    "    ),\n",
    ")\n",
    "surP3D = figP3D.data[0]\n",
    "\n",
    "@interact(d=d_slider, N=N_slider, M=M_slider)\n",
    "def plot3DBeamPolar(d, N, M):\n",
    "    phi_grid, alpha_grid = np.meshgrid(vphi, valpha)\n",
    "\n",
    "    E = np.zeros([len(vphi), len(valpha)])\n",
    "    for n in range(N):\n",
    "        for m in range(M):\n",
    "            E = E + transducerPhase3D(n, m, d, phi_grid, alpha_grid)\n",
    "\n",
    "    E_dB = 20 * np.log10(1/(N*M) * np.abs(E))\n",
    "\n",
    "    X = np.cos(alpha_grid) * np.cos(phi_grid) * 1/(N*M) * E\n",
    "    Y = np.cos(alpha_grid) * np.sin(phi_grid) * 1/(N*M) * E\n",
    "    Z = np.sin(alpha_grid) * 1/(N*M) * E\n",
    "\n",
    "    with figP3D.batch_update():\n",
    "        surP3D.x = X\n",
    "        surP3D.y = Y\n",
    "        surP3D.z = Z\n",
    "\n",
    "figP3D"
   ]
  },
  {
   "cell_type": "markdown",
   "metadata": {},
   "source": [
    "### Polar with FFT"
   ]
  },
  {
   "cell_type": "code",
   "execution_count": 26,
   "metadata": {},
   "outputs": [
    {
     "data": {
      "application/vnd.jupyter.widget-view+json": {
       "model_id": "56b248685f9a41bfbeb7bb4a4488aed5",
       "version_major": 2,
       "version_minor": 0
      },
      "text/plain": [
       "interactive(children=(FloatSlider(value=0.0042875, continuous_update=False, description='Distance: ', max=0.01…"
      ]
     },
     "metadata": {},
     "output_type": "display_data"
    },
    {
     "data": {
      "application/vnd.jupyter.widget-view+json": {
       "model_id": "e2d09500110d4ec3b68f5c0a8b3cf565",
       "version_major": 2,
       "version_minor": 0
      },
      "text/plain": [
       "FigureWidget({\n",
       "    'data': [{'type': 'surface',\n",
       "              'uid': 'c9ae7a8d-32df-4fca-ab0b-a9b112717275',\n",
       " …"
      ]
     },
     "metadata": {},
     "output_type": "display_data"
    }
   ],
   "source": [
    "vphi = np.transpose(np.arange(-np.pi, np.pi, np.pi/100))\n",
    "valpha = np.arange(-np.pi, np.pi, np.pi/100)\n",
    "t = np.arange(0, T, T/10)\n",
    "\n",
    "valpha_grid, vphi_grid, t_grid = np.meshgrid(valpha, vphi, t)\n",
    "alpha_grid, phi_grid = np.meshgrid(valpha, vphi)\n",
    "\n",
    "d_slider = widgets.FloatSlider(\n",
    "    value=wavelength/2,\n",
    "    min=0,\n",
    "    max=2 * wavelength,\n",
    "    step=wavelength/100,\n",
    "    description=\"Distance: \",\n",
    "    disabled=False,\n",
    "    continuous_update=False,\n",
    "    orientation='horizontal',\n",
    "    readout=True,\n",
    "    readout_format='.5f',\n",
    ")\n",
    "\n",
    "N_slider = widgets.IntSlider(\n",
    "    value=2,\n",
    "    min=1,\n",
    "    max=20,\n",
    "    step=1,\n",
    "    description=\"N: \",\n",
    "    disabled=False,\n",
    "    continuous_update=False,\n",
    "    orientation='horizontal',\n",
    "    readout=True,\n",
    ")\n",
    "\n",
    "M_slider = widgets.IntSlider(\n",
    "    value=2,\n",
    "    min=1,\n",
    "    max=20,\n",
    "    step=1,\n",
    "    description=\"M: \",\n",
    "    disabled=False,\n",
    "    continuous_update=False,\n",
    "    orientation='horizontal',\n",
    "    readout=True,\n",
    ")\n",
    "\n",
    "figP3D = go.FigureWidget()\n",
    "figP3D.add_surface()\n",
    "figP3D.update_layout(\n",
    "    autosize=False, \n",
    "    width=800, \n",
    "    height=500, \n",
    "    margin=dict(\n",
    "        l=30,\n",
    "        r=30,\n",
    "        b=30,\n",
    "        t=30,\n",
    "        pad=4\n",
    "    ),\n",
    "    scene=dict(\n",
    "        xaxis=dict(range=[-1, 1]),\n",
    "        yaxis=dict(range=[-1, 1]),\n",
    "        zaxis=dict(range=[-1, 1]),\n",
    "    ),\n",
    ")\n",
    "surP3D = figP3D.data[0]\n",
    "\n",
    "@interact(d=d_slider, N=N_slider, M=M_slider)\n",
    "def plot3DBeamPolar(d, N, M):\n",
    "    s = np.zeros([len(valpha), len(vphi), len(t)])\n",
    "    for n in range(N):\n",
    "        for m in range(M):\n",
    "            s = s + transducer3D(n, m, d, vphi_grid, valpha_grid, f, t_grid)\n",
    "\n",
    "    S = np.abs(fft.fft(s))\n",
    "    E = np.sum(S, 2)\n",
    "\n",
    "    X = np.cos(alpha_grid) * np.cos(phi_grid) * 1/np.max(E) * E\n",
    "    Y = np.cos(alpha_grid) * np.sin(phi_grid) * 1/np.max(E) * E\n",
    "    Z = np.sin(alpha_grid) * 1/np.max(E) * E\n",
    "\n",
    "    with figP3D.batch_update():\n",
    "        surP3D.x = X\n",
    "        surP3D.y = Y\n",
    "        surP3D.z = Z\n",
    "\n",
    "figP3D"
   ]
  },
  {
   "cell_type": "code",
   "execution_count": 16,
   "metadata": {},
   "outputs": [],
   "source": [
    "vphi = np.transpose(np.arange(-np.pi, np.pi, np.pi/200))\n",
    "valpha = np.arange(-np.pi, np.pi, np.pi/200)\n",
    "t = np.arange(0, T, T/100)\n",
    "\n",
    "N = 2\n",
    "M = 2\n",
    "\n",
    "valpha_grid, vphi_grid, t_grid = np.meshgrid(valpha, vphi, t)\n",
    "\n",
    "s = np.zeros([len(valpha), len(vphi), len(t)])\n",
    "for n in range(N):\n",
    "    for m in range(M):\n",
    "        s = s + transducer3D(n, m, wavelength/2, vphi_grid, valpha_grid, f, t_grid)\n",
    "\n",
    "S = np.abs(fft.fft(s))\n",
    "E = np.sum(S, 2)\n",
    "E_dB = 20 * np.log10(E/np.max(E))\n"
   ]
  },
  {
   "cell_type": "markdown",
   "metadata": {},
   "source": [
    "# Modulated Signal"
   ]
  },
  {
   "cell_type": "code",
   "execution_count": 17,
   "metadata": {},
   "outputs": [],
   "source": [
    "def transducerMod(n, d, phi, f, fs, t, m, U0):\n",
    "  w = 2 * np.pi * f\n",
    "  ws = 2 * np.pi * fs\n",
    "  wavelength = cs/f\n",
    "\n",
    "  s = np.cos(ws * t)\n",
    "  p = n * 2 * np.pi / wavelength * d * np.sin(phi)\n",
    "  c = U0 * np.cos(w * (1 + m * s) * t + p)\n",
    "\n",
    "  return c"
   ]
  },
  {
   "cell_type": "code",
   "execution_count": 18,
   "metadata": {},
   "outputs": [],
   "source": [
    "fs = 1e3\n",
    "Ts = 1/fs\n",
    "\n",
    "m = 0.2"
   ]
  },
  {
   "cell_type": "markdown",
   "metadata": {},
   "source": [
    "## Time"
   ]
  },
  {
   "cell_type": "code",
   "execution_count": 27,
   "metadata": {},
   "outputs": [
    {
     "data": {
      "application/vnd.jupyter.widget-view+json": {
       "model_id": "32fc6fbd8ee14cd7ba3f896e741e4b01",
       "version_major": 2,
       "version_minor": 0
      },
      "text/plain": [
       "interactive(children=(FloatSlider(value=0.0, continuous_update=False, description='Angle: ', max=3.14159265358…"
      ]
     },
     "metadata": {},
     "output_type": "display_data"
    },
    {
     "data": {
      "application/vnd.jupyter.widget-view+json": {
       "model_id": "b8b53bd10029432c88f06cc014ae3e24",
       "version_major": 2,
       "version_minor": 0
      },
      "text/plain": [
       "FigureWidget({\n",
       "    'data': [{'name': 'n: 0',\n",
       "              'type': 'scatter',\n",
       "              'uid': '73e073e5-b…"
      ]
     },
     "metadata": {},
     "output_type": "display_data"
    }
   ],
   "source": [
    "t = np.arange(-Ts, Ts, Ts/1000)\n",
    "\n",
    "phi_slider = widgets.FloatSlider(\n",
    "    value=0,\n",
    "    min=-np.pi,\n",
    "    max=np.pi,\n",
    "    step=0.01,\n",
    "    description=\"Angle: \",\n",
    "    disabled=False,\n",
    "    continuous_update=False,\n",
    "    orientation='horizontal',\n",
    "    readout=True,\n",
    "    readout_format='.2f',\n",
    ")\n",
    "\n",
    "d_slider = widgets.FloatSlider(\n",
    "    value=wavelength/2,\n",
    "    min=0,\n",
    "    max=wavelength,\n",
    "    step=wavelength/100,\n",
    "    description=\"Distance: \",\n",
    "    disabled=False,\n",
    "    continuous_update=False,\n",
    "    orientation='horizontal',\n",
    "    readout=True,\n",
    "    readout_format='.5f',\n",
    ")\n",
    "\n",
    "N_slider = widgets.IntSlider(\n",
    "    value=2,\n",
    "    min=1,\n",
    "    max=20,\n",
    "    step=1,\n",
    "    description=\"Transducers: \",\n",
    "    disabled=False,\n",
    "    continuous_update=False,\n",
    "    orientation='horizontal',\n",
    "    readout=True,\n",
    ")\n",
    "\n",
    "m_slider = widgets.FloatSlider(\n",
    "    value=m,\n",
    "    min=0,\n",
    "    max=2,\n",
    "    step=0.01,\n",
    "    description=\"Modulation: \",\n",
    "    orientation='horizontal',\n",
    "    readout=True,\n",
    "    readout_format=\".2f\",\n",
    ")\n",
    "\n",
    "figT2DM = go.FigureWidget()\n",
    "figT2DM.update_layout(\n",
    "    autosize=False,\n",
    "    width=800,\n",
    "    height=500,\n",
    "    margin=dict(\n",
    "        l=40,\n",
    "        r=30,\n",
    "        b=40,\n",
    "        t=30,\n",
    "        pad=4\n",
    "    ),\n",
    "    xaxis_title=\"t in s\",\n",
    "    yaxis_title=\"Magnitude\"\n",
    ")\n",
    "\n",
    "\n",
    "@interact(phi=phi_slider, d=d_slider, N=N_slider, m=m_slider)\n",
    "def plot2DModulatedBeamSignals(phi, d, N, m):\n",
    "    En = np.zeros([N, len(t)])\n",
    "\n",
    "    figT2DM.data = []\n",
    "    figT2DM.update_layout(yaxis=dict(range=[-N, N]))\n",
    "\n",
    "    for n in range(N):\n",
    "        En[n] = transducerMod(n, d, phi, f, fs, t, m, 1)\n",
    "        figT2DM.add_scatter(x=t, y=En[n], name=f\"n: {n}\")\n",
    "\n",
    "    E = np.sum(En, 0)\n",
    "\n",
    "    display(f\"Frequency Range: ±{((f * m)/(1e3)):.2f}kHz\")\n",
    "    figT2DM.add_scatter(x=t, y=E, name=\"Sum\")\n",
    "\n",
    "\n",
    "figT2DM\n"
   ]
  },
  {
   "cell_type": "markdown",
   "metadata": {},
   "source": [
    "# Polar"
   ]
  },
  {
   "cell_type": "code",
   "execution_count": 28,
   "metadata": {},
   "outputs": [
    {
     "data": {
      "application/vnd.jupyter.widget-view+json": {
       "model_id": "5a3a5d99618f4ea8bd6a1bed23fe2cdc",
       "version_major": 2,
       "version_minor": 0
      },
      "text/plain": [
       "interactive(children=(FloatSlider(value=0.0042875, continuous_update=False, description='Distance: ', max=0.01…"
      ]
     },
     "metadata": {},
     "output_type": "display_data"
    },
    {
     "data": {
      "application/vnd.jupyter.widget-view+json": {
       "model_id": "c573a9517f0443b2a86f5b7403882c21",
       "version_major": 2,
       "version_minor": 0
      },
      "text/plain": [
       "FigureWidget({\n",
       "    'data': [{'r': array([-0.01761919, -0.0208873 , -0.02442595, ..., -0.00945677, -0.01190216,…"
      ]
     },
     "metadata": {},
     "output_type": "display_data"
    }
   ],
   "source": [
    "vphi = np.arange(-np.pi, np.pi, np.pi/1000)\n",
    "t = np.arange(0, Ts, Ts/100)\n",
    "\n",
    "t_grid, vphi_grid = np.meshgrid(t, vphi)\n",
    "\n",
    "d_slider = widgets.FloatSlider(\n",
    "    value=wavelength/2,\n",
    "    min=0,\n",
    "    max=2 * wavelength,\n",
    "    step=wavelength/100,\n",
    "    description=\"Distance: \",\n",
    "    disabled=False,\n",
    "    continuous_update=False,\n",
    "    orientation='horizontal',\n",
    "    readout=True,\n",
    "    readout_format='.5f',\n",
    ")\n",
    "\n",
    "N_slider = widgets.IntSlider(\n",
    "    value=2,\n",
    "    min=1,\n",
    "    max=20,\n",
    "    step=1,\n",
    "    description=\"Transducers: \",\n",
    "    disabled=False,\n",
    "    continuous_update=False,\n",
    "    orientation='horizontal',\n",
    "    readout=True,\n",
    ")\n",
    "\n",
    "figP2DM = go.FigureWidget()\n",
    "figP2DM.update_layout(\n",
    "    autosize=False,\n",
    "    width=800,\n",
    "    height=500,\n",
    "    margin=dict(\n",
    "        l=40,\n",
    "        r=30,\n",
    "        b=40,\n",
    "        t=30,\n",
    "        pad=4\n",
    "    ),\n",
    "    polar=dict(radialaxis_range=[-30, 0])\n",
    ")\n",
    "figP2DM.add_scatterpolar(theta=vphi)\n",
    "polarP2DM = figP2DM.data[0]\n",
    "\n",
    "\n",
    "@interact(d=d_slider, N=N_slider)\n",
    "def plot2DBeamPolar(d, N):\n",
    "  s = np.zeros([len(vphi), len(t)])\n",
    "\n",
    "  for n in range(N):\n",
    "    s = s + transducerMod(n, d, vphi_grid, f, fs, t_grid, m, 1)\n",
    "\n",
    "  S = np.abs(fft.fft(s))\n",
    "  E = np.sum(S, 1)\n",
    "  E_dB = 20 * np.log10(E/np.max(E))\n",
    "\n",
    "  polarP2DM.r = E_dB\n",
    "\n",
    "\n",
    "figP2DM"
   ]
  }
 ],
 "metadata": {
  "interpreter": {
   "hash": "c650d7ea476703797fef1616c599c5fe06f1b1bacf69f4e17f09dcc79ec3c159"
  },
  "kernelspec": {
   "display_name": "Python 3.9.4 ('data')",
   "language": "python",
   "name": "python3"
  },
  "language_info": {
   "codemirror_mode": {
    "name": "ipython",
    "version": 3
   },
   "file_extension": ".py",
   "mimetype": "text/x-python",
   "name": "python",
   "nbconvert_exporter": "python",
   "pygments_lexer": "ipython3",
   "version": "3.9.4"
  },
  "orig_nbformat": 4
 },
 "nbformat": 4,
 "nbformat_minor": 2
}
