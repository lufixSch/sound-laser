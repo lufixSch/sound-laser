{
 "cells": [
  {
   "cell_type": "code",
   "execution_count": 1,
   "metadata": {},
   "outputs": [],
   "source": [
    "import numpy as np\n",
    "from numpy import fft\n",
    "\n",
    "import ipywidgets as widgets\n",
    "from ipywidgets import interact\n",
    "\n",
    "import plotly.express as px\n",
    "import plotly.graph_objects as go\n",
    "\n",
    "import matplotlib.pyplot as plt"
   ]
  },
  {
   "cell_type": "markdown",
   "metadata": {},
   "source": [
    "### Parameters"
   ]
  },
  {
   "cell_type": "code",
   "execution_count": 2,
   "metadata": {},
   "outputs": [],
   "source": [
    "cs = 343\n",
    "\n",
    "f = 40e3  # carrier frequency\n",
    "T = 1/f\n",
    "\n",
    "wavelength = cs/f"
   ]
  },
  {
   "cell_type": "markdown",
   "metadata": {},
   "source": [
    "# Linear phased array beamforming"
   ]
  },
  {
   "cell_type": "code",
   "execution_count": 3,
   "metadata": {},
   "outputs": [],
   "source": [
    "def transducerPhase(n, d, phi):\n",
    "  wavelength = cs/f\n",
    "\n",
    "  return np.cos(n * 2 * np.pi / wavelength * d * np.sin(phi))\n",
    "\n",
    "def transducer(n, d, phi, f, t):\n",
    "  w = 2 * np.pi * f\n",
    "  wavelength = cs/f\n",
    "  \n",
    "  return np.cos(w * t + n * 2 * np.pi / wavelength * d * np.sin(phi))\n"
   ]
  },
  {
   "cell_type": "code",
   "execution_count": 4,
   "metadata": {},
   "outputs": [],
   "source": [
    "def angularEnergy(V):\n",
    "  vE = np.abs(V)\n",
    "  E = np.array(np.sum(vE, 1)).flatten()\n",
    "  E_dB = 20 * np.log10(E/max(E))\n",
    "  return E_dB"
   ]
  },
  {
   "cell_type": "markdown",
   "metadata": {},
   "source": [
    "## 2 transducer"
   ]
  },
  {
   "cell_type": "markdown",
   "metadata": {},
   "source": [
    "### Time signals"
   ]
  },
  {
   "cell_type": "code",
   "execution_count": 5,
   "metadata": {},
   "outputs": [
    {
     "data": {
      "application/vnd.jupyter.widget-view+json": {
       "model_id": "56f46f08954a40549272c850eeaa910a",
       "version_major": 2,
       "version_minor": 0
      },
      "text/plain": [
       "interactive(children=(FloatSlider(value=0.0, continuous_update=False, description='Angle: ', max=3.14159265358…"
      ]
     },
     "metadata": {},
     "output_type": "display_data"
    },
    {
     "data": {
      "application/vnd.jupyter.widget-view+json": {
       "model_id": "903bf005b65e451a8cbd1d3b7a61a5b9",
       "version_major": 2,
       "version_minor": 0
      },
      "text/plain": [
       "FigureWidget({\n",
       "    'data': [{'name': 'n: 0',\n",
       "              'type': 'scatter',\n",
       "              'uid': 'f77d7549-e…"
      ]
     },
     "metadata": {},
     "output_type": "display_data"
    }
   ],
   "source": [
    "t = np.arange(-T, T, T/100)\n",
    "\n",
    "phi_slider = widgets.FloatSlider(\n",
    "    value=0,\n",
    "    min=-np.pi,\n",
    "    max=np.pi,\n",
    "    step=0.01,\n",
    "    description=\"Angle: \",\n",
    "    disabled=False,\n",
    "    continuous_update=False,\n",
    "    orientation='horizontal',\n",
    "    readout=True,\n",
    "    readout_format='.2f',\n",
    ")\n",
    "\n",
    "d_slider = widgets.FloatSlider(\n",
    "    value=wavelength/2,\n",
    "    min=0,\n",
    "    max=wavelength,\n",
    "    step=wavelength/100,\n",
    "    description=\"Distance: \",\n",
    "    disabled=False,\n",
    "    continuous_update=False,\n",
    "    orientation='horizontal',\n",
    "    readout=True,\n",
    "    readout_format='.5f',\n",
    ")\n",
    "\n",
    "figT = go.FigureWidget()\n",
    "figT.update_layout(\n",
    "    autosize=False,\n",
    "    width=800,\n",
    "    height=500,\n",
    "    margin=dict(\n",
    "        l=40,\n",
    "        r=30,\n",
    "        b=40,\n",
    "        t=30,\n",
    "        pad=4\n",
    "    ),\n",
    "    xaxis_title=\"t in s\",\n",
    "    yaxis_title=\"Magnitude\",\n",
    "    yaxis=dict(range=[-2, 2])\n",
    ")\n",
    "figT.add_scatter(x=t, name=\"n: 0\")\n",
    "figT.add_scatter(x=t, name=\"n: 1\")\n",
    "figT.add_scatter(x=t, name=\"Sum\")\n",
    "\n",
    "@interact(phi=phi_slider, d=d_slider)\n",
    "def plot2DBeamSignals(phi, d):\n",
    "    E1 = transducer(0, d, phi, f, t)\n",
    "    E2 = transducer(1, d, phi, f, t)\n",
    "    E = E1 + E2\n",
    "    \n",
    "    figT.data[0].y = E1\n",
    "    figT.data[1].y = E2\n",
    "    figT.data[2].y = E\n",
    "  \n",
    "figT"
   ]
  },
  {
   "cell_type": "markdown",
   "metadata": {},
   "source": [
    "### Polar signal"
   ]
  },
  {
   "cell_type": "code",
   "execution_count": 6,
   "metadata": {},
   "outputs": [
    {
     "data": {
      "application/vnd.jupyter.widget-view+json": {
       "model_id": "37fce8383e7c4a8fb7d1f4b665837b0b",
       "version_major": 2,
       "version_minor": 0
      },
      "text/plain": [
       "interactive(children=(FloatSlider(value=0.0042875, continuous_update=False, description='Distance: ', max=0.00…"
      ]
     },
     "metadata": {},
     "output_type": "display_data"
    },
    {
     "data": {
      "application/vnd.jupyter.widget-view+json": {
       "model_id": "7d870342e2294c1a844223bd364464de",
       "version_major": 2,
       "version_minor": 0
      },
      "text/plain": [
       "FigureWidget({\n",
       "    'data': [{'r': array([ 0.        , -0.00528813, -0.02115374, ..., -0.0476005 , -0.02115374,…"
      ]
     },
     "metadata": {},
     "output_type": "display_data"
    }
   ],
   "source": [
    "N = 2\n",
    "#vphi = np.transpose(np.matrix(np.arange(-np.pi, np.pi, np.pi/200)))\n",
    "vphi = np.arange(-np.pi, np.pi, np.pi/200)\n",
    "\n",
    "d_slider = widgets.FloatSlider(\n",
    "    value=wavelength/2,\n",
    "    min=0,\n",
    "    max=wavelength,\n",
    "    step=wavelength/100,\n",
    "    description=\"Distance: \",\n",
    "    disabled=False,\n",
    "    continuous_update=False,\n",
    "    orientation='horizontal',\n",
    "    readout=True,\n",
    "    readout_format='.5f',\n",
    ")\n",
    "\n",
    "figP = go.FigureWidget()\n",
    "figP.update_layout(\n",
    "    autosize=False,\n",
    "    width=800,\n",
    "    height=500,\n",
    "    margin=dict(\n",
    "        l=40,\n",
    "        r=30,\n",
    "        b=40,\n",
    "        t=30,\n",
    "        pad=4\n",
    "    ),\n",
    "    polar = dict(radialaxis_range=[-30, 0])\n",
    ")\n",
    "figP.add_scatterpolar(theta=vphi)\n",
    "polarP = figP.data[0]\n",
    "\n",
    "@interact(d=d_slider)\n",
    "def plot2DBeamPolar(d):\n",
    "  E = np.zeros(len(vphi))\n",
    "  for n in range(N):\n",
    "    E = E + transducerPhase(n, d, vphi)\n",
    "\n",
    "  E_dB = 20 * np.log10(1/N * np.abs(E))\n",
    "    \n",
    "  polarP.r = E_dB\n",
    "\n",
    "figP\n"
   ]
  },
  {
   "cell_type": "markdown",
   "metadata": {},
   "source": [
    "### Polar with FFT"
   ]
  },
  {
   "cell_type": "code",
   "execution_count": 29,
   "metadata": {},
   "outputs": [
    {
     "data": {
      "application/vnd.jupyter.widget-view+json": {
       "model_id": "03f99911fc6447e3a5a9d1fb2e0b9ddc",
       "version_major": 2,
       "version_minor": 0
      },
      "text/plain": [
       "interactive(children=(FloatSlider(value=0.0042875, continuous_update=False, description='Distance: ', max=0.00…"
      ]
     },
     "metadata": {},
     "output_type": "display_data"
    },
    {
     "data": {
      "application/vnd.jupyter.widget-view+json": {
       "model_id": "89b8159d040647349ec71baf1bb0f3fa",
       "version_major": 2,
       "version_minor": 0
      },
      "text/plain": [
       "FigureWidget({\n",
       "    'data': [{'r': array([-8.18689032e-04, -1.92865493e-15, -1.36217649e-03, ..., -6.48821601e-…"
      ]
     },
     "metadata": {},
     "output_type": "display_data"
    }
   ],
   "source": [
    "N = 2\n",
    "#vphi = np.transpose(np.matrix(np.arange(-np.pi, np.pi, np.pi/200)))\n",
    "vphi = np.arange(-np.pi, np.pi, np.pi/200)\n",
    "t = np.arange(0, T, T/100)\n",
    "\n",
    "t_grid, vphi_grid = np.meshgrid(t, vphi)\n",
    "\n",
    "d_slider = widgets.FloatSlider(\n",
    "    value=wavelength/2,\n",
    "    min=0,\n",
    "    max=wavelength,\n",
    "    step=wavelength/100,\n",
    "    description=\"Distance: \",\n",
    "    disabled=False,\n",
    "    continuous_update=False,\n",
    "    orientation='horizontal',\n",
    "    readout=True,\n",
    "    readout_format='.5f',\n",
    ")\n",
    "\n",
    "figP = go.FigureWidget()\n",
    "figP.update_layout(\n",
    "    autosize=False,\n",
    "    width=800,\n",
    "    height=500,\n",
    "    margin=dict(\n",
    "        l=40,\n",
    "        r=30,\n",
    "        b=40,\n",
    "        t=30,\n",
    "        pad=4\n",
    "    ),\n",
    "    polar=dict(radialaxis_range=[-30, 0])\n",
    ")\n",
    "figP.add_scatterpolar(theta=vphi)\n",
    "polarP = figP.data[0]\n",
    "\n",
    "\n",
    "@interact(d=d_slider)\n",
    "def plot2DBeamPolar(d):\n",
    "  s = np.zeros([len(vphi), len(t)])\n",
    "\n",
    "  for n in range(N):\n",
    "    s = s + transducer(n, d, vphi_grid, f, t_grid)\n",
    "\n",
    "  S = np.abs(fft.fft(s))\n",
    "  E = np.sum(S, 1)\n",
    "  E_dB = 20 * np.log10(E/np.max(E))\n",
    "\n",
    "  polarP.r = E_dB\n",
    "\n",
    "figP"
   ]
  },
  {
   "cell_type": "markdown",
   "metadata": {},
   "source": [
    "## N transducer\n",
    "### Time signal"
   ]
  },
  {
   "cell_type": "code",
   "execution_count": 7,
   "metadata": {},
   "outputs": [
    {
     "data": {
      "application/vnd.jupyter.widget-view+json": {
       "model_id": "eb7fb572545d487581682763774d261d",
       "version_major": 2,
       "version_minor": 0
      },
      "text/plain": [
       "interactive(children=(FloatSlider(value=0.0, continuous_update=False, description='Angle: ', max=3.14159265358…"
      ]
     },
     "metadata": {},
     "output_type": "display_data"
    },
    {
     "data": {
      "application/vnd.jupyter.widget-view+json": {
       "model_id": "cc4bdb1484e643e1a8062fd2aa78e40b",
       "version_major": 2,
       "version_minor": 0
      },
      "text/plain": [
       "FigureWidget({\n",
       "    'data': [{'name': 'n: 0',\n",
       "              'type': 'scatter',\n",
       "              'uid': '906fe383-6…"
      ]
     },
     "metadata": {},
     "output_type": "display_data"
    }
   ],
   "source": [
    "t = np.arange(-T, T, T/100)\n",
    "\n",
    "phi_slider = widgets.FloatSlider(\n",
    "    value=0,\n",
    "    min=-np.pi,\n",
    "    max=np.pi,\n",
    "    step=0.01,\n",
    "    description=\"Angle: \",\n",
    "    disabled=False,\n",
    "    continuous_update=False,\n",
    "    orientation='horizontal',\n",
    "    readout=True,\n",
    "    readout_format='.2f',\n",
    ")\n",
    "\n",
    "d_slider = widgets.FloatSlider(\n",
    "    value=wavelength/2,\n",
    "    min=0,\n",
    "    max=wavelength,\n",
    "    step=wavelength/100,\n",
    "    description=\"Distance: \",\n",
    "    disabled=False,\n",
    "    continuous_update=False,\n",
    "    orientation='horizontal',\n",
    "    readout=True,\n",
    "    readout_format='.5f',\n",
    ")\n",
    "\n",
    "N_slider = widgets.IntSlider(\n",
    "    value=2,\n",
    "    min=1,\n",
    "    max=20,\n",
    "    step=1,\n",
    "    description=\"Transducers: \",\n",
    "    disabled=False,\n",
    "    continuous_update=False,\n",
    "    orientation='horizontal',\n",
    "    readout=True,\n",
    ")\n",
    "\n",
    "figT2D = go.FigureWidget()\n",
    "figT2D.update_layout(\n",
    "    autosize=False,\n",
    "    width=800,\n",
    "    height=500,\n",
    "    margin=dict(\n",
    "        l=40,\n",
    "        r=30,\n",
    "        b=40,\n",
    "        t=30,\n",
    "        pad=4\n",
    "    ),\n",
    "    xaxis_title=\"t in s\",\n",
    "    yaxis_title=\"Magnitude\"\n",
    ")\n",
    "\n",
    "@interact(phi=phi_slider, d=d_slider, N=N_slider)\n",
    "def plot2DBeamSignals(phi, d, N):\n",
    "    En = np.zeros([N, len(t)])\n",
    "    \n",
    "    figT2D.data = []\n",
    "    figT2D.update_layout(yaxis=dict(range=[-N, N]))\n",
    "    \n",
    "    for n in range(N):\n",
    "        En[n] = transducer(n, d, phi, f, t)\n",
    "        figT2D.add_scatter(x=t, y=En[n], name=f\"n: {n}\")\n",
    "\n",
    "    E = np.sum(En, 0)\n",
    "    \n",
    "    figT2D.add_scatter(x=t, y=E, name=\"Sum\")\n",
    "\n",
    "\n",
    "figT2D\n"
   ]
  },
  {
   "cell_type": "markdown",
   "metadata": {},
   "source": [
    "### Polar signal"
   ]
  },
  {
   "cell_type": "code",
   "execution_count": 14,
   "metadata": {},
   "outputs": [
    {
     "data": {
      "application/vnd.jupyter.widget-view+json": {
       "model_id": "5d2f719360584036822d5918a035b5e2",
       "version_major": 2,
       "version_minor": 0
      },
      "text/plain": [
       "interactive(children=(FloatSlider(value=0.0042875, continuous_update=False, description='Distance: ', max=0.01…"
      ]
     },
     "metadata": {},
     "output_type": "display_data"
    },
    {
     "data": {
      "application/vnd.jupyter.widget-view+json": {
       "model_id": "b6b8d5b125f845a892ca4fff50332028",
       "version_major": 2,
       "version_minor": 0
      },
      "text/plain": [
       "FigureWidget({\n",
       "    'data': [{'r': array([ 0.        , -0.00021152, -0.00084609, ..., -0.0019037 , -0.00084609,…"
      ]
     },
     "metadata": {},
     "output_type": "display_data"
    }
   ],
   "source": [
    "#vphi = np.transpose(np.matrix(np.arange(-np.pi, np.pi, np.pi/1000)))\n",
    "vphi = np.arange(-np.pi, np.pi, np.pi/1000)\n",
    "\n",
    "d_slider = widgets.FloatSlider(\n",
    "    value=wavelength/2,\n",
    "    min=0,\n",
    "    max=2 * wavelength,\n",
    "    step=wavelength/100,\n",
    "    description=\"Distance: \",\n",
    "    disabled=False,\n",
    "    continuous_update=False,\n",
    "    orientation='horizontal',\n",
    "    readout=True,\n",
    "    readout_format='.5f',\n",
    ")\n",
    "\n",
    "N_slider = widgets.IntSlider(\n",
    "    value=2,\n",
    "    min=1,\n",
    "    max=20,\n",
    "    step=1,\n",
    "    description=\"Transducers: \",\n",
    "    disabled=False,\n",
    "    continuous_update=False,\n",
    "    orientation='horizontal',\n",
    "    readout=True,\n",
    ")\n",
    "\n",
    "figP2D = go.FigureWidget()\n",
    "figP2D.update_layout(\n",
    "    autosize=False,\n",
    "    width=800,\n",
    "    height=500,\n",
    "    margin=dict(\n",
    "        l=40,\n",
    "        r=30,\n",
    "        b=40,\n",
    "        t=30,\n",
    "        pad=4\n",
    "    ),\n",
    "    polar=dict(radialaxis_range=[-30, 0])\n",
    ")\n",
    "figP2D.add_scatterpolar(theta=vphi)\n",
    "polarP2D = figP2D.data[0]\n",
    "\n",
    "@interact(d=d_slider, N=N_slider)\n",
    "def plot2DBeamPolar(d, N):\n",
    "  E = np.zeros(len(vphi))\n",
    "  for n in range(N):\n",
    "    E = E + transducerPhase(n, d, vphi)\n",
    "\n",
    "  E_dB = 20 * np.log10(1/N * np.abs(E)) #20 * np.log10(np.abs(E)/np.max(np.abs(E)))\n",
    "\n",
    "  polarP2D.r = E_dB\n",
    "\n",
    "figP2D"
   ]
  },
  {
   "cell_type": "markdown",
   "metadata": {},
   "source": [
    "### Polar with FFT"
   ]
  },
  {
   "cell_type": "code",
   "execution_count": 31,
   "metadata": {},
   "outputs": [
    {
     "data": {
      "application/vnd.jupyter.widget-view+json": {
       "model_id": "10dcbdbd40694a33a7c3705e67950205",
       "version_major": 2,
       "version_minor": 0
      },
      "text/plain": [
       "interactive(children=(FloatSlider(value=0.0042875, continuous_update=False, description='Distance: ', max=0.01…"
      ]
     },
     "metadata": {},
     "output_type": "display_data"
    },
    {
     "data": {
      "application/vnd.jupyter.widget-view+json": {
       "model_id": "3f859d33fda64aa7b2cdaf671a7faf51",
       "version_major": 2,
       "version_minor": 0
      },
      "text/plain": [
       "FigureWidget({\n",
       "    'data': [{'r': array([-0.00081869, -0.00068578, -0.00046385, ..., -0.00024787, -0.00046385,…"
      ]
     },
     "metadata": {},
     "output_type": "display_data"
    }
   ],
   "source": [
    "#vphi = np.transpose(np.matrix(np.arange(-np.pi, np.pi, np.pi/1000)))\n",
    "vphi = np.arange(-np.pi, np.pi, np.pi/1000)\n",
    "t = np.arange(0, T, T/100)\n",
    "\n",
    "t_grid , vphi_grid = np.meshgrid(t, vphi)\n",
    "\n",
    "d_slider = widgets.FloatSlider(\n",
    "    value=wavelength/2,\n",
    "    min=0,\n",
    "    max=2 * wavelength,\n",
    "    step=wavelength/100,\n",
    "    description=\"Distance: \",\n",
    "    disabled=False,\n",
    "    continuous_update=False,\n",
    "    orientation='horizontal',\n",
    "    readout=True,\n",
    "    readout_format='.5f',\n",
    ")\n",
    "\n",
    "N_slider = widgets.IntSlider(\n",
    "    value=2,\n",
    "    min=1,\n",
    "    max=20,\n",
    "    step=1,\n",
    "    description=\"Transducers: \",\n",
    "    disabled=False,\n",
    "    continuous_update=False,\n",
    "    orientation='horizontal',\n",
    "    readout=True,\n",
    ")\n",
    "\n",
    "figP2D = go.FigureWidget()\n",
    "figP2D.update_layout(\n",
    "    autosize=False,\n",
    "    width=800,\n",
    "    height=500,\n",
    "    margin=dict(\n",
    "        l=40,\n",
    "        r=30,\n",
    "        b=40,\n",
    "        t=30,\n",
    "        pad=4\n",
    "    ),\n",
    "    polar=dict(radialaxis_range=[-30, 0])\n",
    ")\n",
    "figP2D.add_scatterpolar(theta=vphi)\n",
    "polarP2D = figP2D.data[0]\n",
    "\n",
    "@interact(d=d_slider, N=N_slider)\n",
    "def plot2DBeamPolar(d, N):\n",
    "  s = np.zeros([len(vphi), len(t)])\n",
    "\n",
    "  for n in range(N):\n",
    "    s = s + transducer(n, d, vphi_grid, f, t_grid)\n",
    "\n",
    "  S = np.abs(fft.fft(s))\n",
    "  E = np.sum(S, 1)\n",
    "  E_dB = 20 * np.log10(E/np.max(E))\n",
    "\n",
    "  polarP2D.r = E_dB\n",
    "\n",
    "figP2D"
   ]
  },
  {
   "cell_type": "markdown",
   "metadata": {},
   "source": [
    "# 3D Array"
   ]
  },
  {
   "cell_type": "code",
   "execution_count": 3,
   "metadata": {},
   "outputs": [],
   "source": [
    "def transducerPhase3D(n, m, d, phi, alpha):\n",
    "  wavelength = cs/f\n",
    "\n",
    "  return np.cos(2 * np.pi / wavelength * d * np.sqrt(np.power(n * np.sin(phi), 2) + np.power(m * np.sin(alpha), 2)))\n",
    "\n",
    "def transducer3D(n, m, d, phi, alpha, f, t):\n",
    "  w = 2 * np.pi * f\n",
    "  wavelength = cs/f\n",
    "\n",
    "  phase = 2 * np.pi / wavelength * d * np.sqrt(np.power(n * np.sin(phi), 2) + np.power(m * np.sin(alpha), 2))\n",
    "\n",
    "  return np.cos(w * t + phase)"
   ]
  },
  {
   "cell_type": "code",
   "execution_count": 4,
   "metadata": {},
   "outputs": [],
   "source": [
    "def angularEnergy3D(V):\n",
    "  vE = np.power(np.abs(V), 2)\n",
    "  E = np.array(np.sum(vE, 2))\n",
    "\n",
    "  return E/np.max(E)"
   ]
  },
  {
   "cell_type": "markdown",
   "metadata": {},
   "source": [
    "## N Transducer"
   ]
  },
  {
   "cell_type": "markdown",
   "metadata": {},
   "source": [
    "### Time Signal"
   ]
  },
  {
   "cell_type": "code",
   "execution_count": 11,
   "metadata": {},
   "outputs": [
    {
     "data": {
      "application/vnd.jupyter.widget-view+json": {
       "model_id": "bea8f89cac2e40079ad52d61d2d46973",
       "version_major": 2,
       "version_minor": 0
      },
      "text/plain": [
       "interactive(children=(FloatSlider(value=0.0, continuous_update=False, description='Angle N: ', max=3.141592653…"
      ]
     },
     "metadata": {},
     "output_type": "display_data"
    },
    {
     "data": {
      "application/vnd.jupyter.widget-view+json": {
       "model_id": "2d63303d79f54b659ba0d87e3eebd6a0",
       "version_major": 2,
       "version_minor": 0
      },
      "text/plain": [
       "FigureWidget({\n",
       "    'data': [{'name': 'n: 0, m: 0',\n",
       "              'type': 'scatter',\n",
       "              'uid': '01ac…"
      ]
     },
     "metadata": {},
     "output_type": "display_data"
    }
   ],
   "source": [
    "t = np.arange(-T, T, T/100)\n",
    "\n",
    "phi_slider = widgets.FloatSlider(\n",
    "    value=0,\n",
    "    min=-np.pi,\n",
    "    max=np.pi,\n",
    "    step=0.01,\n",
    "    description=\"Angle N: \",\n",
    "    disabled=False,\n",
    "    continuous_update=False,\n",
    "    orientation='horizontal',\n",
    "    readout=True,\n",
    "    readout_format='.2f',\n",
    ")\n",
    "\n",
    "alpha_slider = widgets.FloatSlider(\n",
    "    value=0,\n",
    "    min=-np.pi,\n",
    "    max=np.pi,\n",
    "    step=0.01,\n",
    "    description=\"Angle M: \",\n",
    "    disabled=False,\n",
    "    continuous_update=False,\n",
    "    orientation='horizontal',\n",
    "    readout=True,\n",
    "    readout_format='.2f',\n",
    ")\n",
    "\n",
    "d_slider = widgets.FloatSlider(\n",
    "    value=wavelength/2,\n",
    "    min=0,\n",
    "    max=wavelength,\n",
    "    step=wavelength/100,\n",
    "    description=\"Distance: \",\n",
    "    disabled=False,\n",
    "    continuous_update=False,\n",
    "    orientation='horizontal',\n",
    "    readout=True,\n",
    "    readout_format='.5f',\n",
    ")\n",
    "\n",
    "N_slider = widgets.IntSlider(\n",
    "    value=2,\n",
    "    min=1,\n",
    "    max=20,\n",
    "    step=1,\n",
    "    description=\"N: \",\n",
    "    disabled=False,\n",
    "    continuous_update=False,\n",
    "    orientation='horizontal',\n",
    "    readout=True,\n",
    ")\n",
    "\n",
    "M_slider = widgets.IntSlider(\n",
    "    value=2,\n",
    "    min=1,\n",
    "    max=20,\n",
    "    step=1,\n",
    "    description=\"M: \",\n",
    "    disabled=False,\n",
    "    continuous_update=False,\n",
    "    orientation='horizontal',\n",
    "    readout=True,\n",
    ")\n",
    "\n",
    "figT3D = go.FigureWidget()\n",
    "figT3D.update_layout(\n",
    "    autosize=False,\n",
    "    width=800,\n",
    "    height=500,\n",
    "    margin=dict(\n",
    "        l=40,\n",
    "        r=30,\n",
    "        b=40,\n",
    "        t=30,\n",
    "        pad=4\n",
    "    ),\n",
    "    xaxis_title=\"t in s\",\n",
    "    yaxis_title=\"Magnitude\"\n",
    ")\n",
    "\n",
    "\n",
    "@interact(d=d_slider, phi=phi_slider, N=N_slider, alpha=alpha_slider, M=M_slider)\n",
    "def plot3DBeamSignals(phi, alpha, d, N, M):\n",
    "    En = np.zeros([N, M, len(t)])\n",
    "\n",
    "    # plt.figure(figsize=[10, 4])\n",
    "    figT3D.data = []\n",
    "    figT3D.update_layout(yaxis=dict(range=[-N*M, N*M]))\n",
    "    for n in range(N):\n",
    "        for m in range(M):\n",
    "            En[n, m] = transducer3D(n, m, d, phi, alpha, f, t)\n",
    "            # plt.plot(t, En[n, m])\n",
    "            figT3D.add_scatter(x=t, y=En[n,m], name=f\"n: {n}, m: {m}\", )\n",
    "\n",
    "    E = np.sum(En, (0, 1))\n",
    "\n",
    "    figT3D.add_scatter(x=t, y=E, name=\"Sum\")\n",
    "\n",
    "figT3D\n"
   ]
  },
  {
   "cell_type": "markdown",
   "metadata": {},
   "source": [
    "### Polar Signal"
   ]
  },
  {
   "cell_type": "code",
   "execution_count": 13,
   "metadata": {},
   "outputs": [
    {
     "data": {
      "application/vnd.jupyter.widget-view+json": {
       "model_id": "a2995fcaaeed435583f8f3a64260a933",
       "version_major": 2,
       "version_minor": 0
      },
      "text/plain": [
       "interactive(children=(FloatSlider(value=0.0042875, continuous_update=False, description='Distance: ', max=0.01…"
      ]
     },
     "metadata": {},
     "output_type": "display_data"
    },
    {
     "data": {
      "application/vnd.jupyter.widget-view+json": {
       "model_id": "af0199662b7a4467bdfe8933f688eae5",
       "version_major": 2,
       "version_minor": 0
      },
      "text/plain": [
       "FigureWidget({\n",
       "    'data': [{'type': 'surface',\n",
       "              'uid': 'bf642f3e-e89d-4f01-ab96-f3302eb3ba58',\n",
       " …"
      ]
     },
     "metadata": {},
     "output_type": "display_data"
    }
   ],
   "source": [
    "vphi = np.transpose(np.arange(-np.pi, np.pi, np.pi/200))\n",
    "valpha = np.arange(-np.pi, np.pi, np.pi/200)\n",
    "\n",
    "d_slider = widgets.FloatSlider(\n",
    "    value=wavelength/2,\n",
    "    min=0,\n",
    "    max=2 * wavelength,\n",
    "    step=wavelength/100,\n",
    "    description=\"Distance: \",\n",
    "    disabled=False,\n",
    "    continuous_update=False,\n",
    "    orientation='horizontal',\n",
    "    readout=True,\n",
    "    readout_format='.5f',\n",
    ")\n",
    "\n",
    "N_slider = widgets.IntSlider(\n",
    "    value=2,\n",
    "    min=1,\n",
    "    max=20,\n",
    "    step=1,\n",
    "    description=\"N: \",\n",
    "    disabled=False,\n",
    "    continuous_update=False,\n",
    "    orientation='horizontal',\n",
    "    readout=True,\n",
    ")\n",
    "\n",
    "M_slider = widgets.IntSlider(\n",
    "    value=2,\n",
    "    min=1,\n",
    "    max=20,\n",
    "    step=1,\n",
    "    description=\"M: \",\n",
    "    disabled=False,\n",
    "    continuous_update=False,\n",
    "    orientation='horizontal',\n",
    "    readout=True,\n",
    ")\n",
    "\n",
    "figP3D = go.FigureWidget()\n",
    "figP3D.add_surface()\n",
    "figP3D.update_layout(\n",
    "    autosize=False, \n",
    "    width=800, \n",
    "    height=500, \n",
    "    margin=dict(\n",
    "        l=30,\n",
    "        r=30,\n",
    "        b=30,\n",
    "        t=30,\n",
    "        pad=4\n",
    "    ),\n",
    "    scene=dict(\n",
    "        xaxis=dict(range=[-1, 1]),\n",
    "        yaxis=dict(range=[-1, 1]),\n",
    "        zaxis=dict(range=[-1, 1]),\n",
    "    ),\n",
    ")\n",
    "surP3D = figP3D.data[0]\n",
    "\n",
    "@interact(d=d_slider, N=N_slider, M=M_slider)\n",
    "def plot3DBeamPolar(d, N, M):\n",
    "    phi_grid, alpha_grid = np.meshgrid(vphi, valpha)\n",
    "\n",
    "    E = np.zeros([len(vphi), len(valpha)])\n",
    "    for n in range(N):\n",
    "        for m in range(M):\n",
    "            E = E + transducerPhase3D(n, m, d, phi_grid, alpha_grid)\n",
    "\n",
    "    E_dB = 20 * np.log10(1/(N*M) * np.abs(E))\n",
    "\n",
    "    X = np.cos(alpha_grid) * np.cos(phi_grid) * 1/(N*M) * E\n",
    "    Y = np.cos(alpha_grid) * np.sin(phi_grid) * 1/(N*M) * E\n",
    "    Z = np.sin(alpha_grid) * 1/(N*M) * E\n",
    "\n",
    "    with figP3D.batch_update():\n",
    "        surP3D.x = X\n",
    "        surP3D.y = Y\n",
    "        surP3D.z = Z\n",
    "\n",
    "figP3D"
   ]
  },
  {
   "cell_type": "markdown",
   "metadata": {},
   "source": [
    "### Polar with FFT"
   ]
  },
  {
   "cell_type": "code",
   "execution_count": 14,
   "metadata": {},
   "outputs": [
    {
     "data": {
      "application/vnd.jupyter.widget-view+json": {
       "model_id": "66a3b1081c094cd7ba371f81da7beb06",
       "version_major": 2,
       "version_minor": 0
      },
      "text/plain": [
       "interactive(children=(FloatSlider(value=0.0042875, continuous_update=False, description='Distance: ', max=0.01…"
      ]
     },
     "metadata": {},
     "output_type": "display_data"
    },
    {
     "data": {
      "application/vnd.jupyter.widget-view+json": {
       "model_id": "92fd4756070f4884a1534e1e24824708",
       "version_major": 2,
       "version_minor": 0
      },
      "text/plain": [
       "FigureWidget({\n",
       "    'data': [{'type': 'surface',\n",
       "              'uid': '80398a0b-7654-4669-a91b-19f6fbe4dd96',\n",
       " …"
      ]
     },
     "metadata": {},
     "output_type": "display_data"
    }
   ],
   "source": [
    "vphi = np.transpose(np.arange(-np.pi, np.pi, np.pi/100))\n",
    "valpha = np.arange(-np.pi, np.pi, np.pi/100)\n",
    "t = np.arange(0, T, T/10)\n",
    "\n",
    "valpha_grid, vphi_grid, t_grid = np.meshgrid(valpha, vphi, t)\n",
    "alpha_grid, phi_grid = np.meshgrid(valpha, vphi)\n",
    "\n",
    "d_slider = widgets.FloatSlider(\n",
    "    value=wavelength/2,\n",
    "    min=0,\n",
    "    max=2 * wavelength,\n",
    "    step=wavelength/100,\n",
    "    description=\"Distance: \",\n",
    "    disabled=False,\n",
    "    continuous_update=False,\n",
    "    orientation='horizontal',\n",
    "    readout=True,\n",
    "    readout_format='.5f',\n",
    ")\n",
    "\n",
    "N_slider = widgets.IntSlider(\n",
    "    value=2,\n",
    "    min=1,\n",
    "    max=20,\n",
    "    step=1,\n",
    "    description=\"N: \",\n",
    "    disabled=False,\n",
    "    continuous_update=False,\n",
    "    orientation='horizontal',\n",
    "    readout=True,\n",
    ")\n",
    "\n",
    "M_slider = widgets.IntSlider(\n",
    "    value=2,\n",
    "    min=1,\n",
    "    max=20,\n",
    "    step=1,\n",
    "    description=\"M: \",\n",
    "    disabled=False,\n",
    "    continuous_update=False,\n",
    "    orientation='horizontal',\n",
    "    readout=True,\n",
    ")\n",
    "\n",
    "figP3D = go.FigureWidget()\n",
    "figP3D.add_surface()\n",
    "figP3D.update_layout(\n",
    "    autosize=False, \n",
    "    width=800, \n",
    "    height=500, \n",
    "    margin=dict(\n",
    "        l=30,\n",
    "        r=30,\n",
    "        b=30,\n",
    "        t=30,\n",
    "        pad=4\n",
    "    ),\n",
    "    scene=dict(\n",
    "        xaxis=dict(range=[-1, 1]),\n",
    "        yaxis=dict(range=[-1, 1]),\n",
    "        zaxis=dict(range=[-1, 1]),\n",
    "    ),\n",
    ")\n",
    "surP3D = figP3D.data[0]\n",
    "\n",
    "@interact(d=d_slider, N=N_slider, M=M_slider)\n",
    "def plot3DBeamPolar(d, N, M):\n",
    "    s = np.zeros([len(valpha), len(vphi), len(t)])\n",
    "    for n in range(N):\n",
    "        for m in range(M):\n",
    "            s = s + transducer3D(n, m, d, vphi_grid, valpha_grid, f, t_grid)\n",
    "\n",
    "    S = np.abs(fft.fft(s))\n",
    "    E = np.sum(S, 2)\n",
    "\n",
    "    X = np.cos(alpha_grid) * np.cos(phi_grid) * 1/np.max(E) * E\n",
    "    Y = np.cos(alpha_grid) * np.sin(phi_grid) * 1/np.max(E) * E\n",
    "    Z = np.sin(alpha_grid) * 1/np.max(E) * E\n",
    "\n",
    "    with figP3D.batch_update():\n",
    "        surP3D.x = X\n",
    "        surP3D.y = Y\n",
    "        surP3D.z = Z\n",
    "\n",
    "figP3D"
   ]
  },
  {
   "cell_type": "code",
   "execution_count": 34,
   "metadata": {},
   "outputs": [],
   "source": [
    "vphi = np.transpose(np.arange(-np.pi, np.pi, np.pi/200))\n",
    "valpha = np.arange(-np.pi, np.pi, np.pi/200)\n",
    "t = np.arange(0, T, T/100)\n",
    "\n",
    "N = 2\n",
    "M = 2\n",
    "\n",
    "valpha_grid, vphi_grid, t_grid = np.meshgrid(valpha, vphi, t)\n",
    "\n",
    "s = np.zeros([len(valpha), len(vphi), len(t)])\n",
    "for n in range(N):\n",
    "    for m in range(M):\n",
    "        s = s + transducer3D(n, m, wavelength/2, vphi_grid, valpha_grid, f, t_grid)\n",
    "\n",
    "S = np.abs(fft.fft(s))\n",
    "E = np.sum(S, 2)\n",
    "E_dB = 20 * np.log10(E/np.max(E))\n"
   ]
  }
 ],
 "metadata": {
  "interpreter": {
   "hash": "c650d7ea476703797fef1616c599c5fe06f1b1bacf69f4e17f09dcc79ec3c159"
  },
  "kernelspec": {
   "display_name": "Python 3.9.4 ('data')",
   "language": "python",
   "name": "python3"
  },
  "language_info": {
   "codemirror_mode": {
    "name": "ipython",
    "version": 3
   },
   "file_extension": ".py",
   "mimetype": "text/x-python",
   "name": "python",
   "nbconvert_exporter": "python",
   "pygments_lexer": "ipython3",
   "version": "3.9.4"
  },
  "orig_nbformat": 4
 },
 "nbformat": 4,
 "nbformat_minor": 2
}
